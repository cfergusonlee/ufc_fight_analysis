{
 "cells": [
  {
   "cell_type": "markdown",
   "metadata": {
    "_cell_guid": "6e5513b6-ee20-4f63-aa05-75bb5028652d",
    "_uuid": "ca856cb388c65fcd41ca38e28fe7d6c4ff60a1a1"
   },
   "source": [
    "# UFC Fight Analysis\n",
    "\n",
    "**By: [Courtney Ferguson Lee](linkedin.com/in/courtneyfergusonlee)**\n",
    "\n",
    "<img src='https://cdn.rawgit.com/spacecadet84/ufc_fight_analysis/9a8476b3/images/ufc_fighter_red_wordcloud.png'>"
   ]
  },
  {
   "cell_type": "markdown",
   "metadata": {
    "toc": "true"
   },
   "source": [
    " # Table of Contents\n",
    "<div class=\"toc\" style=\"margin-top: 1em;\"><ul class=\"toc-item\" id=\"toc-level0\"><li><span><a href=\"http://localhost:8888/notebooks/ufc_fight_analysis/ufc_analysis.ipynb#Introduction\" data-toc-modified-id=\"Introduction-1\"><span class=\"toc-item-num\">1&nbsp;&nbsp;</span>Introduction</a></span></li><li><span><a href=\"http://localhost:8888/notebooks/ufc_fight_analysis/ufc_analysis.ipynb#Background\" data-toc-modified-id=\"Background-2\"><span class=\"toc-item-num\">2&nbsp;&nbsp;</span>Background</a></span></li><li><span><a href=\"http://localhost:8888/notebooks/ufc_fight_analysis/ufc_analysis.ipynb#Data\" data-toc-modified-id=\"Data-3\"><span class=\"toc-item-num\">3&nbsp;&nbsp;</span>Data</a></span><ul class=\"toc-item\"><li><span><a href=\"http://localhost:8888/notebooks/ufc_fight_analysis/ufc_analysis.ipynb#Observations\" data-toc-modified-id=\"Observations-3.1\"><span class=\"toc-item-num\">3.1&nbsp;&nbsp;</span>Observations</a></span></li><li><span><a href=\"http://localhost:8888/notebooks/ufc_fight_analysis/ufc_analysis.ipynb#Missing-Data\" data-toc-modified-id=\"Missing-Data-3.2\"><span class=\"toc-item-num\">3.2&nbsp;&nbsp;</span>Missing Data</a></span></li></ul></li><li><span><a href=\"http://localhost:8888/notebooks/ufc_fight_analysis/ufc_analysis.ipynb#Minor-Aesthetics\" data-toc-modified-id=\"Minor-Aesthetics-4\"><span class=\"toc-item-num\">4&nbsp;&nbsp;</span>Minor Aesthetics</a></span><ul class=\"toc-item\"><li><span><a href=\"http://localhost:8888/notebooks/ufc_fight_analysis/ufc_analysis.ipynb#Rearranging-Columns\" data-toc-modified-id=\"Rearranging-Columns-4.1\"><span class=\"toc-item-num\">4.1&nbsp;&nbsp;</span>Rearranging Columns</a></span></li><li><span><a href=\"http://localhost:8888/notebooks/ufc_fight_analysis/ufc_analysis.ipynb#Reversing-the-Fight-Order\" data-toc-modified-id=\"Reversing-the-Fight-Order-4.2\"><span class=\"toc-item-num\">4.2&nbsp;&nbsp;</span>Reversing the Fight Order</a></span></li><li><span><a href=\"http://localhost:8888/notebooks/ufc_fight_analysis/ufc_analysis.ipynb#Editing-Name-Column\" data-toc-modified-id=\"Editing-Name-Column-4.3\"><span class=\"toc-item-num\">4.3&nbsp;&nbsp;</span>Editing Name Column</a></span></li></ul></li><li><span><a href=\"http://localhost:8888/notebooks/ufc_fight_analysis/ufc_analysis.ipynb#Comparing-Winners-and-Losers\" data-toc-modified-id=\"Comparing-Winners-and-Losers-5\"><span class=\"toc-item-num\">5&nbsp;&nbsp;</span>Comparing Winners and Losers</a></span></li><li><span><a href=\"http://localhost:8888/notebooks/ufc_fight_analysis/ufc_analysis.ipynb#Variables\" data-toc-modified-id=\"Variables-6\"><span class=\"toc-item-num\">6&nbsp;&nbsp;</span>Variables</a></span><ul class=\"toc-item\"><li><span><a href=\"http://localhost:8888/notebooks/ufc_fight_analysis/ufc_analysis.ipynb#Heatmap\" data-toc-modified-id=\"Heatmap-6.1\"><span class=\"toc-item-num\">6.1&nbsp;&nbsp;</span>Heatmap</a></span></li><li><span><a href=\"http://localhost:8888/notebooks/ufc_fight_analysis/ufc_analysis.ipynb#Strike-Targets\" data-toc-modified-id=\"Strike-Targets-6.2\"><span class=\"toc-item-num\">6.2&nbsp;&nbsp;</span>Strike Targets</a></span><ul class=\"toc-item\"><li><span><a href=\"http://localhost:8888/notebooks/ufc_fight_analysis/ufc_analysis.ipynb#Body\" data-toc-modified-id=\"Body-6.2.1\"><span class=\"toc-item-num\">6.2.1&nbsp;&nbsp;</span>Body</a></span></li><li><span><a href=\"http://localhost:8888/notebooks/ufc_fight_analysis/ufc_analysis.ipynb#Head\" data-toc-modified-id=\"Head-6.2.2\"><span class=\"toc-item-num\">6.2.2&nbsp;&nbsp;</span>Head</a></span></li><li><span><a href=\"http://localhost:8888/notebooks/ufc_fight_analysis/ufc_analysis.ipynb#Leg\" data-toc-modified-id=\"Leg-6.2.3\"><span class=\"toc-item-num\">6.2.3&nbsp;&nbsp;</span>Leg</a></span></li></ul></li><li><span><a href=\"http://localhost:8888/notebooks/ufc_fight_analysis/ufc_analysis.ipynb#Strike-Types\" data-toc-modified-id=\"Strike-Types-6.3\"><span class=\"toc-item-num\">6.3&nbsp;&nbsp;</span>Strike Types</a></span><ul class=\"toc-item\"><li><span><a href=\"http://localhost:8888/notebooks/ufc_fight_analysis/ufc_analysis.ipynb#Ground-and-Pound\" data-toc-modified-id=\"Ground-and-Pound-6.3.1\"><span class=\"toc-item-num\">6.3.1&nbsp;&nbsp;</span>Ground and Pound</a></span></li><li><span><a href=\"http://localhost:8888/notebooks/ufc_fight_analysis/ufc_analysis.ipynb#Distance\" data-toc-modified-id=\"Distance-6.3.2\"><span class=\"toc-item-num\">6.3.2&nbsp;&nbsp;</span>Distance</a></span></li><li><span><a href=\"http://localhost:8888/notebooks/ufc_fight_analysis/ufc_analysis.ipynb#Clinch\" data-toc-modified-id=\"Clinch-6.3.3\"><span class=\"toc-item-num\">6.3.3&nbsp;&nbsp;</span>Clinch</a></span></li><li><span><a href=\"http://localhost:8888/notebooks/ufc_fight_analysis/ufc_analysis.ipynb#Significant-Strikes\" data-toc-modified-id=\"Significant-Strikes-6.3.4\"><span class=\"toc-item-num\">6.3.4&nbsp;&nbsp;</span>Significant Strikes</a></span></li><li><span><a href=\"http://localhost:8888/notebooks/ufc_fight_analysis/ufc_analysis.ipynb#Overall-Strikes\" data-toc-modified-id=\"Overall-Strikes-6.3.5\"><span class=\"toc-item-num\">6.3.5&nbsp;&nbsp;</span>Overall Strikes</a></span></li></ul></li><li><span><a href=\"http://localhost:8888/notebooks/ufc_fight_analysis/ufc_analysis.ipynb#Grappling\" data-toc-modified-id=\"Grappling-6.4\"><span class=\"toc-item-num\">6.4&nbsp;&nbsp;</span>Grappling</a></span><ul class=\"toc-item\"><li><span><a href=\"http://localhost:8888/notebooks/ufc_fight_analysis/ufc_analysis.ipynb#Submissions\" data-toc-modified-id=\"Submissions-6.4.1\"><span class=\"toc-item-num\">6.4.1&nbsp;&nbsp;</span>Submissions</a></span></li><li><span><a href=\"http://localhost:8888/notebooks/ufc_fight_analysis/ufc_analysis.ipynb#Passes\" data-toc-modified-id=\"Passes-6.4.2\"><span class=\"toc-item-num\">6.4.2&nbsp;&nbsp;</span>Passes</a></span></li><li><span><a href=\"http://localhost:8888/notebooks/ufc_fight_analysis/ufc_analysis.ipynb#Reversals\" data-toc-modified-id=\"Reversals-6.4.3\"><span class=\"toc-item-num\">6.4.3&nbsp;&nbsp;</span>Reversals</a></span></li><li><span><a href=\"http://localhost:8888/notebooks/ufc_fight_analysis/ufc_analysis.ipynb#Takedowns\" data-toc-modified-id=\"Takedowns-6.4.4\"><span class=\"toc-item-num\">6.4.4&nbsp;&nbsp;</span>Takedowns</a></span></li></ul></li><li><span><a href=\"http://localhost:8888/notebooks/ufc_fight_analysis/ufc_analysis.ipynb#Knockdowns\" data-toc-modified-id=\"Knockdowns-6.5\"><span class=\"toc-item-num\">6.5&nbsp;&nbsp;</span>Knockdowns</a></span></li><li><span><a href=\"http://localhost:8888/notebooks/ufc_fight_analysis/ufc_analysis.ipynb#Referees-and-Fighters\" data-toc-modified-id=\"Referees-and-Fighters-6.6\"><span class=\"toc-item-num\">6.6&nbsp;&nbsp;</span>Referees and Fighters</a></span></li><li><span><a href=\"http://localhost:8888/notebooks/ufc_fight_analysis/ufc_analysis.ipynb#Rounds\" data-toc-modified-id=\"Rounds-6.7\"><span class=\"toc-item-num\">6.7&nbsp;&nbsp;</span>Rounds</a></span></li><li><span><a href=\"http://localhost:8888/notebooks/ufc_fight_analysis/ufc_analysis.ipynb#Method\" data-toc-modified-id=\"Method-6.8\"><span class=\"toc-item-num\">6.8&nbsp;&nbsp;</span>Method</a></span></li></ul></li><li><span><a href=\"http://localhost:8888/notebooks/ufc_fight_analysis/ufc_analysis.ipynb#Data-Cleaning\" data-toc-modified-id=\"Data-Cleaning-7\"><span class=\"toc-item-num\">7&nbsp;&nbsp;</span>Data Cleaning</a></span><ul class=\"toc-item\"><li><span><a href=\"http://localhost:8888/notebooks/ufc_fight_analysis/ufc_analysis.ipynb#Dropping-No-Contests,-DQ's,-etc\" data-toc-modified-id=\"Dropping-No-Contests,-DQ's,-etc-7.1\"><span class=\"toc-item-num\">7.1&nbsp;&nbsp;</span>Dropping No Contests, DQ's, etc</a></span></li><li><span><a href=\"http://localhost:8888/notebooks/ufc_fight_analysis/ufc_analysis.ipynb#Checking-for-NaN's\" data-toc-modified-id=\"Checking-for-NaN's-7.2\"><span class=\"toc-item-num\">7.2&nbsp;&nbsp;</span>Checking for NaN's</a></span></li><li><span><a href=\"http://localhost:8888/notebooks/ufc_fight_analysis/ufc_analysis.ipynb#Logical-Errors\" data-toc-modified-id=\"Logical-Errors-7.3\"><span class=\"toc-item-num\">7.3&nbsp;&nbsp;</span>Logical Errors</a></span></li></ul></li><li><span><a href=\"http://localhost:8888/notebooks/ufc_fight_analysis/ufc_analysis.ipynb#Feature-Engineering\" data-toc-modified-id=\"Feature-Engineering-8\"><span class=\"toc-item-num\">8&nbsp;&nbsp;</span>Feature Engineering</a></span></li><li><span><a href=\"http://localhost:8888/notebooks/ufc_fight_analysis/ufc_analysis.ipynb#Modeling\" data-toc-modified-id=\"Modeling-9\"><span class=\"toc-item-num\">9&nbsp;&nbsp;</span>Modeling</a></span><ul class=\"toc-item\"><li><span><a href=\"http://localhost:8888/notebooks/ufc_fight_analysis/ufc_analysis.ipynb#Dropping-First-Fights\" data-toc-modified-id=\"Dropping-First-Fights-9.1\"><span class=\"toc-item-num\">9.1&nbsp;&nbsp;</span>Dropping First Fights</a></span></li><li><span><a href=\"http://localhost:8888/notebooks/ufc_fight_analysis/ufc_analysis.ipynb#Creating-Accuracy-Statistics\" data-toc-modified-id=\"Creating-Accuracy-Statistics-9.2\"><span class=\"toc-item-num\">9.2&nbsp;&nbsp;</span>Creating Accuracy Statistics</a></span></li><li><span><a href=\"http://localhost:8888/notebooks/ufc_fight_analysis/ufc_analysis.ipynb#Reducing-Features\" data-toc-modified-id=\"Reducing-Features-9.3\"><span class=\"toc-item-num\">9.3&nbsp;&nbsp;</span>Reducing Features</a></span></li></ul></li><li><span><a href=\"http://localhost:8888/notebooks/ufc_fight_analysis/ufc_analysis.ipynb#Conclusion\" data-toc-modified-id=\"Conclusion-10\"><span class=\"toc-item-num\">10&nbsp;&nbsp;</span>Conclusion</a></span></li><li><span><a href=\"http://localhost:8888/notebooks/ufc_fight_analysis/ufc_analysis.ipynb#Stretch-Goals\" data-toc-modified-id=\"Stretch-Goals-11\"><span class=\"toc-item-num\">11&nbsp;&nbsp;</span>Stretch Goals</a></span><ul class=\"toc-item\"><li><span><a href=\"http://localhost:8888/notebooks/ufc_fight_analysis/ufc_analysis.ipynb#Rewrite-and-re-run-scraper-to-pull-data-from-earlier-years\" data-toc-modified-id=\"Rewrite-and-re-run-scraper-to-pull-data-from-earlier-years-11.1\"><span class=\"toc-item-num\">11.1&nbsp;&nbsp;</span>Rewrite and re-run scraper to pull data from earlier years</a></span></li></ul></li><li><span><a href=\"http://localhost:8888/notebooks/ufc_fight_analysis/ufc_analysis.ipynb#Scraper-Rewrite\" data-toc-modified-id=\"Scraper-Rewrite-12\"><span class=\"toc-item-num\">12&nbsp;&nbsp;</span>Scraper Rewrite</a></span><ul class=\"toc-item\"><li><span><a href=\"http://localhost:8888/notebooks/ufc_fight_analysis/ufc_analysis.ipynb#Fight-URL-Scraper\" data-toc-modified-id=\"Fight-URL-Scraper-12.1\"><span class=\"toc-item-num\">12.1&nbsp;&nbsp;</span>Fight URL Scraper</a></span></li><li><span><a href=\"http://localhost:8888/notebooks/ufc_fight_analysis/ufc_analysis.ipynb#Fight-Scraper\" data-toc-modified-id=\"Fight-Scraper-12.2\"><span class=\"toc-item-num\">12.2&nbsp;&nbsp;</span>Fight Scraper</a></span><ul class=\"toc-item\"><li><span><a href=\"http://localhost:8888/notebooks/ufc_fight_analysis/ufc_analysis.ipynb#Fight-Scraper-Re-write\" data-toc-modified-id=\"Fight-Scraper-Re-write-12.2.1\"><span class=\"toc-item-num\">12.2.1&nbsp;&nbsp;</span>Fight Scraper Re-write</a></span></li><li><span><a href=\"http://localhost:8888/notebooks/ufc_fight_analysis/ufc_analysis.ipynb#Fight-Scraper-Production-Code\" data-toc-modified-id=\"Fight-Scraper-Production-Code-12.2.2\"><span class=\"toc-item-num\">12.2.2&nbsp;&nbsp;</span>Fight Scraper Production Code</a></span></li><li><span><a href=\"http://localhost:8888/notebooks/ufc_fight_analysis/ufc_analysis.ipynb#Fight-Scraper-Test-Codes\" data-toc-modified-id=\"Fight-Scraper-Test-Codes-12.2.3\"><span class=\"toc-item-num\">12.2.3&nbsp;&nbsp;</span>Fight Scraper Test Codes</a></span></li></ul></li></ul></li><li><span><a href=\"http://localhost:8888/notebooks/ufc_fight_analysis/ufc_analysis.ipynb#Todo\" data-toc-modified-id=\"Todo-13\"><span class=\"toc-item-num\">13&nbsp;&nbsp;</span>Todo</a></span></li><li><span><a href=\"http://localhost:8888/notebooks/ufc_fight_analysis/ufc_analysis.ipynb#Ideas\" data-toc-modified-id=\"Ideas-14\"><span class=\"toc-item-num\">14&nbsp;&nbsp;</span>Ideas</a></span></li></ul></div>"
   ]
  },
  {
   "cell_type": "markdown",
   "metadata": {},
   "source": [
    "## Introduction\n",
    "\n",
    "What does it mean to be the best fighter in the world? Is it the person with the best kick? The best punch? Or is it something else? This project seeks to determine which factors are the best predictors of success in the UFC. It explores every fight since the organization's inception in the hopes of gaining insight into what separates winners and losers. We start with an exploratory visual analysis of all variables before cleaning the data and building our machine learning models. Currently, the algorithms are able to predict the outcome with approximately 57% - 66% accuracy. Our goal is to improve that over time through iteration."
   ]
  },
  {
   "cell_type": "markdown",
   "metadata": {},
   "source": [
    "## Background\n",
    "\n",
    "The Ultimate Fighting Championship (UFC) is a mixed martial arts fighting organization based out of Las Vegas, Nevada. Founded in 1992, it's original goal was to pit fighters from around the world against each other to see which fighting style was the best. In the beginning, there were no rules and there were no weight classes. Eye gouges, groin strikes, headbutts and biting were all legal. Fighters weighing 160 lbs would get tossed in against 400 lbs behemoths. This type of no holds bar contest had never been attempted before and it quickly gained notoriety for its brutality.\n",
    "\n",
    "It also gave rise to a new way of thinking about fighting. When kung-fu masters, boxers, kickboxers, and karate experts all met for the first time, no one could have predicted the outcome. Most people expected the larger, more gruesome-looking fighters to win. To everyone's shock, it was an unassuming 178 pound man named Royce Gracie who would go on to win the first contest. What was even stranger was that no one could explain how he won the first time (or the second or the third). He didn't pummel his opponent into submission as expected, but instead locked him up using wrestling moves most people hadn't seen before. This was the world's introduction to Brazillian Jiu Jitsu (BJJ).\n",
    "\n",
    "After Royce went on to win several UFC contests, people began to realize he was not just getting lucky. Fighters started studying this martial art so they could start applying these techniques in their matches or at the very least prevent themselves from being submitted by Royce. Then, they started adding techniques from other fighting styles so that they, too could become the best in the world. This was the beginning of mixed martial arts or MMA. It started out with a multitude of different styles, but a handful started to show up repeatedly: BJJ, wrestling, boxing and kickboxing. Over time, fighters' skill in these 4 areas evolved to where no one art was able to completely dominate the others. \n",
    "\n",
    "Now, the UFC is watched by millions worldwide and its support continues to grow. The rules were changed to protect the safety of the fighters. You can no longer gouge your opponent's eyes or pull hair or bite. All fighters are now required to wear standard MMA gloves and shoes are no longer allowed in the octagon. There are now weight classes that range from 115 lbs all the way up to 265. A lot has changed in the UFC and this project seeks to determine which components matter most in a match."
   ]
  },
  {
   "cell_type": "markdown",
   "metadata": {},
   "source": [
    "<img src='https://cdn.rawgit.com/spacecadet84/ufc_fight_analysis/bcb906d3/images/ufc_red_wordcloud.png'>"
   ]
  },
  {
   "cell_type": "markdown",
   "metadata": {
    "_cell_guid": "2627be18-352a-422b-b206-906e2ad58ce8",
    "_uuid": "4d550657d3a62617db3061ae1660035d36b17423"
   },
   "source": [
    "## Data\n",
    "\n",
    "This data was scraped from www.fightmetrics.com with Beautiful Soup in two stages. The first script compiled a list of event urls and wrote them to a CSV. The second script crawled through those urls and extracted all available fight data into a pandas dataframe. There are 32 features and 8772 records.\n",
    "\n",
    "During exploratory data analysis, we'll take a look at the data from several perspectives. The first will be a bird's eye view of the data. We'll look at a heatmap of all the variables to see if we can tease out any patterns. Next we'll inspect each feature, restricting our view to univariate distributions and a select number of bivariate distributions. After we get a good sense of each individual variable, we will look for multivariate relationships."
   ]
  },
  {
   "cell_type": "code",
   "execution_count": 1,
   "metadata": {
    "_cell_guid": "e9262f56-9ff2-44d3-a361-886b823a6403",
    "_execution_state": "idle",
    "_uuid": "c548d6eec8b6bf6f090e43f5139fd9047a5755b8"
   },
   "outputs": [
    {
     "name": "stdout",
     "output_type": "stream",
     "text": [
      "fight_urls.csv\n",
      "fight_urls_backup.csv\n",
      "fights_v1.csv\n",
      "fights_v2.csv\n",
      "fights_v3.csv\n",
      "fights_v4.csv\n",
      "\n"
     ]
    }
   ],
   "source": [
    "# Imports and Helper Functions\n",
    "# data Analysis\n",
    "import pandas as pd\n",
    "pd.options.display.max_columns = 50\n",
    "pd.options.display.max_colwidth = 75\n",
    "import seaborn as sns\n",
    "import numpy as np\n",
    "import random as rng\n",
    "from pprint import pprint\n",
    "from scipy.stats import norm\n",
    "color = sns.color_palette()\n",
    "import random\n",
    "\n",
    "# Web Scraping\n",
    "import json\n",
    "import codecs\n",
    "import csv\n",
    "import datetime\n",
    "from bs4 import BeautifulSoup\n",
    "import requests\n",
    "import cStringIO\n",
    "import pprint\n",
    "\n",
    "# Visualization\n",
    "%matplotlib inline\n",
    "import matplotlib.pyplot as plt\n",
    "import seaborn as sns\n",
    "sns.set_style(\"white\")\n",
    "from PIL import Image\n",
    "from wordcloud import WordCloud\n",
    "\n",
    "#SciKit Learn Models\n",
    "from sklearn.linear_model import LogisticRegression\n",
    "from sklearn.svm import SVC, LinearSVC\n",
    "from sklearn.ensemble import RandomForestClassifier\n",
    "from sklearn.neighbors import KNeighborsClassifier\n",
    "from sklearn.naive_bayes import GaussianNB\n",
    "from sklearn.linear_model import Perceptron\n",
    "from sklearn.linear_model import SGDClassifier\n",
    "from sklearn.tree import DecisionTreeClassifier\n",
    "\n",
    "\n",
    "from sklearn.metrics import accuracy_score, classification_report,confusion_matrix\n",
    "\n",
    "from subprocess import check_output\n",
    "print check_output([\"ls\", \"data\"]).decode(\"utf8\")\n",
    "fight_data = pd.read_csv(\"data/fights_v4.csv\")\n",
    "fight_df = pd.DataFrame(fight_data)\n",
    "# Any results you write to the current directory are saved as output.\n",
    "\n",
    "# Noteboook Functionality\n",
    "#from IPython.core.interactiveshell import InteractiveShell # All statements are printed to output\n",
    "#InteractiveShell.ast_node_interactivity = \"all\""
   ]
  },
  {
   "cell_type": "code",
   "execution_count": null,
   "metadata": {},
   "outputs": [],
   "source": [
    "fight_df.info()"
   ]
  },
  {
   "cell_type": "markdown",
   "metadata": {
    "_cell_guid": "26da2dbd-ee3d-415b-ada0-c720b9edb9bc",
    "_uuid": "7fd571569d28c952dd5e68cce1304c5ee1652ebc"
   },
   "source": [
    "From this, we can see that we have a total of 32 Columns and one dependent variable. The columns themselves have 7 object types (First Name, Last Name, Method, Referee, Date, Location and Title), and 25 Float types. This however does not give us a complete picture of the data, so we'll use a few other pandas functions to get a better glimpse. "
   ]
  },
  {
   "cell_type": "code",
   "execution_count": null,
   "metadata": {},
   "outputs": [],
   "source": [
    "fight_df.skew()"
   ]
  },
  {
   "cell_type": "code",
   "execution_count": null,
   "metadata": {
    "scrolled": true
   },
   "outputs": [],
   "source": [
    "fight_df.describe()"
   ]
  },
  {
   "cell_type": "code",
   "execution_count": null,
   "metadata": {},
   "outputs": [],
   "source": [
    "fight_df.describe(include=['O'])"
   ]
  },
  {
   "cell_type": "markdown",
   "metadata": {},
   "source": [
    "### Observations\n",
    "\n",
    "Most of the variables have low means and large maximum values, which means they are probably highly skewed to the right. It might make sense to apply a log transform to some of the distributions when conducting the univariate analysis.\n",
    "\n",
    "In the categorical overview, we can see that Herb Dean is truly a prolific ref! Who knew that he officiated over 1300 UFC fights? I would've guessed John McCarthy was the leader in that respect, but Herb Dean has definitely paid his dues. Right now the fighter names are split into first and last columns so there doesn't seem to be a pattern, but later in the analysis I pull them back together to make them more readable. You'll never guess who's the most prolific UFC fighter. Spoler alert: It's Jim Miller. I bet he wasn't even on your radar."
   ]
  },
  {
   "cell_type": "markdown",
   "metadata": {},
   "source": [
    "### Missing Data\n",
    "\n",
    "Nothing to see here. The only column that has any missing data is the referee column and it's only 4%. Let's keep it moving"
   ]
  },
  {
   "cell_type": "code",
   "execution_count": null,
   "metadata": {},
   "outputs": [],
   "source": [
    "percent_missing = (fight_df.isnull().sum()/fight_df.isnull().count()).sort_values()\n",
    "percent_missing"
   ]
  },
  {
   "cell_type": "markdown",
   "metadata": {},
   "source": [
    "## Minor Aesthetics\n",
    "\n",
    "Before diving deeper into the dataset, let's take a moment to fix a few minor details."
   ]
  },
  {
   "cell_type": "markdown",
   "metadata": {},
   "source": [
    "### Rearranging Columns\n",
    "\n",
    "It bugs me slightly that each fighter's name is buried in the middle of the dataframe. The analysis will be a lot simpler if that information was the first thing we saw in each row. Let's take care of that and move the win/loss column to the front as well."
   ]
  },
  {
   "cell_type": "code",
   "execution_count": null,
   "metadata": {},
   "outputs": [],
   "source": [
    "# Creates a copy of the dataframe for testing\n",
    "fight_df = pd.DataFrame(fight_data.copy())\n",
    "\n",
    "# Rearranges the columns so the first name, last name, date, win/loss and method appear first\n",
    "cols = fight_df.columns.tolist()\n",
    "cols = cols[17:19] + cols[4:5] + cols[7:8] + cols[-1:] + cols[16:17] + cols[:4] + cols[5:7] + cols[8:16] + cols[19:31]\n",
    "\n",
    "fight_df = fight_df[cols]\n",
    "\n",
    "# Sets the index as the fight_id\n",
    "# fight_df.set_index('fight_id', inplace=True)\n",
    "\n",
    "# Change kd to knock_down for readability\n",
    "fight_df.rename(columns={'kd': 'knockdowns'}, inplace=True)\n",
    "\n",
    "fight_df.to_csv('fights.csv', index=False)\n",
    "fight_df.head()"
   ]
  },
  {
   "cell_type": "code",
   "execution_count": null,
   "metadata": {},
   "outputs": [],
   "source": [
    "fight_df.tail()"
   ]
  },
  {
   "cell_type": "markdown",
   "metadata": {},
   "source": [
    "### Reversing the Fight Order"
   ]
  },
  {
   "cell_type": "markdown",
   "metadata": {
    "_cell_guid": "4012f27d-ea2e-4ea0-9a35-a58797ec9921",
    "_uuid": "531cd3e1d9d08349c92332571212ca0a3d5d6789"
   },
   "source": [
    "Right off the bat I can see the data is organized in reverse-chronological order. Art Jimmerson fought in the first UFC event and I still remember him because he fought with one boxing glove. It was a crazy time... I'll reverse the dataframe so it's in chronological order and re-index the records. \n",
    "\n",
    "I'm surprised by the lack of NaN values in this dataset. Apparently, Fightmetrics is very organized! I'll have to crawl deep to see if there are any inconsistencies."
   ]
  },
  {
   "cell_type": "code",
   "execution_count": null,
   "metadata": {},
   "outputs": [],
   "source": [
    "fight_df['fight_id'] = abs(4412 - fight_df['fight_id'])\n",
    "fight_df = fight_df[::-1]\n",
    "index = list(range(len(fight_df)))\n",
    "fight_df.index = index"
   ]
  },
  {
   "cell_type": "code",
   "execution_count": null,
   "metadata": {
    "scrolled": false
   },
   "outputs": [],
   "source": [
    "fight_df.head()"
   ]
  },
  {
   "cell_type": "code",
   "execution_count": null,
   "metadata": {},
   "outputs": [],
   "source": [
    "fight_df.tail()"
   ]
  },
  {
   "cell_type": "markdown",
   "metadata": {},
   "source": [
    "Ah, much better! The earliest fights are at the beginning of the dataset and the later fights are at the end. Now to dive into the variables."
   ]
  },
  {
   "cell_type": "markdown",
   "metadata": {},
   "source": [
    "### Editing Name Column\n",
    "\n",
    "The fighter names are split into first and last, which doesn't seem necessary. I'll combine them into one column, but first I want to check to make sure there are no missing values."
   ]
  },
  {
   "cell_type": "code",
   "execution_count": null,
   "metadata": {
    "scrolled": false
   },
   "outputs": [],
   "source": [
    "print(fight_df[fight_df['name_first'].str.isalpha()==False].iloc[:,:5])\n",
    "fight_df[fight_df['name_last'].str.isalpha()==False].iloc[-7:,:5]"
   ]
  },
  {
   "cell_type": "markdown",
   "metadata": {},
   "source": [
    "There are non-alpha characters in the first and last names columns but they are within the normal range. Periods (Jr.), hyphens (St-Pierre) and apostrophes (O'Brien) are to be expected. Now, to combine the first and last names for each figher."
   ]
  },
  {
   "cell_type": "code",
   "execution_count": null,
   "metadata": {
    "collapsed": true
   },
   "outputs": [],
   "source": [
    "fight_df.loc[:,'name'] = fight_df['name_first'] + ' ' + fight_df['name_last']\n",
    "fight_df['name'].head()\n",
    "del fight_df['name_first']\n",
    "del fight_df['name_last']\n",
    "cols = fight_df.columns.tolist()\n",
    "cols = cols[-1:] + cols[:-1]\n",
    "fight_df = fight_df[cols]"
   ]
  },
  {
   "cell_type": "markdown",
   "metadata": {},
   "source": [
    "## Comparing Winners and Losers\n",
    "\n",
    "Next, I will create a running tally of differences between each fighter in each fight. My hope is that by comparing the winners and losers of each individual fight, I might be able to determine which features, if any can predict success in the UFC.\n",
    "\n",
    "I will look at both ratios and differences, but I want to start with differences first. Right off the bat, I can see that the ratio strategy will come with its own set of challenges because of the number of values that are equal to zero. It may be possible to add one to all relevant columns to overcome this, but I want to tackle the easier problem first.\n",
    "\n",
    "Here's what the process will look like:\n",
    "\n",
    "1. Create two dataframes: winners and losers\n",
    "3. Subtract one fighter's relevant stats by the other's\n",
    "4. Keep the non-relevant stats for the respective winner/loser\n",
    "5. Join the two dataframes and compare the stats\n",
    "6. Repeat the process using division\n",
    "\n",
    "Let's get to work!"
   ]
  },
  {
   "cell_type": "code",
   "execution_count": null,
   "metadata": {},
   "outputs": [],
   "source": [
    "fight_df.info()"
   ]
  },
  {
   "cell_type": "code",
   "execution_count": null,
   "metadata": {},
   "outputs": [],
   "source": [
    "fight_copy = fight_df.copy()\n",
    "len(fight_copy[(fight_copy['win/loss']==1) & (fight_copy.index%2==0)])"
   ]
  },
  {
   "cell_type": "markdown",
   "metadata": {},
   "source": [
    "The winners are always presented first, which will make the process of separating winners and losers slightly easier."
   ]
  },
  {
   "cell_type": "code",
   "execution_count": null,
   "metadata": {},
   "outputs": [],
   "source": [
    "cols = [u'body', u'body_attempts', u'clinch', u'clinch_attempts', u'distance',\n",
    "       u'distance_attempts', u'ground', u'ground_attempts',\n",
    "       u'head', u'head_attempts', u'knockdowns', u'leg', u'leg_attempts',\n",
    "       u'pass', u'reversals', u'sig_attempts', u'sig_strikes',\n",
    "       u'strike_attempts', u'strikes', u'sub_attempts', u'takedowns',\n",
    "       u'td_attempts']\n",
    "\n",
    "fighter_a = fight_df[fight_df.index%2==0]\n",
    "fighter_b = fight_df[fight_df.index%2==1]\n",
    "\n",
    "fighter_a.reset_index(inplace=True, drop=True)\n",
    "fighter_b.reset_index(inplace=True, drop=True)\n",
    "\n",
    "fight_loser_diff = fighter_a.copy()\n",
    "fight_winner_diff = fighter_b.copy()\n",
    "fight_loser_ratio = fighter_a.copy()\n",
    "fight_winner_ratio = fighter_b.copy()\n",
    "\n",
    "fight_loser_diff.loc[:, cols] = fighter_a[cols] - fighter_b[cols]\n",
    "fight_winner_diff.loc[:, cols] = fighter_b[cols] - fighter_a[cols]\n",
    "\n",
    "fighter_a.loc[:, cols] += 1\n",
    "fighter_b.loc[:, cols] += 1\n",
    "\n",
    "fight_loser_ratio.loc[:, cols] = fighter_a[cols] / fighter_b[cols]\n",
    "fight_winner_ratio.loc[:, cols] = fighter_b[cols] / fighter_a[cols]"
   ]
  },
  {
   "cell_type": "code",
   "execution_count": null,
   "metadata": {},
   "outputs": [],
   "source": [
    "fight_loser_diff.head()"
   ]
  },
  {
   "cell_type": "code",
   "execution_count": null,
   "metadata": {},
   "outputs": [],
   "source": [
    "fight_winner_diff.head()"
   ]
  },
  {
   "cell_type": "code",
   "execution_count": null,
   "metadata": {},
   "outputs": [],
   "source": [
    "fight_winner_ratio.head()"
   ]
  },
  {
   "cell_type": "code",
   "execution_count": null,
   "metadata": {},
   "outputs": [],
   "source": [
    "fight_loser_ratio.head()"
   ]
  },
  {
   "cell_type": "code",
   "execution_count": null,
   "metadata": {},
   "outputs": [],
   "source": [
    "fight_diffs = pd.concat(\n",
    "    [fight_winner_diff,fight_loser_diff],\n",
    "    ignore_index=True\n",
    "    )\n",
    "\n",
    "fight_ratios = pd.concat(\n",
    "    [fight_winner_ratio,fight_loser_ratio],\n",
    "    ignore_index=True\n",
    "    )"
   ]
  },
  {
   "cell_type": "markdown",
   "metadata": {},
   "source": [
    "## Variables\n",
    "\n"
   ]
  },
  {
   "cell_type": "markdown",
   "metadata": {},
   "source": [
    "### Heatmap\n",
    "\n",
    "Let's start off with a bird's eye view of the data. We'll use a heatmap to spot correlations and make quick inferences about the dataset before diving into the individual variables."
   ]
  },
  {
   "cell_type": "code",
   "execution_count": null,
   "metadata": {},
   "outputs": [],
   "source": [
    "corrmat = fight_df.corr()\n",
    "plt.figure(figsize=(16,12))\n",
    "sns.heatmap(corrmat, square=True)\n",
    "plt.show()"
   ]
  },
  {
   "cell_type": "markdown",
   "metadata": {},
   "source": [
    "Wow, there appears to be a strong corrleation between every strike and strike attempt. Wayne Gretsky was right, \"You miss 100% of the shots you don't take.\" There are several other related variables scattered throughout the dataset. It seems significant attempts, head attempts and distance attempts are all closely related. Also of note is the relationship between the number of passes and the number of takedowns. Interestingly, the number of knowckdowns does not seem to be strongly correlated with any particular variable. There is a small connection between knockdowns, win/loss and head strikes.\n",
    "\n",
    "There does not appear to be a lot of negative correlations. The only small standouts are sub attempts to fight_id, knockdowns to takedown attempts and sub attempts to distance strikes. The last two make sense to a certain extent. If a a fighter is a good striker, they'd have little reason to try to take someone their opponent down and if they're they're a submission artist they would probably throw fewer distance strikes. The relationship between sub attempts and fight_id doesn't make as much sense to me right now. In the beginning, not many people were familiar with bjj so I would expect the number of submission attempts to grow over time. I'll have to take a closer look at that later."
   ]
  },
  {
   "cell_type": "markdown",
   "metadata": {},
   "source": [
    "Applying a log transform yields..."
   ]
  },
  {
   "cell_type": "code",
   "execution_count": null,
   "metadata": {},
   "outputs": [],
   "source": [
    "fight_logs = fight_df.copy()\n",
    "fight_logs.loc[:, cols] = fight_df[cols] + 1\n",
    "fight_logs.loc[:, cols] = fight_logs[cols].apply(np.log)"
   ]
  },
  {
   "cell_type": "code",
   "execution_count": null,
   "metadata": {},
   "outputs": [],
   "source": [
    "corrmat = fight_logs.drop(['fight_id', 'round'], axis=1).corr()\n",
    "plt.figure(figsize=(16,12))\n",
    "sns.heatmap(corrmat, square=True)\n",
    "plt.show()"
   ]
  },
  {
   "cell_type": "markdown",
   "metadata": {},
   "source": [
    "And creating a heatmap from the differences between each fighter yields..."
   ]
  },
  {
   "cell_type": "code",
   "execution_count": null,
   "metadata": {},
   "outputs": [],
   "source": [
    "corrmat = fight_diffs.drop(['fight_id', 'round'], axis=1).corr()\n",
    "plt.figure(figsize=(16,12))\n",
    "sns.heatmap(corrmat, square=True)\n",
    "plt.show()"
   ]
  },
  {
   "cell_type": "code",
   "execution_count": null,
   "metadata": {},
   "outputs": [],
   "source": [
    "corrmat = fight_ratios.drop(['fight_id', 'round'], axis=1).corr()\n",
    "plt.figure(figsize=(16,12))\n",
    "sns.heatmap(corrmat, square=True)\n",
    "plt.show()"
   ]
  },
  {
   "cell_type": "markdown",
   "metadata": {},
   "source": [
    "### Strike Targets"
   ]
  },
  {
   "cell_type": "markdown",
   "metadata": {},
   "source": [
    "I want to go through each of these variables to get a sense of each one. We'll use histograms, distribution plots, barplots, violin plots heatmaps, and more to get a better feel for the data."
   ]
  },
  {
   "cell_type": "markdown",
   "metadata": {},
   "source": [
    "#### Body\n",
    "\n",
    "First up is body strikes."
   ]
  },
  {
   "cell_type": "code",
   "execution_count": null,
   "metadata": {},
   "outputs": [],
   "source": [
    "fight_df.body.describe()"
   ]
  },
  {
   "cell_type": "code",
   "execution_count": null,
   "metadata": {},
   "outputs": [],
   "source": [
    "#upper_limit = np.percentile(fight_df['body'].values, 99)\n",
    "#fight_df.loc[fight_df.body>upper_limit, 'body'] = upper_limit\n",
    "plt.figure(figsize=(12,8))\n",
    "plt.hist(\n",
    "    'body',\n",
    "    data=fight_df[fight_df['win/loss']==1],\n",
    "    log=True,\n",
    "    bins=50,\n",
    "    alpha=.2,\n",
    "    color='b'\n",
    ")\n",
    "plt.hist(\n",
    "    'body',\n",
    "    data=fight_df[fight_df['win/loss']==0],\n",
    "    log=True,\n",
    "    bins=50,\n",
    "    alpha=.2,\n",
    "    color='r'\n",
    ")\n",
    "plt.xlabel('Body Strikes')\n",
    "plt.ylabel('Frequency')\n",
    "plt.show()"
   ]
  },
  {
   "cell_type": "markdown",
   "metadata": {},
   "source": [
    "It might make sense to plot the number of body strikes vs attempts since they may be correlated. Let's see what the data looks like."
   ]
  },
  {
   "cell_type": "code",
   "execution_count": null,
   "metadata": {},
   "outputs": [],
   "source": [
    "#upper_limit = np.percentile(fight_df['body'].values, 99)\n",
    "#fight_df.loc[fight_df.body>upper_limit, 'body'] = upper_limit\n",
    "plt.figure(figsize=(12,8))\n",
    "plt.hist(\n",
    "    'body',\n",
    "    data=fight_winner_diff,\n",
    "    log=True,\n",
    "    bins=50,\n",
    "    alpha=.2,\n",
    "    color='b'\n",
    ")\n",
    "plt.hist(\n",
    "    'body',\n",
    "    data=fight_loser_diff,\n",
    "    log=True,\n",
    "    bins=50,\n",
    "    alpha=.2,\n",
    "    color='r'\n",
    ")\n",
    "plt.xlabel('Body Strikes')\n",
    "plt.ylabel('Frequency')\n",
    "plt.show()"
   ]
  },
  {
   "cell_type": "code",
   "execution_count": null,
   "metadata": {},
   "outputs": [],
   "source": [
    "fight_df[fight_df.body>58]"
   ]
  },
  {
   "cell_type": "code",
   "execution_count": null,
   "metadata": {},
   "outputs": [],
   "source": [
    "#upper_limit = np.percentile(fight_df['body_attempts'].values, 99)\n",
    "#fight_df.loc[fight_df.body>upper_limit, 'body_attempts'] = upper_limit\n",
    "#plt.figure(figsize=(12,8))\n",
    "sns.lmplot('body_attempts', 'body', \n",
    "           data=fight_df, \n",
    "           scatter_kws={'alpha':.3},\n",
    "           hue='win/loss',\n",
    "           palette='Set1',\n",
    "           size=9, \n",
    "           aspect=1.3)\n",
    "plt.xlabel(\"Body Strike Attempts\")\n",
    "plt.ylabel(\"Body Strikes\")\n",
    "plt.show()"
   ]
  },
  {
   "cell_type": "code",
   "execution_count": null,
   "metadata": {},
   "outputs": [],
   "source": [
    "#upper_limit = np.percentile(fight_df['body_attempts'].values, 99)\n",
    "#fight_df.loc[fight_df.body>upper_limit, 'body_attempts'] = upper_limit\n",
    "#plt.figure(figsize=(12,8))\n",
    "sns.lmplot('body_attempts', 'body', \n",
    "           data=fight_diffs, \n",
    "           scatter_kws={'alpha':.3},\n",
    "           hue='win/loss',\n",
    "           palette='Set1',\n",
    "           size=9, \n",
    "           aspect=1.3)\n",
    "plt.xlabel(\"Body Strike Attempts\")\n",
    "plt.ylabel(\"Body Strikes\")\n",
    "plt.show()"
   ]
  },
  {
   "cell_type": "markdown",
   "metadata": {},
   "source": [
    "Body strikes and body strike attempts are definitely positively correlated. I'm guessing it'll be the same for the other categories. Let's take a look."
   ]
  },
  {
   "cell_type": "markdown",
   "metadata": {},
   "source": [
    "#### Head"
   ]
  },
  {
   "cell_type": "code",
   "execution_count": null,
   "metadata": {},
   "outputs": [],
   "source": [
    "fight_df['head'].describe()"
   ]
  },
  {
   "cell_type": "code",
   "execution_count": null,
   "metadata": {},
   "outputs": [],
   "source": [
    "plt.figure(figsize=(12,8))\n",
    "plt.hist(\n",
    "    'head',\n",
    "    data=fight_df[fight_df['win/loss']==1],\n",
    "    log=True,\n",
    "    bins=50,\n",
    "    alpha=.2,\n",
    "    color='b'\n",
    ")\n",
    "plt.hist(\n",
    "    'head',\n",
    "    data=fight_df[fight_df['win/loss']==0],\n",
    "    log=True,\n",
    "    bins=50,\n",
    "    alpha=.2,\n",
    "    color='r'\n",
    ")\n",
    "plt.xlabel('Head Strikes')\n",
    "plt.ylabel('Frequency')\n",
    "plt.show()"
   ]
  },
  {
   "cell_type": "code",
   "execution_count": null,
   "metadata": {},
   "outputs": [],
   "source": [
    "upper_landed = np.percentile(fight_df['head'].values, 99)\n",
    "#fight_df.loc[fight_df['head']>upper_landed, 'head'] = upper_landed\n",
    "upper_attempts = np.percentile(fight_df['head_attempts'].values, 99)\n",
    "#fight_df.loc[fight_df.head_attempts>upper_attempts, 'head_attempts'] = upper_attempts\n",
    "sns.jointplot(\n",
    "    'head_attempts', \n",
    "    'head', \n",
    "    data=fight_df[(fight_df['head']<upper_landed) & (fight_df.head_attempts<upper_attempts)], \n",
    "    size=9, \n",
    "    kind='hex',\n",
    "    color=color[3]\n",
    ")\n",
    "plt.show()"
   ]
  },
  {
   "cell_type": "code",
   "execution_count": null,
   "metadata": {},
   "outputs": [],
   "source": [
    "# plt.figure(figsize=(12,8))\n",
    "sns.lmplot(\n",
    "    'head_attempts',\n",
    "    'head',\n",
    "    data=fight_df,\n",
    "    hue='win/loss',\n",
    "    palette='Set1',\n",
    "    scatter_kws={'alpha':.3},\n",
    "    fit_reg=False,\n",
    "    size=9,\n",
    "    aspect=2\n",
    ")\n",
    "plt.show()"
   ]
  },
  {
   "cell_type": "code",
   "execution_count": null,
   "metadata": {},
   "outputs": [],
   "source": [
    "# plt.figure(figsize=(12,8))\n",
    "sns.lmplot(\n",
    "    'head_attempts',\n",
    "    'head',\n",
    "    data=fight_diffs,\n",
    "    hue='win/loss',\n",
    "    palette='Set1',\n",
    "    scatter_kws={'alpha':.3},\n",
    "    fit_reg=False,\n",
    "    size=9,\n",
    "    aspect=1.4\n",
    ")\n",
    "plt.show()"
   ]
  },
  {
   "cell_type": "markdown",
   "metadata": {},
   "source": [
    "#### Leg"
   ]
  },
  {
   "cell_type": "code",
   "execution_count": null,
   "metadata": {},
   "outputs": [],
   "source": [
    "fight_df.leg.describe()"
   ]
  },
  {
   "cell_type": "code",
   "execution_count": null,
   "metadata": {},
   "outputs": [],
   "source": [
    "plt.figure(figsize=(12,8))\n",
    "plt.hist(\n",
    "    'leg',\n",
    "    data=fight_df[fight_df['win/loss']==1],\n",
    "    log=True,\n",
    "    bins=50,\n",
    "    alpha=.2,\n",
    "    color='b'\n",
    ")\n",
    "plt.hist(\n",
    "    'leg',\n",
    "    data=fight_df[fight_df['win/loss']==0],\n",
    "    log=True,\n",
    "    bins=50,\n",
    "    alpha=.2,\n",
    "    color='r'\n",
    ")\n",
    "plt.xlabel('Leg Strikes')\n",
    "plt.ylabel('log(Frequency)')\n",
    "plt.show()"
   ]
  },
  {
   "cell_type": "code",
   "execution_count": null,
   "metadata": {},
   "outputs": [],
   "source": [
    "sns.jointplot('leg_attempts', 'leg', data=fight_df, size=9, alpha=.2, color=color[3])\n",
    "plt.show()"
   ]
  },
  {
   "cell_type": "code",
   "execution_count": null,
   "metadata": {},
   "outputs": [],
   "source": [
    "sns.lmplot(\n",
    "    'leg_attempts',\n",
    "    'leg',\n",
    "    data=fight_diffs,\n",
    "    hue='win/loss',\n",
    "    palette='Set1',\n",
    "    scatter_kws={'alpha':.3},\n",
    "#     fit_reg=False,\n",
    "    size=9,\n",
    "    aspect=1.3\n",
    ")\n",
    "plt.show()"
   ]
  },
  {
   "cell_type": "markdown",
   "metadata": {},
   "source": [
    "### Strike Types"
   ]
  },
  {
   "cell_type": "markdown",
   "metadata": {},
   "source": [
    "#### Ground and Pound\n",
    "\n",
    "Let's take a look at the number of ground strikes attempted and landed across the distribution."
   ]
  },
  {
   "cell_type": "code",
   "execution_count": null,
   "metadata": {},
   "outputs": [],
   "source": [
    "fight_df.ground.describe()"
   ]
  },
  {
   "cell_type": "code",
   "execution_count": null,
   "metadata": {},
   "outputs": [],
   "source": [
    "plt.figure(figsize=(12,8))\n",
    "plt.hist(\n",
    "    'ground',\n",
    "    data=fight_df[fight_df['win/loss']==1],\n",
    "    log=True,\n",
    "    bins=50,\n",
    "    alpha=.2,\n",
    "    color='b'\n",
    ")\n",
    "plt.hist(\n",
    "    'ground',\n",
    "    data=fight_df[fight_df['win/loss']==0],\n",
    "    log=True,\n",
    "    bins=50,\n",
    "    alpha=.2,\n",
    "    color='r'\n",
    ")\n",
    "plt.xlabel('Ground and Pound')\n",
    "plt.ylabel('log(Frequency)')\n",
    "plt.show()"
   ]
  },
  {
   "cell_type": "code",
   "execution_count": null,
   "metadata": {},
   "outputs": [],
   "source": [
    "temp_df = fight_df[['ground_attempts', 'ground']]\n",
    "sns.jointplot(temp_df.ground_attempts, temp_df.ground, size=9, alpha=.1, color=color[3])\n",
    "plt.show()"
   ]
  },
  {
   "cell_type": "code",
   "execution_count": null,
   "metadata": {},
   "outputs": [],
   "source": [
    "sns.lmplot(\n",
    "    'ground_attempts',\n",
    "    'ground',\n",
    "    data=fight_diffs,\n",
    "    hue='win/loss',\n",
    "    palette='Set1',\n",
    "    scatter_kws={'alpha':.3},\n",
    "    fit_reg=False,\n",
    "    size=9,\n",
    "    aspect=1.5\n",
    ")\n",
    "plt.show()"
   ]
  },
  {
   "cell_type": "markdown",
   "metadata": {},
   "source": [
    "#### Distance"
   ]
  },
  {
   "cell_type": "code",
   "execution_count": null,
   "metadata": {},
   "outputs": [],
   "source": [
    "fight_df.distance.describe()"
   ]
  },
  {
   "cell_type": "markdown",
   "metadata": {},
   "source": [
    "That's quite a range! The mean is 19 but someone landed 228 strikes from distance. I would not want to be on the receiving end of that. Let's take a look at how the distance strikes landed line up with the distance strike attempts."
   ]
  },
  {
   "cell_type": "code",
   "execution_count": null,
   "metadata": {
    "scrolled": false
   },
   "outputs": [],
   "source": [
    "upper_landed = np.percentile(fight_df['distance'].values, 99)\n",
    "# fight_df.loc[fight_df.distance>upper_landed, 'distance'] = upper_landed\n",
    "upper_attempts = np.percentile(fight_df['distance_attempts'].values, 99)\n",
    "# fight_df.loc[fight_df.distance_attempts>upper_attempts, 'distance_attempts'] = upper_attempts\n",
    "sns.jointplot(\n",
    "    'distance_attempts', \n",
    "    'distance', \n",
    "    data=fight_df[(fight_df.distance<upper_landed)&(fight_df.distance_attempts<upper_attempts)], \n",
    "    kind='hex', \n",
    "    size=9, \n",
    "    color='r'\n",
    ")\n",
    "plt.show()"
   ]
  },
  {
   "cell_type": "code",
   "execution_count": null,
   "metadata": {},
   "outputs": [],
   "source": [
    "sns.lmplot(\n",
    "    'distance_attempts',\n",
    "    'distance',\n",
    "    data=fight_diffs,\n",
    "    hue='win/loss',\n",
    "    palette='Set1',\n",
    "    scatter_kws={'alpha':.3},\n",
    "    fit_reg=False,\n",
    "    size=9,\n",
    "    aspect=1.5\n",
    ")\n",
    "plt.show()"
   ]
  },
  {
   "cell_type": "markdown",
   "metadata": {},
   "source": [
    "#### Clinch"
   ]
  },
  {
   "cell_type": "code",
   "execution_count": null,
   "metadata": {},
   "outputs": [],
   "source": [
    "fight_df.clinch.describe()"
   ]
  },
  {
   "cell_type": "code",
   "execution_count": null,
   "metadata": {
    "scrolled": false
   },
   "outputs": [],
   "source": [
    "plt.figure(figsize=(12,8))\n",
    "plt.hist(\n",
    "    'clinch',\n",
    "    data=fight_df[fight_df['win/loss']==1],\n",
    "    log=True,\n",
    "    bins=50,\n",
    "    alpha=.2,\n",
    "    color='b'\n",
    ")\n",
    "plt.hist(\n",
    "    'clinch',\n",
    "    data=fight_df[fight_df['win/loss']==0],\n",
    "    log=True,\n",
    "    bins=50,\n",
    "    alpha=.2,\n",
    "    color='r'\n",
    ")\n",
    "plt.xlabel('Clinch')\n",
    "plt.ylabel('log(Frequency)')\n",
    "plt.show()"
   ]
  },
  {
   "cell_type": "markdown",
   "metadata": {},
   "source": [
    "The distribution of successful clinch strikes is highly right-skewed, which makes it a good candidate for a log scale. Plotting clinch attempts vs clinch strikes shows that the data is highly correlated as well. With an r-value of .97, we can see that the number of clinch strikes highly depends on the number of attempts."
   ]
  },
  {
   "cell_type": "code",
   "execution_count": null,
   "metadata": {},
   "outputs": [],
   "source": [
    "sns.jointplot('clinch_attempts', 'clinch', data=fight_df, alpha=.1, size=9, color='r')\n",
    "plt.show()"
   ]
  },
  {
   "cell_type": "code",
   "execution_count": null,
   "metadata": {},
   "outputs": [],
   "source": [
    "sns.lmplot(\n",
    "    'clinch_attempts',\n",
    "    'clinch',\n",
    "    data=fight_diffs,\n",
    "    hue='win/loss',\n",
    "    palette='Set1',\n",
    "    scatter_kws={'alpha':.3},\n",
    "    fit_reg=False,\n",
    "    size=9,\n",
    "    aspect=1.2\n",
    ")\n",
    "plt.show()"
   ]
  },
  {
   "cell_type": "markdown",
   "metadata": {},
   "source": [
    "#### Significant Strikes"
   ]
  },
  {
   "cell_type": "code",
   "execution_count": null,
   "metadata": {},
   "outputs": [],
   "source": [
    "fight_df.sig_strikes.describe()"
   ]
  },
  {
   "cell_type": "code",
   "execution_count": null,
   "metadata": {},
   "outputs": [],
   "source": [
    "plt.figure(figsize=(12,8))\n",
    "plt.hist(\n",
    "    'sig_strikes',\n",
    "    data=fight_df[fight_df['win/loss']==1],\n",
    "    log=True,\n",
    "    bins=50,\n",
    "    alpha=.2,\n",
    "    color='b'\n",
    ")\n",
    "plt.hist(\n",
    "    'sig_strikes',\n",
    "    data=fight_df[fight_df['win/loss']==0],\n",
    "    log=True,\n",
    "    bins=50,\n",
    "    alpha=.2,\n",
    "    color='r'\n",
    ")\n",
    "plt.xlabel('Significant Strikes')\n",
    "plt.ylabel('Frequency')\n",
    "plt.show()"
   ]
  },
  {
   "cell_type": "code",
   "execution_count": null,
   "metadata": {},
   "outputs": [],
   "source": [
    "plt.figure(figsize=(12,8))\n",
    "plt.hist(\n",
    "    'sig_strikes',\n",
    "    data=fight_winner_diff,\n",
    "    #log=True,\n",
    "    bins=50,\n",
    "    alpha=.2,\n",
    "    color='b'\n",
    ")\n",
    "plt.hist(\n",
    "    'sig_strikes',\n",
    "    data=fight_loser_diff,\n",
    "    #log=True,\n",
    "    bins=50,\n",
    "    alpha=.2,\n",
    "    color='r'\n",
    ")\n",
    "plt.xlabel('Significant Strikes')\n",
    "plt.ylabel('Frequency')\n",
    "plt.show()"
   ]
  },
  {
   "cell_type": "code",
   "execution_count": null,
   "metadata": {},
   "outputs": [],
   "source": [
    "upper_landed = np.percentile(fight_df['sig_strikes'].values, 99)\n",
    "# fight_df.loc[fight_df['sig_strikes']>upper_landed, 'sig_strikes'] = upper_landed\n",
    "upper_attempts = np.percentile(fight_df['sig_attempts'].values, 99)\n",
    "# fight_df.loc[fight_df.sig_attempts>upper_attempts, 'sig_attempts'] = upper_attempts\n",
    "sns.jointplot(\n",
    "    'sig_attempts', \n",
    "    'sig_strikes', \n",
    "    data=fight_df[(fight_df.sig_strikes<upper_landed)&(fight_df.sig_attempts<upper_attempts)], \n",
    "    size=9, \n",
    "    kind='hex', \n",
    "    color='r')\n",
    "plt.show()"
   ]
  },
  {
   "cell_type": "code",
   "execution_count": null,
   "metadata": {},
   "outputs": [],
   "source": [
    "sns.lmplot(\n",
    "    'sig_attempts',\n",
    "    'sig_strikes',\n",
    "    data=fight_diffs,\n",
    "    hue='win/loss',\n",
    "    palette='Set1',\n",
    "    scatter_kws={'alpha':.3},\n",
    "    fit_reg=False,\n",
    "    size=9,\n",
    "    aspect=1.5\n",
    ")\n",
    "plt.show()"
   ]
  },
  {
   "cell_type": "markdown",
   "metadata": {},
   "source": [
    "#### Overall Strikes"
   ]
  },
  {
   "cell_type": "code",
   "execution_count": null,
   "metadata": {},
   "outputs": [],
   "source": [
    "fight_df.strikes.describe()"
   ]
  },
  {
   "cell_type": "code",
   "execution_count": null,
   "metadata": {},
   "outputs": [],
   "source": [
    "plt.figure(figsize=(12,8))\n",
    "plt.hist(\n",
    "    'strikes',\n",
    "    data=fight_df[fight_df['win/loss']==1],\n",
    "    log=True,\n",
    "    bins=50,\n",
    "    alpha=.2,\n",
    "    color='b'\n",
    ")\n",
    "plt.hist(\n",
    "    'strikes',\n",
    "    data=fight_df[fight_df['win/loss']==0],\n",
    "    log=True,\n",
    "    bins=50,\n",
    "    alpha=.2,\n",
    "    color='r'\n",
    ")\n",
    "plt.xlabel('Strikes')\n",
    "plt.ylabel('Frequency')\n",
    "plt.show()"
   ]
  },
  {
   "cell_type": "code",
   "execution_count": null,
   "metadata": {},
   "outputs": [],
   "source": [
    "upper_landed = np.percentile(fight_df['strikes'].values, 99)\n",
    "# fight_df.loc[fight_df['strikes']>upper_landed, 'strikes'] = upper_landed\n",
    "upper_attempts = np.percentile(fight_df['strike_attempts'].values, 99)\n",
    "# fight_df.loc[fight_df.strike_attempts>upper_attempts, 'strike_attempts'] = upper_attempts\n",
    "sns.jointplot(\n",
    "    'strike_attempts', \n",
    "    'strikes', \n",
    "    data=fight_df[(fight_df.strikes<upper_landed)&(fight_df.strike_attempts<upper_attempts)], \n",
    "    size=9, \n",
    "    kind='hex', \n",
    "    color='r')\n",
    "plt.show()"
   ]
  },
  {
   "cell_type": "code",
   "execution_count": null,
   "metadata": {},
   "outputs": [],
   "source": [
    "plt.figure(figsize=(12,8))\n",
    "plt.hist(\n",
    "    'strikes',\n",
    "    data=fight_winner_diff,\n",
    "    log=True,\n",
    "    bins=50,\n",
    "    alpha=.2,\n",
    "    color='b'\n",
    ")\n",
    "plt.hist(\n",
    "    'strikes',\n",
    "    data=fight_loser_diff,\n",
    "    log=True,\n",
    "    bins=50,\n",
    "    alpha=.2,\n",
    "    color='r'\n",
    ")\n",
    "plt.xlabel('Strikes')\n",
    "plt.ylabel('Frequency')\n",
    "plt.show()"
   ]
  },
  {
   "cell_type": "code",
   "execution_count": null,
   "metadata": {},
   "outputs": [],
   "source": [
    "fight_df[fight_df.name=='Justin Edwards']"
   ]
  },
  {
   "cell_type": "code",
   "execution_count": null,
   "metadata": {},
   "outputs": [],
   "source": [
    "fight_df[fight_df.fight_id == 2444]"
   ]
  },
  {
   "cell_type": "code",
   "execution_count": null,
   "metadata": {},
   "outputs": [],
   "source": [
    "fight_loser_diff[fight_loser_diff.strikes > 150]"
   ]
  },
  {
   "cell_type": "code",
   "execution_count": null,
   "metadata": {},
   "outputs": [],
   "source": [
    "sns.lmplot(\n",
    "    'strike_attempts',\n",
    "    'strikes',\n",
    "    data=fight_diffs,\n",
    "    hue='win/loss',\n",
    "    palette='Set1',\n",
    "    scatter_kws={'alpha':.3},\n",
    "    fit_reg=False,\n",
    "    size=9,\n",
    "    aspect=1.2\n",
    ")\n",
    "plt.show()"
   ]
  },
  {
   "cell_type": "markdown",
   "metadata": {},
   "source": [
    "### Grappling"
   ]
  },
  {
   "cell_type": "markdown",
   "metadata": {},
   "source": [
    "#### Submissions\n",
    "\n",
    "This variable will require a bit of reworking. The submission variable is binary, while the submissions attempted is discrete. That makes sense of course, becaues you can't submit someone more than once in a match by definition (unless you count twitter wars). So for this aspect, let's take at the distribution of submissions attempts vs the method used. My theory is that submission attempts are higher in fights that end that way, but let's take a look at the data!"
   ]
  },
  {
   "cell_type": "code",
   "execution_count": null,
   "metadata": {},
   "outputs": [],
   "source": [
    "upper_attempts = np.percentile(fight_df.sub_attempts, 99)\n",
    "plt.figure(figsize=(12,8))\n",
    "sns.violinplot(\n",
    "    x=\"method\", \n",
    "    y=\"sub_attempts\", \n",
    "    data=fight_df[(fight_df.sub_attempts<upper_attempts)])\n",
    "plt.show()"
   ]
  },
  {
   "cell_type": "markdown",
   "metadata": {},
   "source": [
    "What an interesting distribution! And just as expected, fights that end in submission have a higher percentage of submisssion attempts greater than zero. Interestingly, fights that end in decision aren't heavy on submission attempts. This could be due to the nature of how fights are scored overall since submission attempts do not give a fighter as many points as strikes.\n",
    "\n",
    "Another thing that jumped out at me is the number of submission wins with zero submission attempts. I would expect that every fight that ends in submission contained at least one submission attempt, but I'm guessing they count submission due to strikes as well."
   ]
  },
  {
   "cell_type": "markdown",
   "metadata": {},
   "source": [
    "#### Passes"
   ]
  },
  {
   "cell_type": "code",
   "execution_count": null,
   "metadata": {},
   "outputs": [],
   "source": [
    "w_counts = fight_df.loc[fight_df['win/loss']==1,'pass'].value_counts()\n",
    "l_counts = fight_df.loc[fight_df['win/loss']==0,'pass'].value_counts()\n",
    "plt.figure(figsize=(12,8))\n",
    "plt.bar(\n",
    "    w_counts.index,\n",
    "    w_counts.values,\n",
    "    alpha=.3,\n",
    "    color='b'\n",
    ")\n",
    "plt.bar(\n",
    "    l_counts.index,\n",
    "    l_counts.values,\n",
    "    alpha=.3,\n",
    "    color='r'\n",
    ")\n",
    "plt.xlabel('Passes')\n",
    "plt.ylabel('Frequency')\n",
    "'''\n",
    "for x,y in zip(counts.index, counts.values):\n",
    "    plt.text(x, y, y, ha='center', va='bottom')\n",
    "'''\n",
    "plt.show()"
   ]
  },
  {
   "cell_type": "markdown",
   "metadata": {},
   "source": [
    "#### Reversals"
   ]
  },
  {
   "cell_type": "code",
   "execution_count": null,
   "metadata": {},
   "outputs": [],
   "source": [
    "w_counts = fight_df.loc[fight_df['win/loss']==1,'reversals'].value_counts()\n",
    "l_counts = fight_df.loc[fight_df['win/loss']==0,'reversals'].value_counts()\n",
    "plt.figure(figsize=(12,8))\n",
    "plt.bar(\n",
    "    w_counts.index,\n",
    "    w_counts.values,\n",
    "    alpha=.3,\n",
    "    color='b'\n",
    ")\n",
    "plt.bar(\n",
    "    l_counts.index,\n",
    "    l_counts.values,\n",
    "    alpha=.3,\n",
    "    color='r'\n",
    ")\n",
    "plt.xlabel('Reversals')\n",
    "plt.ylabel('Frequency')\n",
    "'''\n",
    "for x,y in zip(counts.index, counts.values):\n",
    "    plt.text(x, y, y, ha='center', va='bottom')\n",
    "'''\n",
    "plt.show()"
   ]
  },
  {
   "cell_type": "markdown",
   "metadata": {},
   "source": [
    "#### Takedowns"
   ]
  },
  {
   "cell_type": "code",
   "execution_count": null,
   "metadata": {},
   "outputs": [],
   "source": [
    "w_counts = fight_df.loc[fight_df['win/loss']==1,'takedowns'].value_counts()\n",
    "l_counts = fight_df.loc[fight_df['win/loss']==0,'takedowns'].value_counts()\n",
    "plt.figure(figsize=(12,8))\n",
    "plt.bar(\n",
    "    w_counts.index,\n",
    "    w_counts.values,\n",
    "    alpha=.3,\n",
    "    color='b'\n",
    ")\n",
    "plt.bar(\n",
    "    l_counts.index,\n",
    "    l_counts.values,\n",
    "    alpha=.3,\n",
    "    color='r'\n",
    ")\n",
    "plt.xlabel('Takedowns')\n",
    "plt.ylabel('Frequency')\n",
    "plt.show()"
   ]
  },
  {
   "cell_type": "code",
   "execution_count": null,
   "metadata": {},
   "outputs": [],
   "source": [
    "upper_landed = np.percentile(fight_df['takedowns'].values, 99)\n",
    "upper_attempts = np.percentile(fight_df['td_attempts'].values, 99)\n",
    "sns.jointplot(\n",
    "    'td_attempts', \n",
    "    'takedowns', \n",
    "#     data=fight_df[(fight_df.takedowns<=upper_landed)&(fight_df.td_attempts<=upper_attempts)],\n",
    "    data=fight_df,\n",
    "    size=9,\n",
    "    alpha=.1,\n",
    "    color=color[1])\n",
    "#     kind='hex',\n",
    "#     marginal_kws={'bins':50})\n",
    "plt.show()"
   ]
  },
  {
   "cell_type": "markdown",
   "metadata": {},
   "source": [
    "### Knockdowns"
   ]
  },
  {
   "cell_type": "code",
   "execution_count": null,
   "metadata": {},
   "outputs": [],
   "source": [
    "w_counts = fight_df.loc[fight_df['win/loss']==1,'knockdowns'].value_counts()\n",
    "l_counts = fight_df.loc[fight_df['win/loss']==0,'knockdowns'].value_counts()\n",
    "plt.figure(figsize=(12,8))\n",
    "plt.bar(\n",
    "    w_counts.index,\n",
    "    w_counts.values,\n",
    "    alpha=.3,\n",
    "    color='b'\n",
    ")\n",
    "plt.bar(\n",
    "    l_counts.index,\n",
    "    l_counts.values,\n",
    "    alpha=.3,\n",
    "    color='r'\n",
    ")\n",
    "plt.xlabel('Knockdowns')\n",
    "plt.ylabel('Frequency')\n",
    "plt.show()"
   ]
  },
  {
   "cell_type": "markdown",
   "metadata": {},
   "source": [
    "### Referees and Fighters"
   ]
  },
  {
   "cell_type": "code",
   "execution_count": null,
   "metadata": {},
   "outputs": [],
   "source": [
    "def grey_color_func(word, font_size, position, orientation, random_state=None,\n",
    "                    **kwargs):\n",
    "    return \"hsl(0, 100%, {}%)\".format(random.randint(25, 50))\n",
    "\n",
    "# Extract referee text from fight_df\n",
    "text = \" \".join(\"_\".join(ref.split()) for ref in fight_df[fight_df.referee.notnull()].referee.tolist())\n",
    "\n",
    "# read the mask image\n",
    "ufc_mask = np.array(Image.open(\"images/UFC_Logo.png\"))\n",
    "\n",
    "wc = WordCloud(background_color=\"white\", mask=ufc_mask, random_state=42)\n",
    "# generate word cloud\n",
    "wc.generate(text)\n",
    "\n",
    "wc.recolor(color_func=grey_color_func, random_state=3)\n",
    "\n",
    "# store to file\n",
    "wc.to_file(\"images/ufc_red_wordcloud.png\")\n",
    "\n",
    "# show\n",
    "plt.figure(figsize=(12,8))\n",
    "plt.imshow(wc, interpolation='bilinear')\n",
    "plt.axis(\"off\")\n",
    "plt.show()"
   ]
  },
  {
   "cell_type": "code",
   "execution_count": null,
   "metadata": {},
   "outputs": [],
   "source": [
    "def custom_color_func(word, font_size, position, orientation, random_state=None,\n",
    "                    **kwargs):\n",
    "    return \"hsl(0, 100%, {}%)\".format(random.randint(25, 50))\n",
    "\n",
    "# Extract referee text from fight_df\n",
    "text = \" \".join(\"_\".join(fighter.split()) for fighter in fight_df[fight_df.name.notnull()].name.tolist())\n",
    "\n",
    "# read the mask image\n",
    "fighter_mask = np.array(Image.open(\"images/shadowboxing.jpg\"))\n",
    "\n",
    "\n",
    "wc = WordCloud(max_words=1000, background_color=\"white\", mask=fighter_mask, random_state=1)\n",
    "# generate word cloud\n",
    "wc.generate(text)\n",
    "\n",
    "wc.recolor(color_func=custom_color_func, random_state=3)\n",
    "\n",
    "# store to file\n",
    "wc.to_file(\"images/ufc_fighter_red_wordcloud.png\")\n",
    "\n",
    "# show\n",
    "plt.figure(figsize=(14,12))\n",
    "plt.imshow(wc.recolor(color_func=custom_color_func, random_state=3), interpolation='bilinear')\n",
    "plt.axis(\"off\")\n",
    "plt.show()"
   ]
  },
  {
   "cell_type": "markdown",
   "metadata": {},
   "source": [
    "### Rounds\n",
    "\n",
    "Finally, let's see how the rounds are distributed. A fight can end in any round, but the maximum number of rounds for each fight depends on whether it's a title fight. Title fights are 5 rounds long while non-title fights are 3 rounds long."
   ]
  },
  {
   "cell_type": "code",
   "execution_count": null,
   "metadata": {},
   "outputs": [],
   "source": [
    "counts = fight_df['round'].value_counts()\n",
    "plt.figure(figsize=(12,8))\n",
    "plt.bar(counts.index, counts.values, alpha=.7, color='g')\n",
    "plt.xlabel('Round')\n",
    "plt.ylabel('Frequency')\n",
    "for x,y in zip(counts.index, counts.values):\n",
    "    plt.text(x, y, y, ha='center', va='bottom')\n",
    "plt.show()"
   ]
  },
  {
   "cell_type": "markdown",
   "metadata": {},
   "source": [
    "Very interesting. The most frequent fight length was 3 rounds while the least frequent was 4. This tells me that most fights probably go to a decision rather than KO or submission. Let's take a look at the data!"
   ]
  },
  {
   "cell_type": "markdown",
   "metadata": {},
   "source": [
    "### Method"
   ]
  },
  {
   "cell_type": "code",
   "execution_count": null,
   "metadata": {},
   "outputs": [],
   "source": [
    "fight_df['method'].value_counts()"
   ]
  },
  {
   "cell_type": "markdown",
   "metadata": {},
   "source": [
    "The first thing that jumps out at me is the \"Could\" category. I have no idea what that represents. I'm guessing it's a typo but I'll have to do some research to see what's going on there. I'll also check out what the \"Other\" category might represent.\n",
    "\n",
    "Most fights end in either Decision, KO/TKO or Submission. The categories below that are in such small quantities that I'd call them outliers to be removed. There's no way to predict whether a fight will be overturned or whether a fighter will get DQ'd, so it makes no sense to include those categories.\n",
    "\n",
    "I wonder why they separated KO/TKO and TKO into two separate groups? That seems worth researching to see if maybe we can consolidate the two categories."
   ]
  },
  {
   "cell_type": "code",
   "execution_count": null,
   "metadata": {},
   "outputs": [],
   "source": [
    "fight_df[fight_df.method=='Could'].iloc[-10:, :5]"
   ]
  },
  {
   "cell_type": "code",
   "execution_count": null,
   "metadata": {},
   "outputs": [],
   "source": [
    "fight_df[fight_df.method=='Other'].iloc[:, :5]"
   ]
  },
  {
   "cell_type": "code",
   "execution_count": null,
   "metadata": {},
   "outputs": [],
   "source": [
    "fight_df[fight_df.method=='TKO'].iloc[-10:, :5]"
   ]
  },
  {
   "cell_type": "markdown",
   "metadata": {},
   "source": [
    "After doing a little market research and totally not wasting time by watching UFC fights, it looks like the \"Could\" category stands for no contest, \"Other\" stands for draws and \"TKO\" stands for fights where one fighter could not continue due to injury. Each of these scenarios present different challenges. Before going further, let's change \"Could\" to \"No Contest\", \"Other\" to \"Draw\" and change TKO to \"Injury\"."
   ]
  },
  {
   "cell_type": "code",
   "execution_count": null,
   "metadata": {
    "collapsed": true
   },
   "outputs": [],
   "source": [
    "fight_df.loc[fight_df.method=='Could', 'method'] = \"No Contest\"\n",
    "fight_df.loc[fight_df.method=='TKO', \"method\"] = \"Injury\"\n",
    "fight_df.loc[fight_df.method=='Other', \"method\"] = \"Draw\""
   ]
  },
  {
   "cell_type": "code",
   "execution_count": null,
   "metadata": {
    "collapsed": true
   },
   "outputs": [],
   "source": [
    "fight_diffs.loc[fight_diffs.method=='Could', 'method'] = \"No Contest\"\n",
    "fight_diffs.loc[fight_diffs.method=='TKO', \"method\"] = \"Injury\"\n",
    "fight_diffs.loc[fight_diffs.method=='Other', \"method\"] = \"Draw\""
   ]
  },
  {
   "cell_type": "code",
   "execution_count": null,
   "metadata": {
    "collapsed": true
   },
   "outputs": [],
   "source": [
    "fight_ratios.loc[fight_ratios.method=='Could', 'method'] = \"No Contest\"\n",
    "fight_ratios.loc[fight_ratios.method=='TKO', \"method\"] = \"Injury\"\n",
    "fight_ratios.loc[fight_ratios.method=='Other', \"method\"] = \"Draw\""
   ]
  },
  {
   "cell_type": "markdown",
   "metadata": {},
   "source": [
    "Fights that stop due to injury are usually fights in which one fighter has been beating his opponent so badly, they had to stop the fight because the opponent couldn't continue. I'll probably do some more market research later, but right now I see that as a win. The goal is to beat up the other fighter, so mission accomplished. I don't know if I'll combine that category with TKO/KO's, but it's a valid win.\n",
    "\n",
    "No contests and draws, however are a different story. Neither one demonstrates that one side dominated the other and in many cases they are the result of luck. Because of this, they will most likely be dropped from the dataset before building any models."
   ]
  },
  {
   "cell_type": "code",
   "execution_count": null,
   "metadata": {},
   "outputs": [],
   "source": [
    "counts = fight_df['method'].value_counts()\n",
    "plt.figure(figsize=(12,8))\n",
    "plt.bar(range(len(counts.index)), counts.values, alpha=.7)\n",
    "plt.xlabel('Method')\n",
    "plt.ylabel('Frequency')\n",
    "plt.xticks(range(len(counts.index)), counts.index)\n",
    "for x,y in zip(range(len(counts.index)), counts.values):\n",
    "    plt.text(x, y, y, ha='center', va='bottom')\n",
    "plt.show()"
   ]
  },
  {
   "cell_type": "markdown",
   "metadata": {
    "_cell_guid": "e4fc5eb1-bce1-4cc2-8ce2-4c672e23abfb",
    "_uuid": "60b14f9a264e3e970ebf1c578354677049a4d6e2"
   },
   "source": [
    "## Data Cleaning\n",
    "\n",
    "The first step in data cleaning is to remove obvious outliers and columns that will not contribute to the model. One starting point is narrowing down the fights to just Decisions, TKO/KOs and submissions, excluding the minor categories. No contests are nearly impossible to predict as are draws, so it doesn't make sense to account for them. Here's a list of ideas so far:\n",
    "\n",
    "1. Drop no contests, DQ's, draws, etc\n",
    "2. Create accuracy percentages where appropriate\n",
    "3. Keep a running tally of each fighter's record (wins/losses)"
   ]
  },
  {
   "cell_type": "markdown",
   "metadata": {},
   "source": [
    "### Dropping No Contests, DQ's, etc"
   ]
  },
  {
   "cell_type": "code",
   "execution_count": null,
   "metadata": {
    "_cell_guid": "fdd943bf-0a43-48e8-97ca-39e8d0d1244c",
    "_execution_state": "idle",
    "_uuid": "23ac3e73a2c898d4a95c8545bc6bb5e1900e0af5",
    "scrolled": true
   },
   "outputs": [],
   "source": [
    "unwanted = ['Overturned', 'No Contest', 'DQ', 'Draw']\n",
    "for val in unwanted:\n",
    "    fight_df = fight_df[fight_df['method']!=val]\n",
    "    fight_diffs = fight_diffs[fight_diffs['method']!=val]\n",
    "    fight_ratios = fight_ratios[fight_ratios['method']!=val]"
   ]
  },
  {
   "cell_type": "markdown",
   "metadata": {},
   "source": [
    "### Checking for NaN's"
   ]
  },
  {
   "cell_type": "code",
   "execution_count": null,
   "metadata": {},
   "outputs": [],
   "source": [
    "len(fight_diffs[fight_diffs.isnull().any(axis=1)])"
   ]
  },
  {
   "cell_type": "markdown",
   "metadata": {},
   "source": [
    "### Logical Errors\n",
    "\n",
    "Now that the missing values have been taken care of, it might be a good idea to check for any logical errors. Any situations where strikes landed > strikes attempted, takedowns > takedown attempts, etc should be looked at carefully. Let's run a short script to see if any of the above situations are present."
   ]
  },
  {
   "cell_type": "code",
   "execution_count": null,
   "metadata": {},
   "outputs": [],
   "source": [
    "a_cols = [\n",
    "    u'body_attempts', u'clinch_attempts', u'distance_attempts',\n",
    "    u'ground_attempts', u'head_attempts', u'leg_attempts', u'sig_attempts',\n",
    "    u'strike_attempts', u'td_attempts'\n",
    "]\n",
    "\n",
    "l_cols = [\n",
    "    u'body', u'clinch', u'distance', u'ground', u'head', u'leg', u'sig_strikes',\n",
    "    u'strikes', u'takedowns'\n",
    "]\n",
    "\n",
    "for attempts, landed in zip(a_cols, l_cols):\n",
    "    print attempts\n",
    "    print fight_df[fight_df[attempts]<fight_df[landed]][[attempts,landed]]"
   ]
  },
  {
   "cell_type": "markdown",
   "metadata": {},
   "source": [
    "Looks good, all output columns are empty as expected."
   ]
  },
  {
   "cell_type": "markdown",
   "metadata": {
    "_cell_guid": "93cbf393-b9a9-43ef-aa3a-db8a1d622a42",
    "_uuid": "c14b77c6610f405be31c9bb108c250d0f1c82512"
   },
   "source": [
    "## Feature Engineering\n",
    "\n",
    "What is it about each figher that makes him a favorite? This may require a lot or rearranging, so it may be worth it to think this through a bit first. I could reset each fighter's stats and only add stats that came prior to each fight. This would be a more comprehensive way of comparing each fighter and would align more closely to real-world applications. Here's a rough sketch of what the process might look like:\n",
    "\n",
    "1. Add columns for kicks taken, punches taken, etc?\n",
    "  1. One disadvantage is that this would mean nearly doubling the number of variables in a dataset that is already massive. This will hurt some machine learning models. Let's omit this for now and come back to it later if necessary."
   ]
  },
  {
   "cell_type": "markdown",
   "metadata": {
    "_cell_guid": "3c79b362-3492-4b63-a7ca-a1f9b574818b",
    "_uuid": "5779211f437c1c8b5959675de8d760934fc3074d"
   },
   "source": [
    "## Modeling\n",
    "\n",
    "We're going to be methodical when building and testing our algorithms. It's easy to run in circles due to the plethora of algorithms and parameters available. Is a decision tree a better choice? Or should we try Random Forest? What about Support Vector Machines? The machines need our support! Rather than going through all these possibilities and forgetting the results, we'll build pipelines and document our process as we go along. By staying organized, it will be easier to tell if we've already tried a solution. It may also serve to highlight the desired path a bit (one can only hope).\n",
    "\n",
    "Here's a list of models we have so far. We may add to this list, but it's a good starting place.\n",
    "\n",
    "1. Perceptron\n",
    "2. Random Forests\n",
    "3. Decision Trees Classifier\n",
    "4. SGD Classifier\n",
    "5. Linear SVC\n",
    "6. Gaussian NB\n",
    "7. KNN\n",
    "\n",
    "Of course, machine learning isn't just about finding that perfect algorithm. The results depend heavily on earlier steps in the process. One might even say that most of the accuracy depends on the exploratory analysis and feature engineering. That's why so much time was spent in that phase.\n",
    "\n",
    "Now that we have a few algorithms to explore, we'll pay close attention to each one's hyperparameters. If the data is unbalanced, we'll need to account for that and if it's overfitting / underfitting, we may have to make a different set of changes. There's a lot to absorb here. Let's take our time and keep in mind that data analysis is not a linear process. Sometimes we have to go back and forth between modeling, wrangling, exploring and feature engineering. We can't be afraid to get our hands dirty!"
   ]
  },
  {
   "cell_type": "code",
   "execution_count": null,
   "metadata": {},
   "outputs": [],
   "source": [
    "numerical_diffs.head()"
   ]
  },
  {
   "cell_type": "code",
   "execution_count": null,
   "metadata": {},
   "outputs": [],
   "source": [
    "numerical_diffs = fight_diffs.select_dtypes(include=[np.int64])\n",
    "numerical_diffs = numerical_diffs.drop(['fight_id', 'round'], axis=1)"
   ]
  },
  {
   "cell_type": "code",
   "execution_count": null,
   "metadata": {},
   "outputs": [],
   "source": [
    "numerical_ratios = fight_ratios.select_dtypes(include=[np.float, np.int64])\n",
    "numerical_ratios = numerical_ratios.drop(['fight_id', 'round'], axis=1)\n",
    "numerical_ratios.head()"
   ]
  },
  {
   "cell_type": "code",
   "execution_count": null,
   "metadata": {
    "_cell_guid": "2358b514-cb05-4acc-972d-c6668c3faa08",
    "_execution_state": "idle",
    "_uuid": "b848bf019778bab073e13f644bfe0f2d35a0d4e0",
    "collapsed": true
   },
   "outputs": [],
   "source": [
    "# We Store prediction of each model in our dict\n",
    "# Helper Functions for our models. \n",
    "\n",
    "def percep(X_train,Y_train,X_test,Y_test,Models):\n",
    "    perceptron = Perceptron(max_iter = 1000, tol = 0.001, random_state=42)\n",
    "    perceptron.fit(X_train, Y_train)\n",
    "    Y_pred = perceptron.predict(X_test)\n",
    "    Models['Perceptron'] = [accuracy_score(Y_test,Y_pred),confusion_matrix(Y_test,Y_pred)]\n",
    "    return\n",
    "\n",
    "def ranfor(X_train,Y_train,X_test,Y_test,Models):\n",
    "    randomfor = RandomForestClassifier(max_features=\"sqrt\",\n",
    "                                       n_estimators = 700,\n",
    "                                       max_depth = None,\n",
    "                                       n_jobs=-1,\n",
    "                                       random_state=42\n",
    "                                      )\n",
    "    randomfor.fit(X_train,Y_train)\n",
    "    Y_pred = randomfor.predict(X_test)\n",
    "    Models['Random Forests'] = [accuracy_score(Y_test,Y_pred),confusion_matrix(Y_test,Y_pred)]\n",
    "    return\n",
    "\n",
    "def dec_tree(X_train,Y_train,X_test,Y_test,Models):\n",
    "    decision_tree = DecisionTreeClassifier(random_state=42)\n",
    "    decision_tree.fit(X_train, Y_train)\n",
    "    Y_pred = decision_tree.predict(X_test)\n",
    "    Models['Decision Tree'] = [accuracy_score(Y_test,Y_pred),confusion_matrix(Y_test,Y_pred)]\n",
    "    return\n",
    "\n",
    "def SGDClass(X_train,Y_train,X_test,Y_test,Models):\n",
    "    sgd = SGDClassifier(max_iter = 1000, tol = 0.001, random_state=42)\n",
    "    sgd.fit(X_train, Y_train)\n",
    "    Y_pred = sgd.predict(X_test)\n",
    "    Models['SGD Classifier'] = [accuracy_score(Y_test,Y_pred),confusion_matrix(Y_test,Y_pred)]\n",
    "    return\n",
    "\n",
    "def linSVC(X_train,Y_train,X_test,Y_test,Models):\n",
    "    linear_svc = LinearSVC(random_state=42)\n",
    "    linear_svc.fit(X_train, Y_train)\n",
    "    Y_pred = linear_svc.predict(X_test)\n",
    "    Models['SVM'] = [accuracy_score(Y_test,Y_pred),confusion_matrix(Y_test,Y_pred)]\n",
    "    return\n",
    "\n",
    "def bayes(X_train,Y_train,X_test,Y_test,Models):\n",
    "    gaussian = GaussianNB()\n",
    "    gaussian.fit(X_train, Y_train)\n",
    "    Y_pred = gaussian.predict(X_test)\n",
    "    Models['Bayes'] = [accuracy_score(Y_test,Y_pred),confusion_matrix(Y_test,Y_pred)]\n",
    "    return\n",
    "\n",
    "def Nearest(X_train,Y_train,X_test,Y_test,Models):\n",
    "    knn = KNeighborsClassifier(n_neighbors = 3)\n",
    "    knn.fit(X_train, Y_train)\n",
    "    Y_pred = knn.predict(X_test)\n",
    "    Models['KNN'] = [accuracy_score(Y_test,Y_pred),confusion_matrix(Y_test,Y_pred)]\n",
    "\n",
    "def run_all_and_Plot(df):\n",
    "    Models = dict()\n",
    "    from sklearn.model_selection import train_test_split\n",
    "    X_all = df.drop(['win/loss'], axis=1)\n",
    "    y_all = df['win/loss']\n",
    "    X_train, X_test, Y_train, Y_test = train_test_split(X_all, y_all, test_size=0.2, random_state=0)\n",
    "    percep(X_train,Y_train,X_test,Y_test,Models)\n",
    "    ranfor(X_train,Y_train,X_test,Y_test,Models)\n",
    "    dec_tree(X_train,Y_train,X_test,Y_test,Models)\n",
    "    SGDClass(X_train,Y_train,X_test,Y_test,Models)\n",
    "    linSVC(X_train,Y_train,X_test,Y_test,Models)\n",
    "    bayes(X_train,Y_train,X_test,Y_test,Models)\n",
    "    Nearest(X_train,Y_train,X_test,Y_test,Models)\n",
    "    return Models\n",
    "\n",
    "\n",
    "def plot_bar(dict):\n",
    "    labels = tuple(dict.keys())\n",
    "    y_pos = np.arange(len(labels))\n",
    "    values = [dict[n][0] for n in dict]\n",
    "    plt.bar(y_pos, values, align='center', alpha=0.5)\n",
    "    plt.xticks(y_pos, labels,rotation='vertical')\n",
    "    plt.ylabel('accuracy')\n",
    "    plt.title('Accuracy of different models')\n",
    "    plt.show()\n",
    "\n",
    "\n",
    "def plot_cm(dict):\n",
    "    count = 1\n",
    "    fig = plt.figure(figsize=(10,10))\n",
    "    for model in dict:\n",
    "        cm = dict[model][1]\n",
    "        labels = ['W','L']\n",
    "        ax = fig.add_subplot(4,4,count)\n",
    "        cax = ax.matshow(cm)\n",
    "        plt.title(model,y=-0.8)\n",
    "        fig.colorbar(cax)\n",
    "        ax.set_xticklabels([''] + labels)\n",
    "        ax.set_yticklabels([''] + labels)\n",
    "        plt.xlabel('Predicted')\n",
    "        plt.ylabel('True')\n",
    "        # plt.subplot(2,2,count)\n",
    "        count+=1\n",
    "    plt.tight_layout()\n",
    "    plt.show()"
   ]
  },
  {
   "cell_type": "code",
   "execution_count": null,
   "metadata": {
    "_cell_guid": "42484153-a9ac-4b08-8b20-33fef52b7109",
    "_execution_state": "idle",
    "_uuid": "3152fd66ab1197f486355c1c742767ab8960f2b2"
   },
   "outputs": [],
   "source": [
    "accuracies = run_all_and_Plot(numerical_diffs)\n",
    "CompareAll = dict()\n",
    "CompareAll['Baseline'] = accuracies\n",
    "for key,val in accuracies.items():\n",
    "    print(str(key) +' '+ str(val[0]))\n",
    "plot_bar(accuracies)\n",
    "plot_cm(accuracies)"
   ]
  },
  {
   "cell_type": "code",
   "execution_count": null,
   "metadata": {
    "_cell_guid": "42484153-a9ac-4b08-8b20-33fef52b7109",
    "_execution_state": "idle",
    "_uuid": "3152fd66ab1197f486355c1c742767ab8960f2b2"
   },
   "outputs": [],
   "source": [
    "accuracies = run_all_and_Plot(numerical_ratios)\n",
    "CompareAll = dict()\n",
    "CompareAll['Baseline'] = accuracies\n",
    "for key,val in accuracies.items():\n",
    "    print(str(key) +' '+ str(val[0]))\n",
    "plot_bar(accuracies)\n",
    "plot_cm(accuracies)"
   ]
  },
  {
   "cell_type": "code",
   "execution_count": null,
   "metadata": {
    "_cell_guid": "36458454-c9bd-4490-8c67-81395c60e44b",
    "_execution_state": "idle",
    "_uuid": "1ece9ef484f1dccdc754f106f094adb9f5d3b0ab",
    "collapsed": true
   },
   "outputs": [],
   "source": [
    "from sklearn.model_selection import train_test_split, GridSearchCV\n",
    "#X_all = dropdata.drop(['winner'], axis=1)\n",
    "#y_all = dropdata['winner']\n",
    "#X_train, X_test, Y_train, Y_test = train_test_split(X_all, y_all, test_size=0.2, random_state=23)\n",
    "#rfc = RandomForestClassifier(n_jobs=-1,max_features= 'sqrt' ,n_estimators=50, oob_score = True, max_depth=None) \n",
    "#param_grid = { \n",
    "#    'n_estimators': [200,700],\n",
    "#    'max_features': ['auto', 'sqrt', 'log2']\n",
    "#}\n",
    "\n",
    "#CV_rfc = GridSearchCV(estimator=rfc, param_grid=param_grid, cv= 5)\n",
    "#CV_rfc.fit(X_train, Y_train)\n",
    "#print(CV_rfc.best_params_)"
   ]
  },
  {
   "cell_type": "markdown",
   "metadata": {
    "_cell_guid": "92e4152a-b7d1-49b8-b4aa-2bf527db625c",
    "_uuid": "15d6056717d18863b0d6d5e37f11676e9d50a379"
   },
   "source": [
    "### Dropping First Fights\n",
    "\n",
    "This drops any fights in which the fighter has no previous recorded. I may use this in my model but again I'm hesitant to do so because it may involve a large loss of data."
   ]
  },
  {
   "cell_type": "markdown",
   "metadata": {},
   "source": [
    "### Creating Accuracy Statistics\n",
    "\n",
    "This block adds accuracy features for each fighter. It creates a ratio of strikes attempted vs strikes landed for each applicable category."
   ]
  },
  {
   "cell_type": "markdown",
   "metadata": {},
   "source": [
    "### Reducing Features\n",
    "\n",
    "This block experiments with a reduced feature set. When building a machine learning model, more features does not necessarily lead to improved accuracy. Having too many features can create noise and mask what is happening. Sometimes, starting with a clean slate and building the model one feature at a time can shed light on what's important and what's unimportant."
   ]
  },
  {
   "cell_type": "markdown",
   "metadata": {
    "_cell_guid": "adce3876-6f57-4501-8650-91ccc6d7d7ab",
    "_uuid": "1fdbd098b562a7eee62122583bc083f9610439a0"
   },
   "source": [
    "## Conclusion\n"
   ]
  },
  {
   "cell_type": "markdown",
   "metadata": {},
   "source": [
    "## Stretch Goals\n",
    "\n",
    "### Rewrite and re-run scraper to pull data from earlier years\n",
    "\n",
    "It won't be as granular, but it may strengthen the analysis. There might not be enough records from 2014 onwards to model the data accurately. On the other hand, I'm not even sure the previous analyst modeled the data accurately. He took fight data from each fight and used that to predict the winner. That's not realistic. You don't have a round-by-round analysis before the fight happens! It would be much better to use the running totals to predict a fight's outcome. Looks like we're learning Beautiful Soup! At least you have a starting point."
   ]
  },
  {
   "cell_type": "markdown",
   "metadata": {
    "collapsed": true
   },
   "source": [
    "## Scraper Rewrite\n",
    "\n",
    "The data on fightmetric is more robust than the data on ufc.com. The data I'm getting from ufc.com has a lot of missing data in general and it does not break down each fight as well. It lists strike percentages but does not give raw numbers. The fightmetric data lists raw data as well as percentages and may lead to a more complete picture of each fighter. It also does not require as much merging. Looks like we're starting fresh!"
   ]
  },
  {
   "cell_type": "markdown",
   "metadata": {},
   "source": [
    "### Fight URL Scraper\n",
    "\n",
    "This first script pulls the urls of all fights from fightmetric.com and exports them as a CSV. Added functionality to get the date, location and title of each fight event."
   ]
  },
  {
   "cell_type": "code",
   "execution_count": null,
   "metadata": {},
   "outputs": [],
   "source": [
    "from bs4 import BeautifulSoup\n",
    "import pandas as pd\n",
    "import urllib\n",
    "import os\n",
    "os.chdir('/Users/courtneyfergusonlee/ufc_fight_analysis/data')\n",
    "\n",
    "# Open the main page with events listed\n",
    "sock = urllib.urlopen('http://www.fightmetric.com/statistics/events/completed?page=all')\n",
    "page = sock.read()\n",
    "soup = BeautifulSoup(page, 'lxml')\n",
    "\n",
    "# Scrape event URLs from the main page\n",
    "event_urls = []\n",
    "event_titles = []\n",
    "event_dates = []\n",
    "event_locations = []\n",
    "\n",
    "trs = soup.find_all('tr')\n",
    "for tr in trs:\n",
    "    for link in tr.find_all('a'):\n",
    "        event_urls.append(link.get('href'))\n",
    "        event_titles.append(\" \".join(str(link.get_text()).split()))\n",
    "    \n",
    "    for span in tr.find_all('span'):\n",
    "        event_dates.append(\" \".join(str(span.get_text()).split()))\n",
    "    \n",
    "    for td in tr.find_all('td'):\n",
    "        if len(td['class']) == 2:\n",
    "            event_locations.append(\" \".join(str(td.get_text()).split()))\n",
    "\n",
    "'''\n",
    "Small test to ensure urls, titles, dates and locations read properly\n",
    "\n",
    "print \"Event Lengths:\"\n",
    "print \"urls:\", len(event_urls)\n",
    "print \"titles:\", len(event_titles)\n",
    "print \"dates:\", len(event_dates)\n",
    "print \"locations:\", len(event_locations)\n",
    "\n",
    "print \"Event Data:\"\n",
    "print event_urls[:10]\n",
    "print event_titles[:10]\n",
    "print event_dates[:10]\n",
    "print event_locations[:10]\n",
    "'''\n",
    "\n",
    "# Pull Fight URLs, dates and locations from each Event URL\n",
    "fight_urls = []\n",
    "count = 0\n",
    "for event_url, title, date, location in zip(event_urls, event_titles, event_dates, event_locations):\n",
    "    if count%100==0:\n",
    "        print event_url, title, date, location\n",
    "    try:\n",
    "        sock = urllib.urlopen(event_url)\n",
    "        event_html = sock.read()\n",
    "        event_soup = BeautifulSoup(event_html, \"lxml\")\n",
    "\n",
    "        tds = event_soup.find_all('td')\n",
    "        for td in tds:\n",
    "            for link in td.find_all('a'):\n",
    "                url = link.get('href')\n",
    "                url_type = url.split('-')[0][-2:] # Fight vs. Fighter; last 2 letters\n",
    "                if url_type == 'ht': # use er for fighter, ht for fight\n",
    "                    #print url\n",
    "                    fight_urls.append([title, url, date, location])\n",
    "        \n",
    "    \n",
    "    except:\n",
    "        print \"HTTP Error on {}\".format(title)\n",
    "        pass\n",
    "    count += 1\n",
    "\n",
    "# Save fight URLs to a csv file\n",
    "fight_urls = pd.DataFrame(\n",
    "    data=fight_urls, \n",
    "    columns=['title', 'link', 'date', 'location'])\n",
    "fight_urls.drop_duplicates(subset=\"link\", inplace=True)\n",
    "fight_urls.reset_index(drop=True, inplace=True)\n",
    "fight_urls.to_csv('fight_urls.csv', index=False)"
   ]
  },
  {
   "cell_type": "markdown",
   "metadata": {},
   "source": [
    "### Fight Scraper\n",
    "\n",
    "This scrapes all fight data from fightmetric.com/fight-details. It reads a list of URLs, pulls the fight statistics from each fight, and concatenates it onto a Pandas dataframe. There are over 4000 urls in the list, so it takes a while to run (over 4 hours)."
   ]
  },
  {
   "cell_type": "markdown",
   "metadata": {},
   "source": [
    "#### Fight Scraper Re-write\n",
    "\n",
    "The fight scraper has a few bugs:\n",
    "\n",
    "1. (Stretch Goal) Data is missing sometimes.\n",
    "  1. May want to debug to determine why different runs yield different amounts of data\n",
    "\n",
    "In addition, it doesn't pull all the data. Let's try to get:\n",
    "1. Details"
   ]
  },
  {
   "cell_type": "markdown",
   "metadata": {},
   "source": [
    "#### Fight Scraper Production Code"
   ]
  },
  {
   "cell_type": "code",
   "execution_count": null,
   "metadata": {
    "scrolled": false
   },
   "outputs": [],
   "source": [
    "from bs4 import BeautifulSoup as bs\n",
    "import pandas as pd\n",
    "import urllib\n",
    "import os\n",
    "os.chdir('/Users/courtneyfergusonlee/ufc_fight_analysis/data')\n",
    "\n",
    "# Load Fight Info from CSV (created in fight url scraper)\n",
    "fight_info = pd.read_csv('fight_urls.csv', encoding='utf-8')\n",
    "\n",
    "# Store urls, locations and titles\n",
    "fight_urls = fight_info['link'].values.tolist()\n",
    "fight_titles = fight_info['title'].values.tolist()\n",
    "fight_locations = fight_info['location'].values.tolist()\n",
    "fight_dates = fight_info['date'].values.tolist()\n",
    "\n",
    "# Initialize an empty dataframe\n",
    "fighter_df = pd.DataFrame(columns=['name', 'kd', 'sig_strikes', 'sig_attempts', 'strikes', 'strike_attempts', \n",
    "                                   'takedowns', 'td_attempts', 'sub_attempts', 'pass', 'reversals', 'head', 'head_attempts', 'body', \n",
    "                                   'body_attempts','leg', 'leg_attempts', 'distance', 'distance_attempts', 'clinch', 'fight_id',\n",
    "                                   'clinch_attempts', 'ground', 'ground_attempts', 'win/loss', 'referee', 'round', 'method',\n",
    "                                   'date', 'location', 'title'])\n",
    "\n",
    "\n",
    "# Iterate through the fight urls, and pull relevant variables/fields\n",
    "for i in range(len(fight_urls)):\n",
    "    if i%100==0:\n",
    "        print i, fight_urls[i], fight_dates[i]\n",
    "    \n",
    "    # Store fight event, location and date\n",
    "    title = fight_titles[i]\n",
    "    location = fight_locations[i]\n",
    "    date = fight_dates[i]\n",
    "    \n",
    "    sock = urllib.urlopen(fight_urls[i]) # specific URL for a fight\n",
    "    fight_html = sock.read()\n",
    "    fight_soup = bs(fight_html, \"lxml\")\n",
    "    trs = fight_soup.find_all('tr') # all the tables in each fight URL\n",
    "    headers = fight_soup.find_all('i')\n",
    "    bad_call = 0\n",
    "    \n",
    "    # Get the name and win/loss status of each fighter\n",
    "    person_divs = fight_soup.find_all('div', \n",
    "                                  class_=\"b-fight-details__person\")\n",
    "    names = []\n",
    "    winloss = []\n",
    "    \n",
    "    name_1, name_2 = [\"ERROR\", \"ERROR\"]\n",
    "    winloss_1, winloss_2 = [\"ERROR\", \"ERROR\"]\n",
    "\n",
    "    for person_div in person_divs:\n",
    "        i_tag = person_div.find('i')\n",
    "        try:\n",
    "            winloss.append(nice_text(i_tag))\n",
    "        except:\n",
    "            winloss.append('ERROR')\n",
    "        h3 = person_div.find('h3')\n",
    "        try:\n",
    "            names.append(nice_text(h3))\n",
    "        except:\n",
    "            names.append('ERROR')\n",
    "\n",
    "    name_1, name_2 = names\n",
    "    winloss_1, winloss_2 = winloss\n",
    "    \n",
    "    try: \n",
    "        referee = str(headers[24].get_text()).split()[1] + ' ' + str(headers[24].get_text()).split()[-1]\n",
    "    except:\n",
    "        referee = None\n",
    "    try:\n",
    "        rounds = str(headers[18].get_text()).split()[1]\n",
    "    except:\n",
    "        rounds = None\n",
    "    try:\n",
    "        method = str(headers[17].get_text()).split()[0]\n",
    "    except:\n",
    "        method = None\n",
    "    try:\n",
    "        tr1 = str(trs[1].get_text()).split()\n",
    "        # Find the location of the 2nd table tr2 (it varies)\n",
    "        j = 0\n",
    "        while j < 10:\n",
    "            if str(trs[j].get_text()).split()[6] == 'Head':\n",
    "                #print j+1\n",
    "                tr2 = str(trs[j+1].get_text()).split()\n",
    "                break\n",
    "            j += 1\n",
    "        #print tr1; #print tr2\n",
    "        \n",
    "        # Test for the end of names\n",
    "        k = 0\n",
    "        while k < len(tr1):\n",
    "            try:\n",
    "                int(tr1[k])\n",
    "                break\n",
    "            except:\n",
    "                k += 1\n",
    "                continue\n",
    "        #print k\n",
    "    except:\n",
    "        print fight_dates[i] + ' bad call'\n",
    "        bad_call += 1\n",
    "        continue\n",
    "\n",
    "\n",
    "    # Add each fighter's information to the dataframe\n",
    "    fighter1 = pd.DataFrame({'name': [name_1], 'kd': tr1[k], 'sig_strikes': tr1[k+2],\n",
    "    'sig_attempts': tr1[k+4], 'strikes': tr1[k+10], 'strike_attempts': tr1[k+12], 'takedowns': tr1[k+16],'td_attempts': tr1[k+18],\n",
    "    'sub_attempts': tr1[k+24], 'pass': tr1[k+26], 'reversals': tr1[k+28], 'head': tr2[k+8], 'head_attempts': tr2[k+10],\n",
    "    'body': tr2[k+14], 'body_attempts': tr2[k+16], 'leg': tr2[k+20], 'leg_attempts': tr2[k+22], 'distance': tr2[k+26],\n",
    "    'distance_attempts': tr2[k+28], 'clinch': tr2[k+32], 'clinch_attempts': tr2[k+34], 'ground': tr2[k+38], \n",
    "    'ground_attempts': tr2[k+40], 'win/loss': winloss_1, 'referee': referee, 'round': rounds, 'method': method, 'fight_id': i,\n",
    "    'date': date, 'location': location, 'title': title})\n",
    "\n",
    "    fighter2 = pd.DataFrame({'name': [name_2], 'kd': tr1[k+1], 'sig_strikes': tr1[k+5], \n",
    "    'sig_attempts': tr1[k+7], 'strikes': tr1[k+13], 'strike_attempts': tr1[k+15], 'takedowns': tr1[k+19],'td_attempts': tr1[k+21],\n",
    "    'sub_attempts': tr1[k+25], 'pass': tr1[k+27], 'reversals': tr1[k+29], 'head': tr2[k+11], 'head_attempts': tr2[k+13],\n",
    "    'body': tr2[k+17], 'body_attempts': tr2[k+19], 'leg': tr2[k+23], 'leg_attempts': tr2[k+25], 'distance': tr2[k+29],\n",
    "    'distance_attempts': tr2[k+31], 'clinch': tr2[k+35], 'clinch_attempts': tr2[k+37], 'ground': tr2[k+41], \n",
    "    'ground_attempts': tr2[k+43], 'win/loss': winloss_2, 'referee': referee, 'round': rounds, 'method': method, 'fight_id': i,\n",
    "    'date': date, 'location': location, 'title': title})\n",
    "    \n",
    "    fighter_df = pd.concat([fighter_df, fighter1, fighter2], axis=0, ignore_index=True)\n",
    "    \n",
    "fighter_df.to_csv('fights.csv', index=False)"
   ]
  },
  {
   "cell_type": "markdown",
   "metadata": {},
   "source": [
    "#### Fight Scraper Test Codes"
   ]
  },
  {
   "cell_type": "code",
   "execution_count": 42,
   "metadata": {},
   "outputs": [
    {
     "name": "stdout",
     "output_type": "stream",
     "text": [
      "Frank Shamrock\n",
      "W\n",
      "Tito Ortiz\n",
      "L\n"
     ]
    },
    {
     "data": {
      "text/plain": [
       "'\\n\\nfor h3 in person_divs.find_all(\\'h3\\'):\\n    if \\'b-fight-details__person-name\\' in h3[\\'class\\']:\\n        fighters.append(nice_text(h3))\\n\\n\\nfor i_tag in person_divs.find_all(\\'i\\', class_=\\'b-fight-details__person-status\\'):\\n    winloss.append(nice_text(i))\\nprint \"winloss:\", winloss\\nprint \"h3s:\", h3s\\nf1_name = fighters[0]\\nf2_name = fighters[1]\\n\\nf1_name, f2_name\\n'"
      ]
     },
     "execution_count": 42,
     "metadata": {},
     "output_type": "execute_result"
    }
   ],
   "source": [
    "from bs4 import BeautifulSoup as bs\n",
    "\n",
    "from bs4 import BeautifulSoup as bs\n",
    "import pandas as pd\n",
    "import urllib\n",
    "import os\n",
    "os.chdir('/Users/courtneyfergusonlee/ufc_fight_analysis/web_scraping')\n",
    "\n",
    "def nice_text(tag):\n",
    "    return \" \".join(str(tag.get_text()).split())\n",
    "\n",
    "# Load Fight Info from CSV (created in fight url scraper)\n",
    "# fight_info = pd.read_csv('fight_urls.csv', encoding='utf-8')\n",
    "\n",
    "# Store urls, locations and titles\n",
    "# fight_urls = fight_info['link'].values.tolist()\n",
    "# fight_titles = fight_info['title'].values.tolist()\n",
    "# fight_locations = fight_info['location'].values.tolist()\n",
    "# fight_dates = fight_info['date'].values.tolist()\n",
    "\n",
    "# Initialize an empty dataframe\n",
    "fighter_df = pd.DataFrame(columns=['name_first', 'name_last', 'kd', 'sig_strikes', 'sig_attempts', 'strikes', 'strike_attempts', \n",
    "                                   'takedowns', 'td_attempts', 'sub_attempts', 'pass', 'reversals', 'head', 'head_attempts', 'body', \n",
    "                                   'body_attempts','leg', 'leg_attempts', 'distance', 'distance_attempts', 'clinch', 'fight_id',\n",
    "                                   'clinch_attempts', 'ground', 'ground_attempts', 'win/loss', 'referee', 'round', 'method',\n",
    "                                   'date', 'location', 'title'])\n",
    "\n",
    "page_2013 = \"page_2013.html\"\n",
    "page_2015 = \"fightmetric_sample_event_page.html\"\n",
    "page_2017 = \"page_2017.html\"\n",
    "page_2009 = \"page_2009.html\"\n",
    "page_1999 = \"page_1999.html\"\n",
    "fight_soup = bs(open(page_1999), \"lxml\")\n",
    "\n",
    "\n",
    "person_divs = fight_soup.find_all('div', \n",
    "                                  class_=\"b-fight-details__person\")\n",
    "\n",
    "fighters = []\n",
    "winloss = []\n",
    "\n",
    "for person_div in person_divs:\n",
    "    i_tag = person_div.find('i')\n",
    "    winloss.append(nice_text(i_tag))\n",
    "    h3 = person_div.find('h3')\n",
    "    fighters.append(nice_text(h3))\n",
    "\n",
    "name_1, name_2 = fighters\n",
    "winloss_1, winloss_2 = winloss\n",
    "\n",
    "print name_1\n",
    "print winloss_1\n",
    "print name_2\n",
    "print winloss_2\n",
    "'''\n",
    "\n",
    "for h3 in person_divs.find_all('h3'):\n",
    "    if 'b-fight-details__person-name' in h3['class']:\n",
    "        fighters.append(nice_text(h3))\n",
    "\n",
    "\n",
    "for i_tag in person_divs.find_all('i', class_='b-fight-details__person-status'):\n",
    "    winloss.append(nice_text(i))\n",
    "print \"winloss:\", winloss\n",
    "print \"h3s:\", h3s\n",
    "f1_name = fighters[0]\n",
    "f2_name = fighters[1]\n",
    "\n",
    "f1_name, f2_name\n",
    "'''"
   ]
  },
  {
   "cell_type": "code",
   "execution_count": 36,
   "metadata": {
    "scrolled": false
   },
   "outputs": [
    {
     "name": "stdout",
     "output_type": "stream",
     "text": [
      "3 http://www.fightmetric.com/fight-details/690ab86bdd94149b September 22, 2017\n"
     ]
    },
    {
     "data": {
      "text/html": [
       "<div>\n",
       "<style>\n",
       "    .dataframe thead tr:only-child th {\n",
       "        text-align: right;\n",
       "    }\n",
       "\n",
       "    .dataframe thead th {\n",
       "        text-align: left;\n",
       "    }\n",
       "\n",
       "    .dataframe tbody tr th {\n",
       "        vertical-align: top;\n",
       "    }\n",
       "</style>\n",
       "<table border=\"1\" class=\"dataframe\">\n",
       "  <thead>\n",
       "    <tr style=\"text-align: right;\">\n",
       "      <th></th>\n",
       "      <th>body</th>\n",
       "      <th>body_attempts</th>\n",
       "      <th>clinch</th>\n",
       "      <th>clinch_attempts</th>\n",
       "      <th>date</th>\n",
       "      <th>distance</th>\n",
       "      <th>distance_attempts</th>\n",
       "      <th>fight_id</th>\n",
       "      <th>ground</th>\n",
       "      <th>ground_attempts</th>\n",
       "      <th>head</th>\n",
       "      <th>head_attempts</th>\n",
       "      <th>kd</th>\n",
       "      <th>leg</th>\n",
       "      <th>leg_attempts</th>\n",
       "      <th>location</th>\n",
       "      <th>method</th>\n",
       "      <th>name</th>\n",
       "      <th>pass</th>\n",
       "      <th>referee</th>\n",
       "      <th>reversals</th>\n",
       "      <th>round</th>\n",
       "      <th>sig_attempts</th>\n",
       "      <th>sig_strikes</th>\n",
       "      <th>strike_attempts</th>\n",
       "      <th>strikes</th>\n",
       "      <th>sub_attempts</th>\n",
       "      <th>takedowns</th>\n",
       "      <th>td_attempts</th>\n",
       "      <th>title</th>\n",
       "      <th>win/loss</th>\n",
       "    </tr>\n",
       "  </thead>\n",
       "  <tbody>\n",
       "    <tr>\n",
       "      <th>0</th>\n",
       "      <td>0</td>\n",
       "      <td>0</td>\n",
       "      <td>0</td>\n",
       "      <td>0</td>\n",
       "      <td>September 22, 2017</td>\n",
       "      <td>0</td>\n",
       "      <td>0</td>\n",
       "      <td>0</td>\n",
       "      <td>0</td>\n",
       "      <td>0</td>\n",
       "      <td>0</td>\n",
       "      <td>0</td>\n",
       "      <td>0</td>\n",
       "      <td>0</td>\n",
       "      <td>0</td>\n",
       "      <td>Saitama, Saitama, Japan</td>\n",
       "      <td>Submission</td>\n",
       "      <td>Ovince Saint Preux</td>\n",
       "      <td>3</td>\n",
       "      <td>Leon Roberts</td>\n",
       "      <td>0</td>\n",
       "      <td>1</td>\n",
       "      <td>0</td>\n",
       "      <td>0</td>\n",
       "      <td>3</td>\n",
       "      <td>3</td>\n",
       "      <td>1</td>\n",
       "      <td>0</td>\n",
       "      <td>0</td>\n",
       "      <td>UFC Fight Night: Saint Preux vs. Okami</td>\n",
       "      <td>W</td>\n",
       "    </tr>\n",
       "    <tr>\n",
       "      <th>1</th>\n",
       "      <td>0</td>\n",
       "      <td>0</td>\n",
       "      <td>0</td>\n",
       "      <td>0</td>\n",
       "      <td>September 22, 2017</td>\n",
       "      <td>0</td>\n",
       "      <td>0</td>\n",
       "      <td>0</td>\n",
       "      <td>0</td>\n",
       "      <td>0</td>\n",
       "      <td>0</td>\n",
       "      <td>0</td>\n",
       "      <td>0</td>\n",
       "      <td>0</td>\n",
       "      <td>0</td>\n",
       "      <td>Saitama, Saitama, Japan</td>\n",
       "      <td>Submission</td>\n",
       "      <td>Yushin Okami</td>\n",
       "      <td>0</td>\n",
       "      <td>Leon Roberts</td>\n",
       "      <td>0</td>\n",
       "      <td>1</td>\n",
       "      <td>0</td>\n",
       "      <td>0</td>\n",
       "      <td>0</td>\n",
       "      <td>0</td>\n",
       "      <td>1</td>\n",
       "      <td>0</td>\n",
       "      <td>1</td>\n",
       "      <td>UFC Fight Night: Saint Preux vs. Okami</td>\n",
       "      <td>L</td>\n",
       "    </tr>\n",
       "    <tr>\n",
       "      <th>2</th>\n",
       "      <td>1</td>\n",
       "      <td>4</td>\n",
       "      <td>9</td>\n",
       "      <td>15</td>\n",
       "      <td>September 22, 2017</td>\n",
       "      <td>30</td>\n",
       "      <td>71</td>\n",
       "      <td>1</td>\n",
       "      <td>3</td>\n",
       "      <td>5</td>\n",
       "      <td>41</td>\n",
       "      <td>87</td>\n",
       "      <td>0</td>\n",
       "      <td>0</td>\n",
       "      <td>0</td>\n",
       "      <td>Saitama, Saitama, Japan</td>\n",
       "      <td>Decision</td>\n",
       "      <td>Claudia Gadelha</td>\n",
       "      <td>0</td>\n",
       "      <td>John Sharp</td>\n",
       "      <td>0</td>\n",
       "      <td>3</td>\n",
       "      <td>91</td>\n",
       "      <td>42</td>\n",
       "      <td>96</td>\n",
       "      <td>47</td>\n",
       "      <td>2</td>\n",
       "      <td>0</td>\n",
       "      <td>7</td>\n",
       "      <td>UFC Fight Night: Saint Preux vs. Okami</td>\n",
       "      <td>L</td>\n",
       "    </tr>\n",
       "    <tr>\n",
       "      <th>3</th>\n",
       "      <td>50</td>\n",
       "      <td>58</td>\n",
       "      <td>18</td>\n",
       "      <td>25</td>\n",
       "      <td>September 22, 2017</td>\n",
       "      <td>45</td>\n",
       "      <td>107</td>\n",
       "      <td>1</td>\n",
       "      <td>78</td>\n",
       "      <td>109</td>\n",
       "      <td>83</td>\n",
       "      <td>175</td>\n",
       "      <td>0</td>\n",
       "      <td>8</td>\n",
       "      <td>8</td>\n",
       "      <td>Saitama, Saitama, Japan</td>\n",
       "      <td>Decision</td>\n",
       "      <td>Jessica Andrade</td>\n",
       "      <td>5</td>\n",
       "      <td>John Sharp</td>\n",
       "      <td>0</td>\n",
       "      <td>3</td>\n",
       "      <td>241</td>\n",
       "      <td>141</td>\n",
       "      <td>355</td>\n",
       "      <td>242</td>\n",
       "      <td>0</td>\n",
       "      <td>4</td>\n",
       "      <td>7</td>\n",
       "      <td>UFC Fight Night: Saint Preux vs. Okami</td>\n",
       "      <td>W</td>\n",
       "    </tr>\n",
       "    <tr>\n",
       "      <th>4</th>\n",
       "      <td>1</td>\n",
       "      <td>1</td>\n",
       "      <td>0</td>\n",
       "      <td>0</td>\n",
       "      <td>September 22, 2017</td>\n",
       "      <td>2</td>\n",
       "      <td>3</td>\n",
       "      <td>2</td>\n",
       "      <td>0</td>\n",
       "      <td>0</td>\n",
       "      <td>1</td>\n",
       "      <td>2</td>\n",
       "      <td>0</td>\n",
       "      <td>0</td>\n",
       "      <td>0</td>\n",
       "      <td>Saitama, Saitama, Japan</td>\n",
       "      <td>KO/TKO</td>\n",
       "      <td>Takanori Gomi</td>\n",
       "      <td>0</td>\n",
       "      <td>Steve Perceval</td>\n",
       "      <td>0</td>\n",
       "      <td>1</td>\n",
       "      <td>3</td>\n",
       "      <td>2</td>\n",
       "      <td>3</td>\n",
       "      <td>2</td>\n",
       "      <td>0</td>\n",
       "      <td>0</td>\n",
       "      <td>0</td>\n",
       "      <td>UFC Fight Night: Saint Preux vs. Okami</td>\n",
       "      <td>L</td>\n",
       "    </tr>\n",
       "    <tr>\n",
       "      <th>5</th>\n",
       "      <td>2</td>\n",
       "      <td>2</td>\n",
       "      <td>0</td>\n",
       "      <td>0</td>\n",
       "      <td>September 22, 2017</td>\n",
       "      <td>8</td>\n",
       "      <td>9</td>\n",
       "      <td>2</td>\n",
       "      <td>5</td>\n",
       "      <td>11</td>\n",
       "      <td>8</td>\n",
       "      <td>15</td>\n",
       "      <td>1</td>\n",
       "      <td>3</td>\n",
       "      <td>3</td>\n",
       "      <td>Saitama, Saitama, Japan</td>\n",
       "      <td>KO/TKO</td>\n",
       "      <td>Dong Hyun Kim</td>\n",
       "      <td>0</td>\n",
       "      <td>Steve Perceval</td>\n",
       "      <td>0</td>\n",
       "      <td>1</td>\n",
       "      <td>20</td>\n",
       "      <td>13</td>\n",
       "      <td>20</td>\n",
       "      <td>13</td>\n",
       "      <td>0</td>\n",
       "      <td>0</td>\n",
       "      <td>0</td>\n",
       "      <td>UFC Fight Night: Saint Preux vs. Okami</td>\n",
       "      <td>W</td>\n",
       "    </tr>\n",
       "  </tbody>\n",
       "</table>\n",
       "</div>"
      ],
      "text/plain": [
       "  body body_attempts clinch clinch_attempts                date distance  \\\n",
       "0    0             0      0               0  September 22, 2017        0   \n",
       "1    0             0      0               0  September 22, 2017        0   \n",
       "2    1             4      9              15  September 22, 2017       30   \n",
       "3   50            58     18              25  September 22, 2017       45   \n",
       "4    1             1      0               0  September 22, 2017        2   \n",
       "5    2             2      0               0  September 22, 2017        8   \n",
       "\n",
       "  distance_attempts fight_id ground ground_attempts head head_attempts kd leg  \\\n",
       "0                 0        0      0               0    0             0  0   0   \n",
       "1                 0        0      0               0    0             0  0   0   \n",
       "2                71        1      3               5   41            87  0   0   \n",
       "3               107        1     78             109   83           175  0   8   \n",
       "4                 3        2      0               0    1             2  0   0   \n",
       "5                 9        2      5              11    8            15  1   3   \n",
       "\n",
       "  leg_attempts                 location      method                name pass  \\\n",
       "0            0  Saitama, Saitama, Japan  Submission  Ovince Saint Preux    3   \n",
       "1            0  Saitama, Saitama, Japan  Submission        Yushin Okami    0   \n",
       "2            0  Saitama, Saitama, Japan    Decision     Claudia Gadelha    0   \n",
       "3            8  Saitama, Saitama, Japan    Decision     Jessica Andrade    5   \n",
       "4            0  Saitama, Saitama, Japan      KO/TKO       Takanori Gomi    0   \n",
       "5            3  Saitama, Saitama, Japan      KO/TKO       Dong Hyun Kim    0   \n",
       "\n",
       "          referee reversals round sig_attempts sig_strikes strike_attempts  \\\n",
       "0    Leon Roberts         0     1            0           0               3   \n",
       "1    Leon Roberts         0     1            0           0               0   \n",
       "2      John Sharp         0     3           91          42              96   \n",
       "3      John Sharp         0     3          241         141             355   \n",
       "4  Steve Perceval         0     1            3           2               3   \n",
       "5  Steve Perceval         0     1           20          13              20   \n",
       "\n",
       "  strikes sub_attempts takedowns td_attempts  \\\n",
       "0       3            1         0           0   \n",
       "1       0            1         0           1   \n",
       "2      47            2         0           7   \n",
       "3     242            0         4           7   \n",
       "4       2            0         0           0   \n",
       "5      13            0         0           0   \n",
       "\n",
       "                                    title win/loss  \n",
       "0  UFC Fight Night: Saint Preux vs. Okami        W  \n",
       "1  UFC Fight Night: Saint Preux vs. Okami        L  \n",
       "2  UFC Fight Night: Saint Preux vs. Okami        L  \n",
       "3  UFC Fight Night: Saint Preux vs. Okami        W  \n",
       "4  UFC Fight Night: Saint Preux vs. Okami        L  \n",
       "5  UFC Fight Night: Saint Preux vs. Okami        W  "
      ]
     },
     "execution_count": 36,
     "metadata": {},
     "output_type": "execute_result"
    }
   ],
   "source": [
    "from bs4 import BeautifulSoup as bs\n",
    "import pandas as pd\n",
    "import urllib\n",
    "import os\n",
    "os.chdir('/Users/courtneyfergusonlee/ufc_fight_analysis/data')\n",
    "\n",
    "# Load Fight Info from CSV (created in fight url scraper)\n",
    "fight_info = pd.read_csv('fight_urls.csv', encoding='utf-8')\n",
    "\n",
    "# Store urls, locations and titles\n",
    "fight_urls = fight_info['link'].values.tolist()\n",
    "fight_titles = fight_info['title'].values.tolist()\n",
    "fight_locations = fight_info['location'].values.tolist()\n",
    "fight_dates = fight_info['date'].values.tolist()\n",
    "\n",
    "# Initialize an empty dataframe\n",
    "fighter_df = pd.DataFrame(columns=['name', 'kd', 'sig_strikes', 'sig_attempts', 'strikes', 'strike_attempts', \n",
    "                                   'takedowns', 'td_attempts', 'sub_attempts', 'pass', 'reversals', 'head', 'head_attempts', 'body', \n",
    "                                   'body_attempts','leg', 'leg_attempts', 'distance', 'distance_attempts', 'clinch', 'fight_id',\n",
    "                                   'clinch_attempts', 'ground', 'ground_attempts', 'win/loss', 'referee', 'round', 'method',\n",
    "                                   'date', 'location', 'title'])\n",
    "\n",
    "\n",
    "# Iterate through the fight urls, and pull relevant variables/fields\n",
    "for i in range(len(fight_urls)):\n",
    "    if i==3:\n",
    "        print i, fight_urls[i], fight_dates[i]\n",
    "        break\n",
    "    \n",
    "    # Store fight event, location and date\n",
    "    title = fight_titles[i]\n",
    "    location = fight_locations[i]\n",
    "    date = fight_dates[i]\n",
    "    \n",
    "    sock = urllib.urlopen(fight_urls[i]) # specific URL for a fight\n",
    "    fight_html = sock.read()\n",
    "    fight_soup = bs(fight_html, \"lxml\")\n",
    "    trs = fight_soup.find_all('tr') # all the tables in each fight URL\n",
    "    headers = fight_soup.find_all('i')\n",
    "    bad_call = 0\n",
    "    \n",
    "    # Get the name and win/loss status of each fighter\n",
    "    person_divs = fight_soup.find_all('div', \n",
    "                                  class_=\"b-fight-details__person\")\n",
    "    names = []\n",
    "    winloss = []\n",
    "\n",
    "    for person_div in person_divs:\n",
    "        i_tag = person_div.find('i')\n",
    "        try:\n",
    "            winloss.append(nice_text(i_tag))\n",
    "        except:\n",
    "            winloss.append('ERROR')\n",
    "        h3 = person_div.find('h3')\n",
    "        try:\n",
    "            names.append(nice_text(h3))\n",
    "        except:\n",
    "            names.append('ERROR')\n",
    "\n",
    "    name_1, name_2 = names\n",
    "    winloss_1, winloss_2 = winloss\n",
    "    \n",
    "    try: \n",
    "        referee = str(headers[24].get_text()).split()[1] + ' ' + str(headers[24].get_text()).split()[-1]\n",
    "    except:\n",
    "        referee = None\n",
    "    try:\n",
    "        rounds = str(headers[18].get_text()).split()[1]\n",
    "    except:\n",
    "        rounds = None\n",
    "    try:\n",
    "        method = str(headers[17].get_text()).split()[0]\n",
    "    except:\n",
    "        method = None\n",
    "    try:\n",
    "        tr1 = str(trs[1].get_text()).split()\n",
    "        # Find the location of the 2nd table tr2 (it varies)\n",
    "        j = 0\n",
    "        while j < 10:\n",
    "            if str(trs[j].get_text()).split()[6] == 'Head':\n",
    "                #print j+1\n",
    "                tr2 = str(trs[j+1].get_text()).split()\n",
    "                break\n",
    "            j += 1\n",
    "        #print tr1; #print tr2\n",
    "        \n",
    "        # Test for the end of names\n",
    "        k = 0\n",
    "        while k < len(tr1):\n",
    "            try:\n",
    "                int(tr1[k])\n",
    "                break\n",
    "            except:\n",
    "                k += 1\n",
    "                continue\n",
    "        #print k\n",
    "    except:\n",
    "        print fight_dates[i] + ' bad call'\n",
    "        bad_call += 1\n",
    "        continue\n",
    "\n",
    "\n",
    "    # Add each fighter's information to the dataframe\n",
    "    fighter1 = pd.DataFrame({'name': [name_1], 'kd': tr1[k], 'sig_strikes': tr1[k+2],\n",
    "    'sig_attempts': tr1[k+4], 'strikes': tr1[k+10], 'strike_attempts': tr1[k+12], 'takedowns': tr1[k+16],'td_attempts': tr1[k+18],\n",
    "    'sub_attempts': tr1[k+24], 'pass': tr1[k+26], 'reversals': tr1[k+28], 'head': tr2[k+8], 'head_attempts': tr2[k+10],\n",
    "    'body': tr2[k+14], 'body_attempts': tr2[k+16], 'leg': tr2[k+20], 'leg_attempts': tr2[k+22], 'distance': tr2[k+26],\n",
    "    'distance_attempts': tr2[k+28], 'clinch': tr2[k+32], 'clinch_attempts': tr2[k+34], 'ground': tr2[k+38], \n",
    "    'ground_attempts': tr2[k+40], 'win/loss': winloss_1, 'referee': referee, 'round': rounds, 'method': method, 'fight_id': i,\n",
    "    'date': date, 'location': location, 'title': title})\n",
    "\n",
    "    fighter2 = pd.DataFrame({'name': [name_2], 'kd': tr1[k+1], 'sig_strikes': tr1[k+5], \n",
    "    'sig_attempts': tr1[k+7], 'strikes': tr1[k+13], 'strike_attempts': tr1[k+15], 'takedowns': tr1[k+19],'td_attempts': tr1[k+21],\n",
    "    'sub_attempts': tr1[k+25], 'pass': tr1[k+27], 'reversals': tr1[k+29], 'head': tr2[k+11], 'head_attempts': tr2[k+13],\n",
    "    'body': tr2[k+17], 'body_attempts': tr2[k+19], 'leg': tr2[k+23], 'leg_attempts': tr2[k+25], 'distance': tr2[k+29],\n",
    "    'distance_attempts': tr2[k+31], 'clinch': tr2[k+35], 'clinch_attempts': tr2[k+37], 'ground': tr2[k+41], \n",
    "    'ground_attempts': tr2[k+43], 'win/loss': winloss_2, 'referee': referee, 'round': rounds, 'method': method, 'fight_id': i,\n",
    "    'date': date, 'location': location, 'title': title})\n",
    "    \n",
    "    fighter_df = pd.concat([fighter_df, fighter1, fighter2], axis=0, ignore_index=True)\n",
    "    \n",
    "# fighter_df.to_csv('fights.csv', index=False)"
   ]
  },
  {
   "cell_type": "markdown",
   "metadata": {
    "collapsed": true
   },
   "source": [
    "## Todo\n",
    "\n",
    "1. Graph several variables:\n",
    "  1. Counts with sns.barplot\n",
    "  2. Counts with plt.plot\n",
    "  3. Violin plot of one variable over several categories\n",
    "  4. sns.distplot of numerical variable\n",
    "  5. Look at round data\n",
    "  6. Heatmap\n",
    "  7. Wordcloud of referee names\n",
    "  8. Jointplot of two variables\n",
    "1. Create percentages column for each landed / attempted statistic\n",
    "2. Aggregate all data so it's ongoing\n",
    "  1. Sum each fighter's data to make it possible to compare fighters in a reasonable way\n",
    "  2. One idea is to subtract two fighters' non-ratio stats and use them as labels\n",
    "  3. You can still use ratio stats as labels\n",
    "3. Rewrite models to account for the unbalanced data.\n",
    "  1. Most fights are won by decision, so that should be accounted for\n",
    "4. Add visuals"
   ]
  },
  {
   "cell_type": "markdown",
   "metadata": {
    "collapsed": true
   },
   "source": [
    "## Ideas\n",
    "\n",
    "1. Create df of running tallies. We'll have to put more thought into it, but searching for previous columns with that name and adding them together.\n",
    "  1. Create two dataframes: winners and losers\n",
    "  1. Use the shift function\n",
    "  2. Divide one fighter's relevant stats by the other's\n",
    "  3. Keep the non-relevant stats for the respective winner/loser\n",
    "  5. Join the two dataframes and compare the stats\n",
    "3. Only include non-debut fights? There will be no data for that fighter, which may skew results but I'm also curious about the outcome. I might include it anyway to see if there are any patterns."
   ]
  },
  {
   "cell_type": "code",
   "execution_count": null,
   "metadata": {
    "collapsed": true
   },
   "outputs": [],
   "source": []
  },
  {
   "cell_type": "code",
   "execution_count": null,
   "metadata": {
    "collapsed": true
   },
   "outputs": [],
   "source": []
  }
 ],
 "metadata": {
  "anaconda-cloud": {},
  "kernelspec": {
   "display_name": "Python [conda env:DAND]",
   "language": "python",
   "name": "conda-env-DAND-py"
  },
  "language_info": {
   "codemirror_mode": {
    "name": "ipython",
    "version": 2
   },
   "file_extension": ".py",
   "mimetype": "text/x-python",
   "name": "python",
   "nbconvert_exporter": "python",
   "pygments_lexer": "ipython2",
   "version": "2.7.13"
  },
  "toc": {
   "nav_menu": {},
   "number_sections": true,
   "sideBar": true,
   "skip_h1_title": true,
   "toc_cell": true,
   "toc_position": {
    "height": "877px",
    "left": "0px",
    "right": "927px",
    "top": "106px",
    "width": "206px"
   },
   "toc_section_display": "block",
   "toc_window_display": true
  }
 },
 "nbformat": 4,
 "nbformat_minor": 1
}
