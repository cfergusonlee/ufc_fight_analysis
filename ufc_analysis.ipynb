{
 "cells": [
  {
   "cell_type": "markdown",
   "metadata": {
    "_cell_guid": "6e5513b6-ee20-4f63-aa05-75bb5028652d",
    "_uuid": "ca856cb388c65fcd41ca38e28fe7d6c4ff60a1a1",
    "deletable": true,
    "editable": true
   },
   "source": [
    "# UFC Fight Analysis\n",
    "\n",
    "**By: [Courtney Ferguson Lee](linkedin.com/in/courtneyfergusonlee)**\n",
    "\n",
    "<img src = 'https://rawgit.com/spacecadet84/ufc_fight_analysis/master/images/ufc_fighter_red_wordcloud.png'>"
   ]
  },
  {
   "cell_type": "markdown",
   "metadata": {
    "deletable": true,
    "editable": true,
    "toc": "true"
   },
   "source": [
    " # Table of Contents\n",
    "<div class=\"toc\" style=\"margin-top: 1em;\"><ul class=\"toc-item\" id=\"toc-level0\"><li><span><a href=\"http://localhost:8888/notebooks/ufc_fight_analysis/ufc_analysis.ipynb#Todo\" data-toc-modified-id=\"Todo-1\"><span class=\"toc-item-num\">1&nbsp;&nbsp;</span>Todo</a></span></li><li><span><a href=\"http://localhost:8888/notebooks/ufc_fight_analysis/ufc_analysis.ipynb#Ideas\" data-toc-modified-id=\"Ideas-2\"><span class=\"toc-item-num\">2&nbsp;&nbsp;</span>Ideas</a></span></li><li><span><a href=\"http://localhost:8888/notebooks/ufc_fight_analysis/ufc_analysis.ipynb#Introduction\" data-toc-modified-id=\"Introduction-3\"><span class=\"toc-item-num\">3&nbsp;&nbsp;</span>Introduction</a></span></li><li><span><a href=\"http://localhost:8888/notebooks/ufc_fight_analysis/ufc_analysis.ipynb#Background\" data-toc-modified-id=\"Background-4\"><span class=\"toc-item-num\">4&nbsp;&nbsp;</span>Background</a></span></li><li><span><a href=\"http://localhost:8888/notebooks/ufc_fight_analysis/ufc_analysis.ipynb#Data\" data-toc-modified-id=\"Data-5\"><span class=\"toc-item-num\">5&nbsp;&nbsp;</span>Data</a></span><ul class=\"toc-item\"><li><span><a href=\"http://localhost:8888/notebooks/ufc_fight_analysis/ufc_analysis.ipynb#Observations\" data-toc-modified-id=\"Observations-5.1\"><span class=\"toc-item-num\">5.1&nbsp;&nbsp;</span>Observations</a></span></li><li><span><a href=\"http://localhost:8888/notebooks/ufc_fight_analysis/ufc_analysis.ipynb#Missing-Data\" data-toc-modified-id=\"Missing-Data-5.2\"><span class=\"toc-item-num\">5.2&nbsp;&nbsp;</span>Missing Data</a></span></li></ul></li><li><span><a href=\"http://localhost:8888/notebooks/ufc_fight_analysis/ufc_analysis.ipynb#Minor-Aesthetics\" data-toc-modified-id=\"Minor-Aesthetics-6\"><span class=\"toc-item-num\">6&nbsp;&nbsp;</span>Minor Aesthetics</a></span><ul class=\"toc-item\"><li><span><a href=\"http://localhost:8888/notebooks/ufc_fight_analysis/ufc_analysis.ipynb#Rearranging-Columns\" data-toc-modified-id=\"Rearranging-Columns-6.1\"><span class=\"toc-item-num\">6.1&nbsp;&nbsp;</span>Rearranging Columns</a></span></li><li><span><a href=\"http://localhost:8888/notebooks/ufc_fight_analysis/ufc_analysis.ipynb#Reversing-the-Fight-Order\" data-toc-modified-id=\"Reversing-the-Fight-Order-6.2\"><span class=\"toc-item-num\">6.2&nbsp;&nbsp;</span>Reversing the Fight Order</a></span></li><li><span><a href=\"http://localhost:8888/notebooks/ufc_fight_analysis/ufc_analysis.ipynb#Editing-Name-Column\" data-toc-modified-id=\"Editing-Name-Column-6.3\"><span class=\"toc-item-num\">6.3&nbsp;&nbsp;</span>Editing Name Column</a></span></li></ul></li><li><span><a href=\"http://localhost:8888/notebooks/ufc_fight_analysis/ufc_analysis.ipynb#Comparing-Winners-and-Losers\" data-toc-modified-id=\"Comparing-Winners-and-Losers-7\"><span class=\"toc-item-num\">7&nbsp;&nbsp;</span>Comparing Winners and Losers</a></span></li><li><span><a href=\"http://localhost:8888/notebooks/ufc_fight_analysis/ufc_analysis.ipynb#Variables\" data-toc-modified-id=\"Variables-8\"><span class=\"toc-item-num\">8&nbsp;&nbsp;</span>Variables</a></span><ul class=\"toc-item\"><li><span><a href=\"http://localhost:8888/notebooks/ufc_fight_analysis/ufc_analysis.ipynb#Heatmap\" data-toc-modified-id=\"Heatmap-8.1\"><span class=\"toc-item-num\">8.1&nbsp;&nbsp;</span>Heatmap</a></span></li><li><span><a href=\"http://localhost:8888/notebooks/ufc_fight_analysis/ufc_analysis.ipynb#Strike-Targets\" data-toc-modified-id=\"Strike-Targets-8.2\"><span class=\"toc-item-num\">8.2&nbsp;&nbsp;</span>Strike Targets</a></span><ul class=\"toc-item\"><li><span><a href=\"http://localhost:8888/notebooks/ufc_fight_analysis/ufc_analysis.ipynb#Body\" data-toc-modified-id=\"Body-8.2.1\"><span class=\"toc-item-num\">8.2.1&nbsp;&nbsp;</span>Body</a></span></li><li><span><a href=\"http://localhost:8888/notebooks/ufc_fight_analysis/ufc_analysis.ipynb#Head\" data-toc-modified-id=\"Head-8.2.2\"><span class=\"toc-item-num\">8.2.2&nbsp;&nbsp;</span>Head</a></span></li><li><span><a href=\"http://localhost:8888/notebooks/ufc_fight_analysis/ufc_analysis.ipynb#Leg\" data-toc-modified-id=\"Leg-8.2.3\"><span class=\"toc-item-num\">8.2.3&nbsp;&nbsp;</span>Leg</a></span></li></ul></li><li><span><a href=\"http://localhost:8888/notebooks/ufc_fight_analysis/ufc_analysis.ipynb#Strike-Types\" data-toc-modified-id=\"Strike-Types-8.3\"><span class=\"toc-item-num\">8.3&nbsp;&nbsp;</span>Strike Types</a></span><ul class=\"toc-item\"><li><span><a href=\"http://localhost:8888/notebooks/ufc_fight_analysis/ufc_analysis.ipynb#Ground-and-Pound\" data-toc-modified-id=\"Ground-and-Pound-8.3.1\"><span class=\"toc-item-num\">8.3.1&nbsp;&nbsp;</span>Ground and Pound</a></span></li><li><span><a href=\"http://localhost:8888/notebooks/ufc_fight_analysis/ufc_analysis.ipynb#Distance\" data-toc-modified-id=\"Distance-8.3.2\"><span class=\"toc-item-num\">8.3.2&nbsp;&nbsp;</span>Distance</a></span></li><li><span><a href=\"http://localhost:8888/notebooks/ufc_fight_analysis/ufc_analysis.ipynb#Clinch\" data-toc-modified-id=\"Clinch-8.3.3\"><span class=\"toc-item-num\">8.3.3&nbsp;&nbsp;</span>Clinch</a></span></li><li><span><a href=\"http://localhost:8888/notebooks/ufc_fight_analysis/ufc_analysis.ipynb#Significant-Strikes\" data-toc-modified-id=\"Significant-Strikes-8.3.4\"><span class=\"toc-item-num\">8.3.4&nbsp;&nbsp;</span>Significant Strikes</a></span></li><li><span><a href=\"http://localhost:8888/notebooks/ufc_fight_analysis/ufc_analysis.ipynb#Overall-Strikes\" data-toc-modified-id=\"Overall-Strikes-8.3.5\"><span class=\"toc-item-num\">8.3.5&nbsp;&nbsp;</span>Overall Strikes</a></span></li></ul></li><li><span><a href=\"http://localhost:8888/notebooks/ufc_fight_analysis/ufc_analysis.ipynb#Grappling\" data-toc-modified-id=\"Grappling-8.4\"><span class=\"toc-item-num\">8.4&nbsp;&nbsp;</span>Grappling</a></span><ul class=\"toc-item\"><li><span><a href=\"http://localhost:8888/notebooks/ufc_fight_analysis/ufc_analysis.ipynb#Submissions\" data-toc-modified-id=\"Submissions-8.4.1\"><span class=\"toc-item-num\">8.4.1&nbsp;&nbsp;</span>Submissions</a></span></li><li><span><a href=\"http://localhost:8888/notebooks/ufc_fight_analysis/ufc_analysis.ipynb#Passes\" data-toc-modified-id=\"Passes-8.4.2\"><span class=\"toc-item-num\">8.4.2&nbsp;&nbsp;</span>Passes</a></span></li><li><span><a href=\"http://localhost:8888/notebooks/ufc_fight_analysis/ufc_analysis.ipynb#Reversals\" data-toc-modified-id=\"Reversals-8.4.3\"><span class=\"toc-item-num\">8.4.3&nbsp;&nbsp;</span>Reversals</a></span></li><li><span><a href=\"http://localhost:8888/notebooks/ufc_fight_analysis/ufc_analysis.ipynb#Takedowns\" data-toc-modified-id=\"Takedowns-8.4.4\"><span class=\"toc-item-num\">8.4.4&nbsp;&nbsp;</span>Takedowns</a></span></li></ul></li><li><span><a href=\"http://localhost:8888/notebooks/ufc_fight_analysis/ufc_analysis.ipynb#Knockdowns\" data-toc-modified-id=\"Knockdowns-8.5\"><span class=\"toc-item-num\">8.5&nbsp;&nbsp;</span>Knockdowns</a></span></li><li><span><a href=\"http://localhost:8888/notebooks/ufc_fight_analysis/ufc_analysis.ipynb#Referees-and-Fighters\" data-toc-modified-id=\"Referees-and-Fighters-8.6\"><span class=\"toc-item-num\">8.6&nbsp;&nbsp;</span>Referees and Fighters</a></span></li><li><span><a href=\"http://localhost:8888/notebooks/ufc_fight_analysis/ufc_analysis.ipynb#Rounds\" data-toc-modified-id=\"Rounds-8.7\"><span class=\"toc-item-num\">8.7&nbsp;&nbsp;</span>Rounds</a></span></li><li><span><a href=\"http://localhost:8888/notebooks/ufc_fight_analysis/ufc_analysis.ipynb#Method\" data-toc-modified-id=\"Method-8.8\"><span class=\"toc-item-num\">8.8&nbsp;&nbsp;</span>Method</a></span></li></ul></li><li><span><a href=\"http://localhost:8888/notebooks/ufc_fight_analysis/ufc_analysis.ipynb#Data-Cleaning\" data-toc-modified-id=\"Data-Cleaning-9\"><span class=\"toc-item-num\">9&nbsp;&nbsp;</span>Data Cleaning</a></span><ul class=\"toc-item\"><li><span><a href=\"http://localhost:8888/notebooks/ufc_fight_analysis/ufc_analysis.ipynb#Dropping-No-Contests,-DQ's,-etc\" data-toc-modified-id=\"Dropping-No-Contests,-DQ's,-etc-9.1\"><span class=\"toc-item-num\">9.1&nbsp;&nbsp;</span>Dropping No Contests, DQ's, etc</a></span></li><li><span><a href=\"http://localhost:8888/notebooks/ufc_fight_analysis/ufc_analysis.ipynb#Checking-for-NaN's\" data-toc-modified-id=\"Checking-for-NaN's-9.2\"><span class=\"toc-item-num\">9.2&nbsp;&nbsp;</span>Checking for NaN's</a></span></li><li><span><a href=\"http://localhost:8888/notebooks/ufc_fight_analysis/ufc_analysis.ipynb#Extracting-Country-from-B_Location-and-R_Location\" data-toc-modified-id=\"Extracting-Country-from-B_Location-and-R_Location-9.3\"><span class=\"toc-item-num\">9.3&nbsp;&nbsp;</span>Extracting Country from B_Location and R_Location</a></span></li><li><span><a href=\"http://localhost:8888/notebooks/ufc_fight_analysis/ufc_analysis.ipynb#Converting-Strings-to-Categories\" data-toc-modified-id=\"Converting-Strings-to-Categories-9.4\"><span class=\"toc-item-num\">9.4&nbsp;&nbsp;</span>Converting Strings to Categories</a></span></li></ul></li><li><span><a href=\"http://localhost:8888/notebooks/ufc_fight_analysis/ufc_analysis.ipynb#Feature-Engineering\" data-toc-modified-id=\"Feature-Engineering-10\"><span class=\"toc-item-num\">10&nbsp;&nbsp;</span>Feature Engineering</a></span></li><li><span><a href=\"http://localhost:8888/notebooks/ufc_fight_analysis/ufc_analysis.ipynb#Modeling\" data-toc-modified-id=\"Modeling-11\"><span class=\"toc-item-num\">11&nbsp;&nbsp;</span>Modeling</a></span><ul class=\"toc-item\"><li><span><a href=\"http://localhost:8888/notebooks/ufc_fight_analysis/ufc_analysis.ipynb#Trying-to-improve-results-by-dividing-features\" data-toc-modified-id=\"Trying-to-improve-results-by-dividing-features-11.1\"><span class=\"toc-item-num\">11.1&nbsp;&nbsp;</span>Trying to improve results by dividing features</a></span></li><li><span><a href=\"http://localhost:8888/notebooks/ufc_fight_analysis/ufc_analysis.ipynb#Dropping-First-Fights\" data-toc-modified-id=\"Dropping-First-Fights-11.2\"><span class=\"toc-item-num\">11.2&nbsp;&nbsp;</span>Dropping First Fights</a></span></li><li><span><a href=\"http://localhost:8888/notebooks/ufc_fight_analysis/ufc_analysis.ipynb#Aggregate-Round-Stats\" data-toc-modified-id=\"Aggregate-Round-Stats-11.3\"><span class=\"toc-item-num\">11.3&nbsp;&nbsp;</span>Aggregate Round Stats</a></span></li><li><span><a href=\"http://localhost:8888/notebooks/ufc_fight_analysis/ufc_analysis.ipynb#Comparing-Red-to-Blue\" data-toc-modified-id=\"Comparing-Red-to-Blue-11.4\"><span class=\"toc-item-num\">11.4&nbsp;&nbsp;</span>Comparing Red to Blue</a></span></li><li><span><a href=\"http://localhost:8888/notebooks/ufc_fight_analysis/ufc_analysis.ipynb#Reducing-Features\" data-toc-modified-id=\"Reducing-Features-11.5\"><span class=\"toc-item-num\">11.5&nbsp;&nbsp;</span>Reducing Features</a></span></li></ul></li><li><span><a href=\"http://localhost:8888/notebooks/ufc_fight_analysis/ufc_analysis.ipynb#Conclusion\" data-toc-modified-id=\"Conclusion-12\"><span class=\"toc-item-num\">12&nbsp;&nbsp;</span>Conclusion</a></span></li><li><span><a href=\"http://localhost:8888/notebooks/ufc_fight_analysis/ufc_analysis.ipynb#Stretch-Goals\" data-toc-modified-id=\"Stretch-Goals-13\"><span class=\"toc-item-num\">13&nbsp;&nbsp;</span>Stretch Goals</a></span><ul class=\"toc-item\"><li><span><a href=\"http://localhost:8888/notebooks/ufc_fight_analysis/ufc_analysis.ipynb#Rewrite-and-re-run-scraper-to-pull-data-from-earlier-years\" data-toc-modified-id=\"Rewrite-and-re-run-scraper-to-pull-data-from-earlier-years-13.1\"><span class=\"toc-item-num\">13.1&nbsp;&nbsp;</span>Rewrite and re-run scraper to pull data from earlier years</a></span></li></ul></li><li><span><a href=\"http://localhost:8888/notebooks/ufc_fight_analysis/ufc_analysis.ipynb#Scraper-Rewrite\" data-toc-modified-id=\"Scraper-Rewrite-14\"><span class=\"toc-item-num\">14&nbsp;&nbsp;</span>Scraper Rewrite</a></span><ul class=\"toc-item\"><li><span><a href=\"http://localhost:8888/notebooks/ufc_fight_analysis/ufc_analysis.ipynb#Fight-URL-Scraper\" data-toc-modified-id=\"Fight-URL-Scraper-14.1\"><span class=\"toc-item-num\">14.1&nbsp;&nbsp;</span>Fight URL Scraper</a></span></li><li><span><a href=\"http://localhost:8888/notebooks/ufc_fight_analysis/ufc_analysis.ipynb#Fight-Scraper\" data-toc-modified-id=\"Fight-Scraper-14.2\"><span class=\"toc-item-num\">14.2&nbsp;&nbsp;</span>Fight Scraper</a></span></li></ul></li></ul></div>"
   ]
  },
  {
   "cell_type": "markdown",
   "metadata": {
    "_cell_guid": "2627be18-352a-422b-b206-906e2ad58ce8",
    "_uuid": "4d550657d3a62617db3061ae1660035d36b17423",
    "deletable": true,
    "editable": true
   },
   "source": [
    "\n",
    "## Todo\n",
    "\n",
    "1. Graph several variables:\n",
    "  1. Counts with sns.barplot\n",
    "  2. Counts with plt.plot\n",
    "  3. Violin plot of one variable over several categories\n",
    "  4. sns.distplot of numerical variable\n",
    "  5. Def look at round data\n",
    "  6. Heatmap\n",
    "  7. Wordcloud of referee names\n",
    "  8. Jointplot of two variables\n",
    "1. Create percentages column for each landed / attempted statistic\n",
    "2. Aggregate all data so it's ongoing\n",
    "  1. Sum each fighter's data to make it possible to compare fighters in a reasonable way\n",
    "  2. One idea is to subtract two fighters' non-ratio stats and use them as labels\n",
    "  3. You can still use ratio stats as labels\n",
    "3. Rewrite models to account for the unbalanced data.\n",
    "  1. Most fights are won by decision, so that should be accounted for\n",
    "4. Add visuals\n",
    "\n",
    "## Ideas\n",
    "\n",
    "Go through all through all the steps and clean it up at the end. You don't have to worry about doing exploratory analysis twice. You're going to have to do that anyway because you have to:\n",
    "\n",
    "1. Get a feel for the dataset\n",
    "2. Show what's happening with the dataset after making changes\n",
    "\n",
    "Go through it and refine it later.\n",
    "\n",
    "I'm just spitballing but I think the fighter with the most strikes landed will usually win. We can test this by turning each fight into differences. We will subtract one fighter's stats from the other, including strikes, submissions attempted, KO wins, KO losses, sub wins, etc. Then, we'll feed the data into the algorithm and assess the results. Currently, the algorithm is just looking at each fight's stats and judging the winner. That's not very realistic or useful tbh...\n",
    "\n",
    "This will be a cool project, even if the results don't turn out the way I expected. We'll work on this in a couple stages:\n",
    "\n",
    "1. Clean up data. Check for:\n",
    "  1. Misspellings\n",
    "  2. Logical errors (strikes landed > strikes attempted, etc)\n",
    "  3. Incorrect data types\n",
    "  4. Missing data\n",
    "  5. Convert strings to categories? Not many categorical vars, so we'll leave this as a stretch goal.\n",
    "2. Create df of running tallies. We'll have to put more thought into it, but searching for previous columns with that name and adding them together.\n",
    "  1. Create two dataframes: winners and losers\n",
    "  1. Use the shift function\n",
    "  2. Divide one fighter's relevant stats by the other's\n",
    "  3. Keep the non-relevant stats for the respective winner/loser\n",
    "  5. Join the two dataframes and compare the stats\n",
    "3. Only include non-debut fights? There will be no data for that fighter, which may skew results but I'm also curious about the outcome. I might include it anyway to see if there are any patterns.\n",
    "4. In each fight, subtract one fighter's stats from the other\n",
    "5. Another idea for comparing fighters: fighter strike to opponent strike ratio\n",
    "\n",
    "There are so many areas to explore. Keep putting one foot in front of the other. This is shaping up to be a very interesting project!\n",
    "\n",
    "## Introduction\n",
    "\n",
    "## Background\n",
    "\n",
    "## Data\n",
    "\n",
    "This data was scraped from www.fightmetrics.com with Beautiful Soup in two stages. The first script compiled a list of event urls and wrote them to a CSV. The second script crawled through those urls and extracted all available fight data into a pandas dataframe. There are 29 columns and 8774 records.\n",
    "\n",
    "During exploratory data analysis, we'll take a look at the data from several perspectives. The first will be a bird's eye view of the data. We'll look at a heatmap of all the variables to see if we can tease out any patterns. Next we'll inspect each feature, restricting our view to univariate distributions and a select number of bivariate distributions. After we get a good sense of each individual variable, we will look for multivariate relationships."
   ]
  },
  {
   "cell_type": "code",
   "execution_count": 1,
   "metadata": {
    "_cell_guid": "e9262f56-9ff2-44d3-a361-886b823a6403",
    "_execution_state": "idle",
    "_uuid": "c548d6eec8b6bf6f090e43f5139fd9047a5755b8",
    "collapsed": false,
    "deletable": true,
    "editable": true
   },
   "outputs": [
    {
     "name": "stdout",
     "output_type": "stream",
     "text": [
      "data.csv\n",
      "data.csv.zip\n",
      "fight urls.csv\n",
      "fights.csv\n",
      "\n"
     ]
    }
   ],
   "source": [
    "# Imports and Helper Functions\n",
    "# data Analysis\n",
    "import pandas as pd\n",
    "import seaborn as sns\n",
    "import numpy as np\n",
    "import random as rng\n",
    "from pprint import pprint\n",
    "from scipy.stats import norm\n",
    "color = sns.color_palette()\n",
    "import random\n",
    "\n",
    "# Web Scraping\n",
    "import json\n",
    "import codecs\n",
    "import csv\n",
    "import datetime\n",
    "from bs4 import BeautifulSoup\n",
    "import requests\n",
    "import cStringIO\n",
    "import pprint\n",
    "\n",
    "# Visualization\n",
    "%matplotlib inline\n",
    "import matplotlib.pyplot as plt\n",
    "import seaborn as sns\n",
    "sns.set_style(\"white\")\n",
    "from PIL import Image\n",
    "from wordcloud import WordCloud\n",
    "\n",
    "#SciKit Learn Models\n",
    "from sklearn.linear_model import LogisticRegression\n",
    "from sklearn.svm import SVC, LinearSVC\n",
    "from sklearn.ensemble import RandomForestClassifier\n",
    "from sklearn.neighbors import KNeighborsClassifier\n",
    "from sklearn.naive_bayes import GaussianNB\n",
    "from sklearn.linear_model import Perceptron\n",
    "from sklearn.linear_model import SGDClassifier\n",
    "from sklearn.tree import DecisionTreeClassifier\n",
    "\n",
    "\n",
    "from sklearn.metrics import accuracy_score, classification_report,confusion_matrix\n",
    "\n",
    "from subprocess import check_output\n",
    "print check_output([\"ls\", \"data\"]).decode(\"utf8\")\n",
    "fight_data = pd.read_csv(\"data/fights.csv\")\n",
    "fight_df = pd.DataFrame(fight_data)\n",
    "# Any results you write to the current directory are saved as output.\n",
    "\n",
    "# Noteboook Functionality\n",
    "#from IPython.core.interactiveshell import InteractiveShell # All statements are printed to output\n",
    "#InteractiveShell.ast_node_interactivity = \"all\""
   ]
  },
  {
   "cell_type": "code",
   "execution_count": 2,
   "metadata": {
    "collapsed": false,
    "deletable": true,
    "editable": true
   },
   "outputs": [
    {
     "name": "stdout",
     "output_type": "stream",
     "text": [
      "<class 'pandas.core.frame.DataFrame'>\n",
      "RangeIndex: 8774 entries, 0 to 8773\n",
      "Data columns (total 29 columns):\n",
      "body                 8774 non-null int64\n",
      "body_attempts        8774 non-null int64\n",
      "clinch               8774 non-null int64\n",
      "clinch_attempts      8774 non-null int64\n",
      "distance             8774 non-null int64\n",
      "distance_attempts    8774 non-null int64\n",
      "fight_id             8774 non-null int64\n",
      "ground               8774 non-null int64\n",
      "ground_attempts      8774 non-null int64\n",
      "head                 8774 non-null int64\n",
      "head_attempts        8774 non-null int64\n",
      "kd                   8774 non-null int64\n",
      "leg                  8774 non-null int64\n",
      "leg_attempts         8774 non-null int64\n",
      "method               8774 non-null object\n",
      "name_first           8774 non-null object\n",
      "name_last            8774 non-null object\n",
      "pass                 8774 non-null int64\n",
      "referee              8738 non-null object\n",
      "reversals            8774 non-null int64\n",
      "round                8774 non-null int64\n",
      "sig_attempts         8774 non-null int64\n",
      "sig_strikes          8774 non-null int64\n",
      "strike_attempts      8774 non-null int64\n",
      "strikes              8774 non-null int64\n",
      "sub_attempts         8774 non-null int64\n",
      "takedowns            8774 non-null int64\n",
      "td_attempts          8774 non-null int64\n",
      "win/loss             8774 non-null int64\n",
      "dtypes: int64(25), object(4)\n",
      "memory usage: 1.9+ MB\n"
     ]
    }
   ],
   "source": [
    "fight_df.info()"
   ]
  },
  {
   "cell_type": "markdown",
   "metadata": {
    "_cell_guid": "26da2dbd-ee3d-415b-ada0-c720b9edb9bc",
    "_uuid": "7fd571569d28c952dd5e68cce1304c5ee1652ebc",
    "deletable": true,
    "editable": true
   },
   "source": [
    "From this, we can see that we have a total of 29 Columns and one dependent variable. The columns themselves have 4 object types (First Name, Last Name, Method and Referee), and 25 Float types. This however does not give us a complete picture of the data, so we'll using a few other pandas functions to get a better glimpse. "
   ]
  },
  {
   "cell_type": "code",
   "execution_count": 3,
   "metadata": {
    "collapsed": false,
    "deletable": true,
    "editable": true,
    "scrolled": true
   },
   "outputs": [
    {
     "data": {
      "text/html": [
       "<div>\n",
       "<style>\n",
       "    .dataframe thead tr:only-child th {\n",
       "        text-align: right;\n",
       "    }\n",
       "\n",
       "    .dataframe thead th {\n",
       "        text-align: left;\n",
       "    }\n",
       "\n",
       "    .dataframe tbody tr th {\n",
       "        vertical-align: top;\n",
       "    }\n",
       "</style>\n",
       "<table border=\"1\" class=\"dataframe\">\n",
       "  <thead>\n",
       "    <tr style=\"text-align: right;\">\n",
       "      <th></th>\n",
       "      <th>body</th>\n",
       "      <th>body_attempts</th>\n",
       "      <th>clinch</th>\n",
       "      <th>clinch_attempts</th>\n",
       "      <th>distance</th>\n",
       "      <th>distance_attempts</th>\n",
       "      <th>fight_id</th>\n",
       "      <th>ground</th>\n",
       "      <th>ground_attempts</th>\n",
       "      <th>head</th>\n",
       "      <th>...</th>\n",
       "      <th>reversals</th>\n",
       "      <th>round</th>\n",
       "      <th>sig_attempts</th>\n",
       "      <th>sig_strikes</th>\n",
       "      <th>strike_attempts</th>\n",
       "      <th>strikes</th>\n",
       "      <th>sub_attempts</th>\n",
       "      <th>takedowns</th>\n",
       "      <th>td_attempts</th>\n",
       "      <th>win/loss</th>\n",
       "    </tr>\n",
       "  </thead>\n",
       "  <tbody>\n",
       "    <tr>\n",
       "      <th>count</th>\n",
       "      <td>8774.000000</td>\n",
       "      <td>8774.000000</td>\n",
       "      <td>8774.000000</td>\n",
       "      <td>8774.000000</td>\n",
       "      <td>8774.000000</td>\n",
       "      <td>8774.000000</td>\n",
       "      <td>8774.000000</td>\n",
       "      <td>8774.000000</td>\n",
       "      <td>8774.000000</td>\n",
       "      <td>8774.000000</td>\n",
       "      <td>...</td>\n",
       "      <td>8774.000000</td>\n",
       "      <td>8774.000000</td>\n",
       "      <td>8774.000000</td>\n",
       "      <td>8774.000000</td>\n",
       "      <td>8774.000000</td>\n",
       "      <td>8774.000000</td>\n",
       "      <td>8774.000000</td>\n",
       "      <td>8774.000000</td>\n",
       "      <td>8774.000000</td>\n",
       "      <td>8774.000000</td>\n",
       "    </tr>\n",
       "    <tr>\n",
       "      <th>mean</th>\n",
       "      <td>5.961591</td>\n",
       "      <td>8.703556</td>\n",
       "      <td>5.236152</td>\n",
       "      <td>7.848986</td>\n",
       "      <td>19.463415</td>\n",
       "      <td>54.518578</td>\n",
       "      <td>2193.618874</td>\n",
       "      <td>5.206633</td>\n",
       "      <td>7.829154</td>\n",
       "      <td>19.022795</td>\n",
       "      <td>...</td>\n",
       "      <td>0.140187</td>\n",
       "      <td>2.264418</td>\n",
       "      <td>70.196718</td>\n",
       "      <td>29.906200</td>\n",
       "      <td>91.531571</td>\n",
       "      <td>48.951333</td>\n",
       "      <td>0.456234</td>\n",
       "      <td>1.098017</td>\n",
       "      <td>2.844883</td>\n",
       "      <td>0.500000</td>\n",
       "    </tr>\n",
       "    <tr>\n",
       "      <th>std</th>\n",
       "      <td>7.138084</td>\n",
       "      <td>10.033876</td>\n",
       "      <td>7.590997</td>\n",
       "      <td>10.711031</td>\n",
       "      <td>22.495543</td>\n",
       "      <td>58.464204</td>\n",
       "      <td>1267.532948</td>\n",
       "      <td>9.037458</td>\n",
       "      <td>13.385800</td>\n",
       "      <td>18.748625</td>\n",
       "      <td>...</td>\n",
       "      <td>0.427533</td>\n",
       "      <td>1.008035</td>\n",
       "      <td>62.533774</td>\n",
       "      <td>26.796296</td>\n",
       "      <td>72.518595</td>\n",
       "      <td>41.855437</td>\n",
       "      <td>0.911112</td>\n",
       "      <td>1.695560</td>\n",
       "      <td>3.691603</td>\n",
       "      <td>0.500028</td>\n",
       "    </tr>\n",
       "    <tr>\n",
       "      <th>min</th>\n",
       "      <td>0.000000</td>\n",
       "      <td>0.000000</td>\n",
       "      <td>0.000000</td>\n",
       "      <td>0.000000</td>\n",
       "      <td>0.000000</td>\n",
       "      <td>0.000000</td>\n",
       "      <td>0.000000</td>\n",
       "      <td>0.000000</td>\n",
       "      <td>0.000000</td>\n",
       "      <td>0.000000</td>\n",
       "      <td>...</td>\n",
       "      <td>0.000000</td>\n",
       "      <td>1.000000</td>\n",
       "      <td>0.000000</td>\n",
       "      <td>0.000000</td>\n",
       "      <td>0.000000</td>\n",
       "      <td>0.000000</td>\n",
       "      <td>0.000000</td>\n",
       "      <td>0.000000</td>\n",
       "      <td>0.000000</td>\n",
       "      <td>0.000000</td>\n",
       "    </tr>\n",
       "    <tr>\n",
       "      <th>25%</th>\n",
       "      <td>1.000000</td>\n",
       "      <td>2.000000</td>\n",
       "      <td>0.000000</td>\n",
       "      <td>1.000000</td>\n",
       "      <td>3.000000</td>\n",
       "      <td>11.000000</td>\n",
       "      <td>1096.250000</td>\n",
       "      <td>0.000000</td>\n",
       "      <td>0.000000</td>\n",
       "      <td>5.000000</td>\n",
       "      <td>...</td>\n",
       "      <td>0.000000</td>\n",
       "      <td>1.000000</td>\n",
       "      <td>22.000000</td>\n",
       "      <td>9.000000</td>\n",
       "      <td>31.000000</td>\n",
       "      <td>16.000000</td>\n",
       "      <td>0.000000</td>\n",
       "      <td>0.000000</td>\n",
       "      <td>0.000000</td>\n",
       "      <td>0.000000</td>\n",
       "    </tr>\n",
       "    <tr>\n",
       "      <th>50%</th>\n",
       "      <td>4.000000</td>\n",
       "      <td>5.000000</td>\n",
       "      <td>2.000000</td>\n",
       "      <td>4.000000</td>\n",
       "      <td>12.000000</td>\n",
       "      <td>34.000000</td>\n",
       "      <td>2193.000000</td>\n",
       "      <td>1.000000</td>\n",
       "      <td>2.000000</td>\n",
       "      <td>14.000000</td>\n",
       "      <td>...</td>\n",
       "      <td>0.000000</td>\n",
       "      <td>3.000000</td>\n",
       "      <td>54.000000</td>\n",
       "      <td>23.000000</td>\n",
       "      <td>78.000000</td>\n",
       "      <td>40.000000</td>\n",
       "      <td>0.000000</td>\n",
       "      <td>0.000000</td>\n",
       "      <td>1.000000</td>\n",
       "      <td>0.500000</td>\n",
       "    </tr>\n",
       "    <tr>\n",
       "      <th>75%</th>\n",
       "      <td>9.000000</td>\n",
       "      <td>13.000000</td>\n",
       "      <td>7.000000</td>\n",
       "      <td>11.000000</td>\n",
       "      <td>27.000000</td>\n",
       "      <td>79.000000</td>\n",
       "      <td>3289.750000</td>\n",
       "      <td>7.000000</td>\n",
       "      <td>10.000000</td>\n",
       "      <td>27.000000</td>\n",
       "      <td>...</td>\n",
       "      <td>0.000000</td>\n",
       "      <td>3.000000</td>\n",
       "      <td>101.000000</td>\n",
       "      <td>44.000000</td>\n",
       "      <td>136.000000</td>\n",
       "      <td>71.000000</td>\n",
       "      <td>1.000000</td>\n",
       "      <td>2.000000</td>\n",
       "      <td>4.000000</td>\n",
       "      <td>1.000000</td>\n",
       "    </tr>\n",
       "    <tr>\n",
       "      <th>max</th>\n",
       "      <td>92.000000</td>\n",
       "      <td>101.000000</td>\n",
       "      <td>95.000000</td>\n",
       "      <td>115.000000</td>\n",
       "      <td>228.000000</td>\n",
       "      <td>447.000000</td>\n",
       "      <td>4412.000000</td>\n",
       "      <td>100.000000</td>\n",
       "      <td>136.000000</td>\n",
       "      <td>199.000000</td>\n",
       "      <td>...</td>\n",
       "      <td>5.000000</td>\n",
       "      <td>5.000000</td>\n",
       "      <td>495.000000</td>\n",
       "      <td>238.000000</td>\n",
       "      <td>497.000000</td>\n",
       "      <td>361.000000</td>\n",
       "      <td>10.000000</td>\n",
       "      <td>21.000000</td>\n",
       "      <td>33.000000</td>\n",
       "      <td>1.000000</td>\n",
       "    </tr>\n",
       "  </tbody>\n",
       "</table>\n",
       "<p>8 rows × 25 columns</p>\n",
       "</div>"
      ],
      "text/plain": [
       "              body  body_attempts       clinch  clinch_attempts     distance  \\\n",
       "count  8774.000000    8774.000000  8774.000000      8774.000000  8774.000000   \n",
       "mean      5.961591       8.703556     5.236152         7.848986    19.463415   \n",
       "std       7.138084      10.033876     7.590997        10.711031    22.495543   \n",
       "min       0.000000       0.000000     0.000000         0.000000     0.000000   \n",
       "25%       1.000000       2.000000     0.000000         1.000000     3.000000   \n",
       "50%       4.000000       5.000000     2.000000         4.000000    12.000000   \n",
       "75%       9.000000      13.000000     7.000000        11.000000    27.000000   \n",
       "max      92.000000     101.000000    95.000000       115.000000   228.000000   \n",
       "\n",
       "       distance_attempts     fight_id       ground  ground_attempts  \\\n",
       "count        8774.000000  8774.000000  8774.000000      8774.000000   \n",
       "mean           54.518578  2193.618874     5.206633         7.829154   \n",
       "std            58.464204  1267.532948     9.037458        13.385800   \n",
       "min             0.000000     0.000000     0.000000         0.000000   \n",
       "25%            11.000000  1096.250000     0.000000         0.000000   \n",
       "50%            34.000000  2193.000000     1.000000         2.000000   \n",
       "75%            79.000000  3289.750000     7.000000        10.000000   \n",
       "max           447.000000  4412.000000   100.000000       136.000000   \n",
       "\n",
       "              head     ...         reversals        round  sig_attempts  \\\n",
       "count  8774.000000     ...       8774.000000  8774.000000   8774.000000   \n",
       "mean     19.022795     ...          0.140187     2.264418     70.196718   \n",
       "std      18.748625     ...          0.427533     1.008035     62.533774   \n",
       "min       0.000000     ...          0.000000     1.000000      0.000000   \n",
       "25%       5.000000     ...          0.000000     1.000000     22.000000   \n",
       "50%      14.000000     ...          0.000000     3.000000     54.000000   \n",
       "75%      27.000000     ...          0.000000     3.000000    101.000000   \n",
       "max     199.000000     ...          5.000000     5.000000    495.000000   \n",
       "\n",
       "       sig_strikes  strike_attempts      strikes  sub_attempts    takedowns  \\\n",
       "count  8774.000000      8774.000000  8774.000000   8774.000000  8774.000000   \n",
       "mean     29.906200        91.531571    48.951333      0.456234     1.098017   \n",
       "std      26.796296        72.518595    41.855437      0.911112     1.695560   \n",
       "min       0.000000         0.000000     0.000000      0.000000     0.000000   \n",
       "25%       9.000000        31.000000    16.000000      0.000000     0.000000   \n",
       "50%      23.000000        78.000000    40.000000      0.000000     0.000000   \n",
       "75%      44.000000       136.000000    71.000000      1.000000     2.000000   \n",
       "max     238.000000       497.000000   361.000000     10.000000    21.000000   \n",
       "\n",
       "       td_attempts     win/loss  \n",
       "count  8774.000000  8774.000000  \n",
       "mean      2.844883     0.500000  \n",
       "std       3.691603     0.500028  \n",
       "min       0.000000     0.000000  \n",
       "25%       0.000000     0.000000  \n",
       "50%       1.000000     0.500000  \n",
       "75%       4.000000     1.000000  \n",
       "max      33.000000     1.000000  \n",
       "\n",
       "[8 rows x 25 columns]"
      ]
     },
     "execution_count": 3,
     "metadata": {},
     "output_type": "execute_result"
    }
   ],
   "source": [
    "fight_df.describe()"
   ]
  },
  {
   "cell_type": "code",
   "execution_count": 4,
   "metadata": {
    "collapsed": false,
    "deletable": true,
    "editable": true
   },
   "outputs": [
    {
     "data": {
      "text/html": [
       "<div>\n",
       "<style>\n",
       "    .dataframe thead tr:only-child th {\n",
       "        text-align: right;\n",
       "    }\n",
       "\n",
       "    .dataframe thead th {\n",
       "        text-align: left;\n",
       "    }\n",
       "\n",
       "    .dataframe tbody tr th {\n",
       "        vertical-align: top;\n",
       "    }\n",
       "</style>\n",
       "<table border=\"1\" class=\"dataframe\">\n",
       "  <thead>\n",
       "    <tr style=\"text-align: right;\">\n",
       "      <th></th>\n",
       "      <th>method</th>\n",
       "      <th>name_first</th>\n",
       "      <th>name_last</th>\n",
       "      <th>referee</th>\n",
       "    </tr>\n",
       "  </thead>\n",
       "  <tbody>\n",
       "    <tr>\n",
       "      <th>count</th>\n",
       "      <td>8774</td>\n",
       "      <td>8774</td>\n",
       "      <td>8774</td>\n",
       "      <td>8738</td>\n",
       "    </tr>\n",
       "    <tr>\n",
       "      <th>unique</th>\n",
       "      <td>8</td>\n",
       "      <td>900</td>\n",
       "      <td>1483</td>\n",
       "      <td>155</td>\n",
       "    </tr>\n",
       "    <tr>\n",
       "      <th>top</th>\n",
       "      <td>Decision</td>\n",
       "      <td>Chris</td>\n",
       "      <td>Silva</td>\n",
       "      <td>Herb Dean</td>\n",
       "    </tr>\n",
       "    <tr>\n",
       "      <th>freq</th>\n",
       "      <td>3784</td>\n",
       "      <td>147</td>\n",
       "      <td>102</td>\n",
       "      <td>1306</td>\n",
       "    </tr>\n",
       "  </tbody>\n",
       "</table>\n",
       "</div>"
      ],
      "text/plain": [
       "          method name_first name_last    referee\n",
       "count       8774       8774      8774       8738\n",
       "unique         8        900      1483        155\n",
       "top     Decision      Chris     Silva  Herb Dean\n",
       "freq        3784        147       102       1306"
      ]
     },
     "execution_count": 4,
     "metadata": {},
     "output_type": "execute_result"
    }
   ],
   "source": [
    "fight_df.describe(include=['O'])"
   ]
  },
  {
   "cell_type": "markdown",
   "metadata": {
    "deletable": true,
    "editable": true
   },
   "source": [
    "### Observations\n",
    "\n",
    "Most of the variables have low means and large maximum values, which means they are probably highly skewed to the right. It might make sense to apply a log transform to some of the distributions when conducting the univariate analysis.\n",
    "\n",
    "In the categorical overview, we can see that Herb Dean is truly a prolific ref! Who knew that he officiated over 1300 UFC fights? I would've guessed John McCarthy was the leader in that respect, but Herb Dean has definitely paid his dues. Right now the fighter names are split into first and last columns so there doesn't seem to be a pattern, but later in the analysis I pull them back together to make them more readable. You'll never guess who's the most prolific UFC fighter. Spoler alert: It's Jim Miller. I bet he wasn't even on your radar."
   ]
  },
  {
   "cell_type": "markdown",
   "metadata": {
    "deletable": true,
    "editable": true
   },
   "source": [
    "### Missing Data\n",
    "\n",
    "Nothing to see here. The only column that has any missing data is the referee column and it's only 4%. Let's keep it moving"
   ]
  },
  {
   "cell_type": "code",
   "execution_count": 5,
   "metadata": {
    "collapsed": false,
    "deletable": true,
    "editable": true
   },
   "outputs": [
    {
     "data": {
      "text/plain": [
       "body                 0.000000\n",
       "takedowns            0.000000\n",
       "sub_attempts         0.000000\n",
       "strikes              0.000000\n",
       "strike_attempts      0.000000\n",
       "sig_strikes          0.000000\n",
       "sig_attempts         0.000000\n",
       "round                0.000000\n",
       "reversals            0.000000\n",
       "pass                 0.000000\n",
       "name_last            0.000000\n",
       "name_first           0.000000\n",
       "td_attempts          0.000000\n",
       "method               0.000000\n",
       "leg                  0.000000\n",
       "kd                   0.000000\n",
       "head_attempts        0.000000\n",
       "head                 0.000000\n",
       "ground_attempts      0.000000\n",
       "ground               0.000000\n",
       "fight_id             0.000000\n",
       "distance_attempts    0.000000\n",
       "distance             0.000000\n",
       "clinch_attempts      0.000000\n",
       "clinch               0.000000\n",
       "body_attempts        0.000000\n",
       "leg_attempts         0.000000\n",
       "win/loss             0.000000\n",
       "referee              0.004103\n",
       "dtype: float64"
      ]
     },
     "execution_count": 5,
     "metadata": {},
     "output_type": "execute_result"
    }
   ],
   "source": [
    "percent_missing = (fight_df.isnull().sum()/fight_df.isnull().count()).sort_values()\n",
    "percent_missing"
   ]
  },
  {
   "cell_type": "code",
   "execution_count": 6,
   "metadata": {
    "collapsed": false
   },
   "outputs": [
    {
     "data": {
      "text/plain": [
       "body                 2.333429\n",
       "body_attempts        2.225058\n",
       "clinch               2.960951\n",
       "clinch_attempts      2.769409\n",
       "distance             2.168737\n",
       "distance_attempts    1.767322\n",
       "fight_id             0.002696\n",
       "ground               3.258335\n",
       "ground_attempts      3.093664\n",
       "head                 1.869759\n",
       "head_attempts        1.597050\n",
       "kd                   2.620011\n",
       "leg                  2.667526\n",
       "leg_attempts         2.677855\n",
       "pass                 2.932443\n",
       "reversals            3.664056\n",
       "round                0.183691\n",
       "sig_attempts         1.444965\n",
       "sig_strikes          1.570874\n",
       "strike_attempts      1.009758\n",
       "strikes              1.395795\n",
       "sub_attempts         2.842687\n",
       "takedowns            2.397869\n",
       "td_attempts          1.910064\n",
       "win/loss             0.000000\n",
       "dtype: float64"
      ]
     },
     "execution_count": 6,
     "metadata": {},
     "output_type": "execute_result"
    }
   ],
   "source": [
    "fight_df.skew()"
   ]
  },
  {
   "cell_type": "markdown",
   "metadata": {
    "deletable": true,
    "editable": true
   },
   "source": [
    "## Minor Aesthetics\n",
    "\n",
    "Before diving deeper into the dataset, let's take a moment to fix a few minor details."
   ]
  },
  {
   "cell_type": "markdown",
   "metadata": {
    "deletable": true,
    "editable": true
   },
   "source": [
    "### Rearranging Columns\n",
    "\n",
    "It bugs me slightly that each fighter's name is buried in the middle of the dataframe. The analysis will be a lot simpler if that information was the first thing we saw in each row. Let's take care of that and move the win/loss column to the front as well."
   ]
  },
  {
   "cell_type": "code",
   "execution_count": 7,
   "metadata": {
    "collapsed": false,
    "deletable": true,
    "editable": true
   },
   "outputs": [
    {
     "data": {
      "text/html": [
       "<div>\n",
       "<style>\n",
       "    .dataframe thead tr:only-child th {\n",
       "        text-align: right;\n",
       "    }\n",
       "\n",
       "    .dataframe thead th {\n",
       "        text-align: left;\n",
       "    }\n",
       "\n",
       "    .dataframe tbody tr th {\n",
       "        vertical-align: top;\n",
       "    }\n",
       "</style>\n",
       "<table border=\"1\" class=\"dataframe\">\n",
       "  <thead>\n",
       "    <tr style=\"text-align: right;\">\n",
       "      <th></th>\n",
       "      <th>name_first</th>\n",
       "      <th>name_last</th>\n",
       "      <th>win/loss</th>\n",
       "      <th>method</th>\n",
       "      <th>body</th>\n",
       "      <th>body_attempts</th>\n",
       "      <th>clinch</th>\n",
       "      <th>clinch_attempts</th>\n",
       "      <th>distance</th>\n",
       "      <th>distance_attempts</th>\n",
       "      <th>...</th>\n",
       "      <th>referee</th>\n",
       "      <th>reversals</th>\n",
       "      <th>round</th>\n",
       "      <th>sig_attempts</th>\n",
       "      <th>sig_strikes</th>\n",
       "      <th>strike_attempts</th>\n",
       "      <th>strikes</th>\n",
       "      <th>sub_attempts</th>\n",
       "      <th>takedowns</th>\n",
       "      <th>td_attempts</th>\n",
       "    </tr>\n",
       "  </thead>\n",
       "  <tbody>\n",
       "    <tr>\n",
       "      <th>0</th>\n",
       "      <td>Ovince</td>\n",
       "      <td>Saint</td>\n",
       "      <td>1</td>\n",
       "      <td>Submission</td>\n",
       "      <td>0</td>\n",
       "      <td>0</td>\n",
       "      <td>0</td>\n",
       "      <td>0</td>\n",
       "      <td>0</td>\n",
       "      <td>0</td>\n",
       "      <td>...</td>\n",
       "      <td>Leon Roberts</td>\n",
       "      <td>0</td>\n",
       "      <td>1</td>\n",
       "      <td>0</td>\n",
       "      <td>0</td>\n",
       "      <td>3</td>\n",
       "      <td>3</td>\n",
       "      <td>1</td>\n",
       "      <td>0</td>\n",
       "      <td>0</td>\n",
       "    </tr>\n",
       "    <tr>\n",
       "      <th>1</th>\n",
       "      <td>Preux</td>\n",
       "      <td>Yushin</td>\n",
       "      <td>0</td>\n",
       "      <td>Submission</td>\n",
       "      <td>0</td>\n",
       "      <td>0</td>\n",
       "      <td>0</td>\n",
       "      <td>0</td>\n",
       "      <td>0</td>\n",
       "      <td>0</td>\n",
       "      <td>...</td>\n",
       "      <td>Leon Roberts</td>\n",
       "      <td>0</td>\n",
       "      <td>1</td>\n",
       "      <td>0</td>\n",
       "      <td>0</td>\n",
       "      <td>0</td>\n",
       "      <td>0</td>\n",
       "      <td>1</td>\n",
       "      <td>0</td>\n",
       "      <td>1</td>\n",
       "    </tr>\n",
       "    <tr>\n",
       "      <th>2</th>\n",
       "      <td>Claudia</td>\n",
       "      <td>Gadelha</td>\n",
       "      <td>1</td>\n",
       "      <td>Decision</td>\n",
       "      <td>1</td>\n",
       "      <td>4</td>\n",
       "      <td>9</td>\n",
       "      <td>15</td>\n",
       "      <td>30</td>\n",
       "      <td>71</td>\n",
       "      <td>...</td>\n",
       "      <td>John Sharp</td>\n",
       "      <td>0</td>\n",
       "      <td>3</td>\n",
       "      <td>91</td>\n",
       "      <td>42</td>\n",
       "      <td>96</td>\n",
       "      <td>47</td>\n",
       "      <td>2</td>\n",
       "      <td>0</td>\n",
       "      <td>7</td>\n",
       "    </tr>\n",
       "    <tr>\n",
       "      <th>3</th>\n",
       "      <td>Jessica</td>\n",
       "      <td>Andrade</td>\n",
       "      <td>0</td>\n",
       "      <td>Decision</td>\n",
       "      <td>50</td>\n",
       "      <td>58</td>\n",
       "      <td>18</td>\n",
       "      <td>25</td>\n",
       "      <td>45</td>\n",
       "      <td>107</td>\n",
       "      <td>...</td>\n",
       "      <td>John Sharp</td>\n",
       "      <td>0</td>\n",
       "      <td>3</td>\n",
       "      <td>241</td>\n",
       "      <td>141</td>\n",
       "      <td>355</td>\n",
       "      <td>242</td>\n",
       "      <td>0</td>\n",
       "      <td>4</td>\n",
       "      <td>7</td>\n",
       "    </tr>\n",
       "    <tr>\n",
       "      <th>4</th>\n",
       "      <td>Takanori</td>\n",
       "      <td>Gomi</td>\n",
       "      <td>1</td>\n",
       "      <td>KO/TKO</td>\n",
       "      <td>1</td>\n",
       "      <td>1</td>\n",
       "      <td>0</td>\n",
       "      <td>0</td>\n",
       "      <td>2</td>\n",
       "      <td>3</td>\n",
       "      <td>...</td>\n",
       "      <td>Steve Perceval</td>\n",
       "      <td>0</td>\n",
       "      <td>1</td>\n",
       "      <td>3</td>\n",
       "      <td>2</td>\n",
       "      <td>3</td>\n",
       "      <td>2</td>\n",
       "      <td>0</td>\n",
       "      <td>0</td>\n",
       "      <td>0</td>\n",
       "    </tr>\n",
       "  </tbody>\n",
       "</table>\n",
       "<p>5 rows × 29 columns</p>\n",
       "</div>"
      ],
      "text/plain": [
       "  name_first name_last  win/loss      method  body  body_attempts  clinch  \\\n",
       "0     Ovince     Saint         1  Submission     0              0       0   \n",
       "1      Preux    Yushin         0  Submission     0              0       0   \n",
       "2    Claudia   Gadelha         1    Decision     1              4       9   \n",
       "3    Jessica   Andrade         0    Decision    50             58      18   \n",
       "4   Takanori      Gomi         1      KO/TKO     1              1       0   \n",
       "\n",
       "   clinch_attempts  distance  distance_attempts     ...             referee  \\\n",
       "0                0         0                  0     ...        Leon Roberts   \n",
       "1                0         0                  0     ...        Leon Roberts   \n",
       "2               15        30                 71     ...          John Sharp   \n",
       "3               25        45                107     ...          John Sharp   \n",
       "4                0         2                  3     ...      Steve Perceval   \n",
       "\n",
       "   reversals  round  sig_attempts  sig_strikes  strike_attempts  strikes  \\\n",
       "0          0      1             0            0                3        3   \n",
       "1          0      1             0            0                0        0   \n",
       "2          0      3            91           42               96       47   \n",
       "3          0      3           241          141              355      242   \n",
       "4          0      1             3            2                3        2   \n",
       "\n",
       "   sub_attempts  takedowns td_attempts  \n",
       "0             1          0           0  \n",
       "1             1          0           1  \n",
       "2             2          0           7  \n",
       "3             0          4           7  \n",
       "4             0          0           0  \n",
       "\n",
       "[5 rows x 29 columns]"
      ]
     },
     "execution_count": 7,
     "metadata": {},
     "output_type": "execute_result"
    }
   ],
   "source": [
    "# Creates a copy of the dataframe for testing\n",
    "fight_df = pd.DataFrame(fight_data.copy())\n",
    "\n",
    "# Rearranges the columns so the first name, last name and win/loss appear first\n",
    "cols = fight_df.columns.tolist()\n",
    "cols = cols[15:17] + cols[28:29] + cols[14:15] + cols[:14] + cols[17:28]\n",
    "\n",
    "fight_df = fight_df[cols]\n",
    "\n",
    "# Sets the index as the fight_id\n",
    "# fight_df.set_index('fight_id', inplace=True)\n",
    "\n",
    "# Change kd to knock_down for readability\n",
    "fight_df.rename(columns={'kd': 'knockdowns'}, inplace=True)\n",
    "\n",
    "fight_df.to_csv('fights.csv', index=False)\n",
    "fight_df.head()"
   ]
  },
  {
   "cell_type": "markdown",
   "metadata": {
    "deletable": true,
    "editable": true
   },
   "source": [
    "### Reversing the Fight Order"
   ]
  },
  {
   "cell_type": "markdown",
   "metadata": {
    "_cell_guid": "4012f27d-ea2e-4ea0-9a35-a58797ec9921",
    "_uuid": "531cd3e1d9d08349c92332571212ca0a3d5d6789",
    "deletable": true,
    "editable": true
   },
   "source": [
    "Right off the bat I can see the data is organized in reverse-chronological order. Art Jimmerson fought in the first UFC event and I still remember him because he fought with one boxing glove. It was a crazy time... I'll reverse the dataframe so it's in chronological order and re-index the records. \n",
    "\n",
    "I'm surprised by the lack of NaN values in this dataset. Apparently, Fightmetrics is very organized! I'll have to crawl deep to see if there are any inconsistencies."
   ]
  },
  {
   "cell_type": "code",
   "execution_count": 8,
   "metadata": {
    "collapsed": false,
    "deletable": true,
    "editable": true
   },
   "outputs": [],
   "source": [
    "fight_df['fight_id'] = abs(4412 - fight_df['fight_id'])\n",
    "fight_df = fight_df[::-1]\n",
    "index = list(range(8774))\n",
    "fight_df.index = index"
   ]
  },
  {
   "cell_type": "code",
   "execution_count": 9,
   "metadata": {
    "collapsed": false,
    "deletable": true,
    "editable": true,
    "scrolled": true
   },
   "outputs": [
    {
     "data": {
      "text/html": [
       "<div>\n",
       "<style>\n",
       "    .dataframe thead tr:only-child th {\n",
       "        text-align: right;\n",
       "    }\n",
       "\n",
       "    .dataframe thead th {\n",
       "        text-align: left;\n",
       "    }\n",
       "\n",
       "    .dataframe tbody tr th {\n",
       "        vertical-align: top;\n",
       "    }\n",
       "</style>\n",
       "<table border=\"1\" class=\"dataframe\">\n",
       "  <thead>\n",
       "    <tr style=\"text-align: right;\">\n",
       "      <th></th>\n",
       "      <th>name_first</th>\n",
       "      <th>name_last</th>\n",
       "      <th>win/loss</th>\n",
       "      <th>method</th>\n",
       "      <th>body</th>\n",
       "      <th>body_attempts</th>\n",
       "      <th>clinch</th>\n",
       "      <th>clinch_attempts</th>\n",
       "      <th>distance</th>\n",
       "      <th>distance_attempts</th>\n",
       "      <th>...</th>\n",
       "      <th>referee</th>\n",
       "      <th>reversals</th>\n",
       "      <th>round</th>\n",
       "      <th>sig_attempts</th>\n",
       "      <th>sig_strikes</th>\n",
       "      <th>strike_attempts</th>\n",
       "      <th>strikes</th>\n",
       "      <th>sub_attempts</th>\n",
       "      <th>takedowns</th>\n",
       "      <th>td_attempts</th>\n",
       "    </tr>\n",
       "  </thead>\n",
       "  <tbody>\n",
       "    <tr>\n",
       "      <th>0</th>\n",
       "      <td>Teila</td>\n",
       "      <td>Tuli</td>\n",
       "      <td>0</td>\n",
       "      <td>KO/TKO</td>\n",
       "      <td>0</td>\n",
       "      <td>0</td>\n",
       "      <td>0</td>\n",
       "      <td>0</td>\n",
       "      <td>0</td>\n",
       "      <td>1</td>\n",
       "      <td>...</td>\n",
       "      <td>Joao Barreto</td>\n",
       "      <td>0</td>\n",
       "      <td>1</td>\n",
       "      <td>1</td>\n",
       "      <td>0</td>\n",
       "      <td>1</td>\n",
       "      <td>0</td>\n",
       "      <td>0</td>\n",
       "      <td>0</td>\n",
       "      <td>1</td>\n",
       "    </tr>\n",
       "    <tr>\n",
       "      <th>1</th>\n",
       "      <td>Gerard</td>\n",
       "      <td>Gordeau</td>\n",
       "      <td>1</td>\n",
       "      <td>KO/TKO</td>\n",
       "      <td>0</td>\n",
       "      <td>0</td>\n",
       "      <td>0</td>\n",
       "      <td>0</td>\n",
       "      <td>1</td>\n",
       "      <td>3</td>\n",
       "      <td>...</td>\n",
       "      <td>Joao Barreto</td>\n",
       "      <td>0</td>\n",
       "      <td>1</td>\n",
       "      <td>5</td>\n",
       "      <td>3</td>\n",
       "      <td>5</td>\n",
       "      <td>3</td>\n",
       "      <td>0</td>\n",
       "      <td>0</td>\n",
       "      <td>0</td>\n",
       "    </tr>\n",
       "    <tr>\n",
       "      <th>2</th>\n",
       "      <td>Zane</td>\n",
       "      <td>Frazier</td>\n",
       "      <td>0</td>\n",
       "      <td>KO/TKO</td>\n",
       "      <td>3</td>\n",
       "      <td>6</td>\n",
       "      <td>10</td>\n",
       "      <td>19</td>\n",
       "      <td>0</td>\n",
       "      <td>7</td>\n",
       "      <td>...</td>\n",
       "      <td>Joao Barreto</td>\n",
       "      <td>0</td>\n",
       "      <td>1</td>\n",
       "      <td>28</td>\n",
       "      <td>12</td>\n",
       "      <td>29</td>\n",
       "      <td>13</td>\n",
       "      <td>0</td>\n",
       "      <td>0</td>\n",
       "      <td>0</td>\n",
       "    </tr>\n",
       "    <tr>\n",
       "      <th>3</th>\n",
       "      <td>Kevin</td>\n",
       "      <td>Rosier</td>\n",
       "      <td>1</td>\n",
       "      <td>KO/TKO</td>\n",
       "      <td>3</td>\n",
       "      <td>4</td>\n",
       "      <td>4</td>\n",
       "      <td>9</td>\n",
       "      <td>4</td>\n",
       "      <td>10</td>\n",
       "      <td>...</td>\n",
       "      <td>Joao Barreto</td>\n",
       "      <td>0</td>\n",
       "      <td>1</td>\n",
       "      <td>27</td>\n",
       "      <td>15</td>\n",
       "      <td>53</td>\n",
       "      <td>38</td>\n",
       "      <td>0</td>\n",
       "      <td>0</td>\n",
       "      <td>0</td>\n",
       "    </tr>\n",
       "    <tr>\n",
       "      <th>4</th>\n",
       "      <td>Art</td>\n",
       "      <td>Jimmerson</td>\n",
       "      <td>0</td>\n",
       "      <td>Submission</td>\n",
       "      <td>0</td>\n",
       "      <td>0</td>\n",
       "      <td>0</td>\n",
       "      <td>0</td>\n",
       "      <td>0</td>\n",
       "      <td>0</td>\n",
       "      <td>...</td>\n",
       "      <td>Joao Barreto</td>\n",
       "      <td>0</td>\n",
       "      <td>1</td>\n",
       "      <td>0</td>\n",
       "      <td>0</td>\n",
       "      <td>0</td>\n",
       "      <td>0</td>\n",
       "      <td>0</td>\n",
       "      <td>0</td>\n",
       "      <td>0</td>\n",
       "    </tr>\n",
       "  </tbody>\n",
       "</table>\n",
       "<p>5 rows × 29 columns</p>\n",
       "</div>"
      ],
      "text/plain": [
       "  name_first  name_last  win/loss      method  body  body_attempts  clinch  \\\n",
       "0      Teila       Tuli         0      KO/TKO     0              0       0   \n",
       "1     Gerard    Gordeau         1      KO/TKO     0              0       0   \n",
       "2       Zane    Frazier         0      KO/TKO     3              6      10   \n",
       "3      Kevin     Rosier         1      KO/TKO     3              4       4   \n",
       "4        Art  Jimmerson         0  Submission     0              0       0   \n",
       "\n",
       "   clinch_attempts  distance  distance_attempts     ...           referee  \\\n",
       "0                0         0                  1     ...      Joao Barreto   \n",
       "1                0         1                  3     ...      Joao Barreto   \n",
       "2               19         0                  7     ...      Joao Barreto   \n",
       "3                9         4                 10     ...      Joao Barreto   \n",
       "4                0         0                  0     ...      Joao Barreto   \n",
       "\n",
       "   reversals  round  sig_attempts  sig_strikes  strike_attempts  strikes  \\\n",
       "0          0      1             1            0                1        0   \n",
       "1          0      1             5            3                5        3   \n",
       "2          0      1            28           12               29       13   \n",
       "3          0      1            27           15               53       38   \n",
       "4          0      1             0            0                0        0   \n",
       "\n",
       "   sub_attempts  takedowns td_attempts  \n",
       "0             0          0           1  \n",
       "1             0          0           0  \n",
       "2             0          0           0  \n",
       "3             0          0           0  \n",
       "4             0          0           0  \n",
       "\n",
       "[5 rows x 29 columns]"
      ]
     },
     "execution_count": 9,
     "metadata": {},
     "output_type": "execute_result"
    }
   ],
   "source": [
    "fight_df.head()"
   ]
  },
  {
   "cell_type": "code",
   "execution_count": 10,
   "metadata": {
    "collapsed": false,
    "deletable": true,
    "editable": true
   },
   "outputs": [
    {
     "data": {
      "text/html": [
       "<div>\n",
       "<style>\n",
       "    .dataframe thead tr:only-child th {\n",
       "        text-align: right;\n",
       "    }\n",
       "\n",
       "    .dataframe thead th {\n",
       "        text-align: left;\n",
       "    }\n",
       "\n",
       "    .dataframe tbody tr th {\n",
       "        vertical-align: top;\n",
       "    }\n",
       "</style>\n",
       "<table border=\"1\" class=\"dataframe\">\n",
       "  <thead>\n",
       "    <tr style=\"text-align: right;\">\n",
       "      <th></th>\n",
       "      <th>name_first</th>\n",
       "      <th>name_last</th>\n",
       "      <th>win/loss</th>\n",
       "      <th>method</th>\n",
       "      <th>body</th>\n",
       "      <th>body_attempts</th>\n",
       "      <th>clinch</th>\n",
       "      <th>clinch_attempts</th>\n",
       "      <th>distance</th>\n",
       "      <th>distance_attempts</th>\n",
       "      <th>...</th>\n",
       "      <th>referee</th>\n",
       "      <th>reversals</th>\n",
       "      <th>round</th>\n",
       "      <th>sig_attempts</th>\n",
       "      <th>sig_strikes</th>\n",
       "      <th>strike_attempts</th>\n",
       "      <th>strikes</th>\n",
       "      <th>sub_attempts</th>\n",
       "      <th>takedowns</th>\n",
       "      <th>td_attempts</th>\n",
       "    </tr>\n",
       "  </thead>\n",
       "  <tbody>\n",
       "    <tr>\n",
       "      <th>8769</th>\n",
       "      <td>Takanori</td>\n",
       "      <td>Gomi</td>\n",
       "      <td>1</td>\n",
       "      <td>KO/TKO</td>\n",
       "      <td>1</td>\n",
       "      <td>1</td>\n",
       "      <td>0</td>\n",
       "      <td>0</td>\n",
       "      <td>2</td>\n",
       "      <td>3</td>\n",
       "      <td>...</td>\n",
       "      <td>Steve Perceval</td>\n",
       "      <td>0</td>\n",
       "      <td>1</td>\n",
       "      <td>3</td>\n",
       "      <td>2</td>\n",
       "      <td>3</td>\n",
       "      <td>2</td>\n",
       "      <td>0</td>\n",
       "      <td>0</td>\n",
       "      <td>0</td>\n",
       "    </tr>\n",
       "    <tr>\n",
       "      <th>8770</th>\n",
       "      <td>Jessica</td>\n",
       "      <td>Andrade</td>\n",
       "      <td>0</td>\n",
       "      <td>Decision</td>\n",
       "      <td>50</td>\n",
       "      <td>58</td>\n",
       "      <td>18</td>\n",
       "      <td>25</td>\n",
       "      <td>45</td>\n",
       "      <td>107</td>\n",
       "      <td>...</td>\n",
       "      <td>John Sharp</td>\n",
       "      <td>0</td>\n",
       "      <td>3</td>\n",
       "      <td>241</td>\n",
       "      <td>141</td>\n",
       "      <td>355</td>\n",
       "      <td>242</td>\n",
       "      <td>0</td>\n",
       "      <td>4</td>\n",
       "      <td>7</td>\n",
       "    </tr>\n",
       "    <tr>\n",
       "      <th>8771</th>\n",
       "      <td>Claudia</td>\n",
       "      <td>Gadelha</td>\n",
       "      <td>1</td>\n",
       "      <td>Decision</td>\n",
       "      <td>1</td>\n",
       "      <td>4</td>\n",
       "      <td>9</td>\n",
       "      <td>15</td>\n",
       "      <td>30</td>\n",
       "      <td>71</td>\n",
       "      <td>...</td>\n",
       "      <td>John Sharp</td>\n",
       "      <td>0</td>\n",
       "      <td>3</td>\n",
       "      <td>91</td>\n",
       "      <td>42</td>\n",
       "      <td>96</td>\n",
       "      <td>47</td>\n",
       "      <td>2</td>\n",
       "      <td>0</td>\n",
       "      <td>7</td>\n",
       "    </tr>\n",
       "    <tr>\n",
       "      <th>8772</th>\n",
       "      <td>Preux</td>\n",
       "      <td>Yushin</td>\n",
       "      <td>0</td>\n",
       "      <td>Submission</td>\n",
       "      <td>0</td>\n",
       "      <td>0</td>\n",
       "      <td>0</td>\n",
       "      <td>0</td>\n",
       "      <td>0</td>\n",
       "      <td>0</td>\n",
       "      <td>...</td>\n",
       "      <td>Leon Roberts</td>\n",
       "      <td>0</td>\n",
       "      <td>1</td>\n",
       "      <td>0</td>\n",
       "      <td>0</td>\n",
       "      <td>0</td>\n",
       "      <td>0</td>\n",
       "      <td>1</td>\n",
       "      <td>0</td>\n",
       "      <td>1</td>\n",
       "    </tr>\n",
       "    <tr>\n",
       "      <th>8773</th>\n",
       "      <td>Ovince</td>\n",
       "      <td>Saint</td>\n",
       "      <td>1</td>\n",
       "      <td>Submission</td>\n",
       "      <td>0</td>\n",
       "      <td>0</td>\n",
       "      <td>0</td>\n",
       "      <td>0</td>\n",
       "      <td>0</td>\n",
       "      <td>0</td>\n",
       "      <td>...</td>\n",
       "      <td>Leon Roberts</td>\n",
       "      <td>0</td>\n",
       "      <td>1</td>\n",
       "      <td>0</td>\n",
       "      <td>0</td>\n",
       "      <td>3</td>\n",
       "      <td>3</td>\n",
       "      <td>1</td>\n",
       "      <td>0</td>\n",
       "      <td>0</td>\n",
       "    </tr>\n",
       "  </tbody>\n",
       "</table>\n",
       "<p>5 rows × 29 columns</p>\n",
       "</div>"
      ],
      "text/plain": [
       "     name_first name_last  win/loss      method  body  body_attempts  clinch  \\\n",
       "8769   Takanori      Gomi         1      KO/TKO     1              1       0   \n",
       "8770    Jessica   Andrade         0    Decision    50             58      18   \n",
       "8771    Claudia   Gadelha         1    Decision     1              4       9   \n",
       "8772      Preux    Yushin         0  Submission     0              0       0   \n",
       "8773     Ovince     Saint         1  Submission     0              0       0   \n",
       "\n",
       "      clinch_attempts  distance  distance_attempts     ...      \\\n",
       "8769                0         2                  3     ...       \n",
       "8770               25        45                107     ...       \n",
       "8771               15        30                 71     ...       \n",
       "8772                0         0                  0     ...       \n",
       "8773                0         0                  0     ...       \n",
       "\n",
       "             referee  reversals  round  sig_attempts  sig_strikes  \\\n",
       "8769  Steve Perceval          0      1             3            2   \n",
       "8770      John Sharp          0      3           241          141   \n",
       "8771      John Sharp          0      3            91           42   \n",
       "8772    Leon Roberts          0      1             0            0   \n",
       "8773    Leon Roberts          0      1             0            0   \n",
       "\n",
       "      strike_attempts  strikes  sub_attempts  takedowns td_attempts  \n",
       "8769                3        2             0          0           0  \n",
       "8770              355      242             0          4           7  \n",
       "8771               96       47             2          0           7  \n",
       "8772                0        0             1          0           1  \n",
       "8773                3        3             1          0           0  \n",
       "\n",
       "[5 rows x 29 columns]"
      ]
     },
     "execution_count": 10,
     "metadata": {},
     "output_type": "execute_result"
    }
   ],
   "source": [
    "fight_df.tail()"
   ]
  },
  {
   "cell_type": "markdown",
   "metadata": {
    "deletable": true,
    "editable": true
   },
   "source": [
    "Ah, much better! The earliest fights are at the beginning of the dataset and the later fights are at the end. Now to dive into the variables."
   ]
  },
  {
   "cell_type": "markdown",
   "metadata": {
    "deletable": true,
    "editable": true
   },
   "source": [
    "### Editing Name Column\n",
    "\n",
    "The fighter names are split into first and last, which doesn't seem necessary. I'll combine them into one column, but first I want to check to make sure there are no missing values."
   ]
  },
  {
   "cell_type": "code",
   "execution_count": 11,
   "metadata": {
    "collapsed": false,
    "deletable": true,
    "editable": true,
    "scrolled": false
   },
   "outputs": [
    {
     "name": "stdout",
     "output_type": "stream",
     "text": [
      "       name_first name_last  win/loss      method  body\n",
      "4439     Nah-Shon   Burrell         1    Decision    16\n",
      "4638     Nah-Shon   Burrell         0    Decision    29\n",
      "8000          Jr.     Tyson         0  Submission     1\n",
      "8602          Jr.      Paul         0      KO/TKO     3\n",
      "8690  Abdul-Kerim    Edilov         0      KO/TKO    16\n"
     ]
    },
    {
     "data": {
      "text/html": [
       "<div>\n",
       "<style>\n",
       "    .dataframe thead tr:only-child th {\n",
       "        text-align: right;\n",
       "    }\n",
       "\n",
       "    .dataframe thead th {\n",
       "        text-align: left;\n",
       "    }\n",
       "\n",
       "    .dataframe tbody tr th {\n",
       "        vertical-align: top;\n",
       "    }\n",
       "</style>\n",
       "<table border=\"1\" class=\"dataframe\">\n",
       "  <thead>\n",
       "    <tr style=\"text-align: right;\">\n",
       "      <th></th>\n",
       "      <th>name_first</th>\n",
       "      <th>name_last</th>\n",
       "      <th>win/loss</th>\n",
       "      <th>method</th>\n",
       "      <th>body</th>\n",
       "    </tr>\n",
       "  </thead>\n",
       "  <tbody>\n",
       "    <tr>\n",
       "      <th>7751</th>\n",
       "      <td>Ashlee</td>\n",
       "      <td>Evans-Smith</td>\n",
       "      <td>1</td>\n",
       "      <td>KO/TKO</td>\n",
       "      <td>27</td>\n",
       "    </tr>\n",
       "    <tr>\n",
       "      <th>8052</th>\n",
       "      <td>Sean</td>\n",
       "      <td>O'Connell</td>\n",
       "      <td>0</td>\n",
       "      <td>KO/TKO</td>\n",
       "      <td>2</td>\n",
       "    </tr>\n",
       "    <tr>\n",
       "      <th>8069</th>\n",
       "      <td>Olivier</td>\n",
       "      <td>Aubin-Mercier</td>\n",
       "      <td>1</td>\n",
       "      <td>Submission</td>\n",
       "      <td>2</td>\n",
       "    </tr>\n",
       "    <tr>\n",
       "      <th>8137</th>\n",
       "      <td>Jocelyn</td>\n",
       "      <td>Jones-Lybarger</td>\n",
       "      <td>1</td>\n",
       "      <td>Submission</td>\n",
       "      <td>2</td>\n",
       "    </tr>\n",
       "    <tr>\n",
       "      <th>8347</th>\n",
       "      <td>Ashlee</td>\n",
       "      <td>Evans-Smith</td>\n",
       "      <td>1</td>\n",
       "      <td>Decision</td>\n",
       "      <td>17</td>\n",
       "    </tr>\n",
       "    <tr>\n",
       "      <th>8720</th>\n",
       "      <td>Ashlee</td>\n",
       "      <td>Evans-Smith</td>\n",
       "      <td>0</td>\n",
       "      <td>Submission</td>\n",
       "      <td>2</td>\n",
       "    </tr>\n",
       "    <tr>\n",
       "      <th>8740</th>\n",
       "      <td>Olivier</td>\n",
       "      <td>Aubin-Mercier</td>\n",
       "      <td>0</td>\n",
       "      <td>Decision</td>\n",
       "      <td>3</td>\n",
       "    </tr>\n",
       "  </tbody>\n",
       "</table>\n",
       "</div>"
      ],
      "text/plain": [
       "     name_first       name_last  win/loss      method  body\n",
       "7751     Ashlee     Evans-Smith         1      KO/TKO    27\n",
       "8052       Sean       O'Connell         0      KO/TKO     2\n",
       "8069    Olivier   Aubin-Mercier         1  Submission     2\n",
       "8137    Jocelyn  Jones-Lybarger         1  Submission     2\n",
       "8347     Ashlee     Evans-Smith         1    Decision    17\n",
       "8720     Ashlee     Evans-Smith         0  Submission     2\n",
       "8740    Olivier   Aubin-Mercier         0    Decision     3"
      ]
     },
     "execution_count": 11,
     "metadata": {},
     "output_type": "execute_result"
    }
   ],
   "source": [
    "print(fight_df[fight_df['name_first'].str.isalpha()==False].iloc[:,:5])\n",
    "fight_df[fight_df['name_last'].str.isalpha()==False].iloc[-7:,:5]"
   ]
  },
  {
   "cell_type": "markdown",
   "metadata": {
    "deletable": true,
    "editable": true
   },
   "source": [
    "There are non-alpha characters in the first and last names columns but they are within the normal range. Periods (Jr.), hyphens (St-Pierre) and apostrophes (O'Brien) are to be expected. Now, to combine the first and last names for each figher."
   ]
  },
  {
   "cell_type": "code",
   "execution_count": 12,
   "metadata": {
    "collapsed": true,
    "deletable": true,
    "editable": true
   },
   "outputs": [],
   "source": [
    "fight_df.loc[:,'name'] = fight_df['name_first'] + ' ' + fight_df['name_last']\n",
    "fight_df['name'].head()\n",
    "del fight_df['name_first']\n",
    "del fight_df['name_last']\n",
    "cols = fight_df.columns.tolist()\n",
    "cols = cols[-1:] + cols[:-1]\n",
    "fight_df = fight_df[cols]"
   ]
  },
  {
   "cell_type": "markdown",
   "metadata": {
    "deletable": true,
    "editable": true
   },
   "source": [
    "## Comparing Winners and Losers\n",
    "\n",
    "Next, I will create a running tally of differences between each fighter in each fight. My hope is that by comparing the winners and losers of each individual fight, I might be able to determine which features, if any can predict success in the UFC.\n",
    "\n",
    "I will look at both ratios and differences, but I want to start with differences first. Right off the bat, I can see that the ratio strategy will come with its own set of challenges because of the number of values that are equal to zero. It may be possible to add one to all relevant columns to overcome this, but I want to tackle the easier problem first.\n",
    "\n",
    "Here's what the process will look like:\n",
    "\n",
    "1. Create two dataframes: winners and losers\n",
    "2. Use the shift function\n",
    "3. Subtract one fighter's relevant stats by the other's\n",
    "4. Keep the non-relevant stats for the respective winner/loser\n",
    "5. Join the two dataframes and compare the stats\n",
    "6. Repeat the process using division\n",
    "\n",
    "Let's get to work!"
   ]
  },
  {
   "cell_type": "code",
   "execution_count": 13,
   "metadata": {
    "collapsed": false,
    "deletable": true,
    "editable": true
   },
   "outputs": [
    {
     "data": {
      "text/plain": [
       "0"
      ]
     },
     "execution_count": 13,
     "metadata": {},
     "output_type": "execute_result"
    }
   ],
   "source": [
    "fight_copy = fight_df.copy()\n",
    "len(fight_copy.loc[(fight_copy['win/loss']==1) & (fight_copy.index%2==0)])"
   ]
  },
  {
   "cell_type": "markdown",
   "metadata": {},
   "source": [
    "The winners are always presented first, which will make the process of separating winners and losers slightly easier."
   ]
  },
  {
   "cell_type": "code",
   "execution_count": 14,
   "metadata": {
    "collapsed": false,
    "deletable": true,
    "editable": true
   },
   "outputs": [
    {
     "data": {
      "text/html": [
       "<div>\n",
       "<style>\n",
       "    .dataframe thead tr:only-child th {\n",
       "        text-align: right;\n",
       "    }\n",
       "\n",
       "    .dataframe thead th {\n",
       "        text-align: left;\n",
       "    }\n",
       "\n",
       "    .dataframe tbody tr th {\n",
       "        vertical-align: top;\n",
       "    }\n",
       "</style>\n",
       "<table border=\"1\" class=\"dataframe\">\n",
       "  <thead>\n",
       "    <tr style=\"text-align: right;\">\n",
       "      <th></th>\n",
       "      <th>name</th>\n",
       "      <th>win/loss</th>\n",
       "      <th>method</th>\n",
       "      <th>body</th>\n",
       "      <th>body_attempts</th>\n",
       "      <th>clinch</th>\n",
       "      <th>clinch_attempts</th>\n",
       "      <th>distance</th>\n",
       "      <th>distance_attempts</th>\n",
       "      <th>fight_id</th>\n",
       "      <th>...</th>\n",
       "      <th>referee</th>\n",
       "      <th>reversals</th>\n",
       "      <th>round</th>\n",
       "      <th>sig_attempts</th>\n",
       "      <th>sig_strikes</th>\n",
       "      <th>strike_attempts</th>\n",
       "      <th>strikes</th>\n",
       "      <th>sub_attempts</th>\n",
       "      <th>takedowns</th>\n",
       "      <th>td_attempts</th>\n",
       "    </tr>\n",
       "  </thead>\n",
       "  <tbody>\n",
       "    <tr>\n",
       "      <th>0</th>\n",
       "      <td>Teila Tuli</td>\n",
       "      <td>0</td>\n",
       "      <td>KO/TKO</td>\n",
       "      <td>0</td>\n",
       "      <td>0</td>\n",
       "      <td>0</td>\n",
       "      <td>0</td>\n",
       "      <td>-1</td>\n",
       "      <td>-2</td>\n",
       "      <td>0</td>\n",
       "      <td>...</td>\n",
       "      <td>Joao Barreto</td>\n",
       "      <td>0</td>\n",
       "      <td>1</td>\n",
       "      <td>-4</td>\n",
       "      <td>-3</td>\n",
       "      <td>-4</td>\n",
       "      <td>-3</td>\n",
       "      <td>0</td>\n",
       "      <td>0</td>\n",
       "      <td>1</td>\n",
       "    </tr>\n",
       "    <tr>\n",
       "      <th>1</th>\n",
       "      <td>Zane Frazier</td>\n",
       "      <td>0</td>\n",
       "      <td>KO/TKO</td>\n",
       "      <td>0</td>\n",
       "      <td>2</td>\n",
       "      <td>6</td>\n",
       "      <td>10</td>\n",
       "      <td>-4</td>\n",
       "      <td>-3</td>\n",
       "      <td>1</td>\n",
       "      <td>...</td>\n",
       "      <td>Joao Barreto</td>\n",
       "      <td>0</td>\n",
       "      <td>1</td>\n",
       "      <td>1</td>\n",
       "      <td>-3</td>\n",
       "      <td>-24</td>\n",
       "      <td>-25</td>\n",
       "      <td>0</td>\n",
       "      <td>0</td>\n",
       "      <td>0</td>\n",
       "    </tr>\n",
       "    <tr>\n",
       "      <th>2</th>\n",
       "      <td>Art Jimmerson</td>\n",
       "      <td>0</td>\n",
       "      <td>Submission</td>\n",
       "      <td>0</td>\n",
       "      <td>0</td>\n",
       "      <td>0</td>\n",
       "      <td>0</td>\n",
       "      <td>0</td>\n",
       "      <td>-3</td>\n",
       "      <td>2</td>\n",
       "      <td>...</td>\n",
       "      <td>Joao Barreto</td>\n",
       "      <td>0</td>\n",
       "      <td>1</td>\n",
       "      <td>-3</td>\n",
       "      <td>0</td>\n",
       "      <td>-7</td>\n",
       "      <td>-4</td>\n",
       "      <td>0</td>\n",
       "      <td>-1</td>\n",
       "      <td>-1</td>\n",
       "    </tr>\n",
       "    <tr>\n",
       "      <th>3</th>\n",
       "      <td>Patrick Smith</td>\n",
       "      <td>0</td>\n",
       "      <td>Submission</td>\n",
       "      <td>1</td>\n",
       "      <td>1</td>\n",
       "      <td>1</td>\n",
       "      <td>1</td>\n",
       "      <td>1</td>\n",
       "      <td>1</td>\n",
       "      <td>3</td>\n",
       "      <td>...</td>\n",
       "      <td>Joao Barreto</td>\n",
       "      <td>0</td>\n",
       "      <td>1</td>\n",
       "      <td>7</td>\n",
       "      <td>3</td>\n",
       "      <td>16</td>\n",
       "      <td>12</td>\n",
       "      <td>-2</td>\n",
       "      <td>-1</td>\n",
       "      <td>-2</td>\n",
       "    </tr>\n",
       "    <tr>\n",
       "      <th>4</th>\n",
       "      <td>Kevin Rosier</td>\n",
       "      <td>0</td>\n",
       "      <td>KO/TKO</td>\n",
       "      <td>-1</td>\n",
       "      <td>0</td>\n",
       "      <td>0</td>\n",
       "      <td>0</td>\n",
       "      <td>-5</td>\n",
       "      <td>-5</td>\n",
       "      <td>4</td>\n",
       "      <td>...</td>\n",
       "      <td>Joao Barreto</td>\n",
       "      <td>0</td>\n",
       "      <td>1</td>\n",
       "      <td>-14</td>\n",
       "      <td>-11</td>\n",
       "      <td>-14</td>\n",
       "      <td>-11</td>\n",
       "      <td>0</td>\n",
       "      <td>0</td>\n",
       "      <td>0</td>\n",
       "    </tr>\n",
       "  </tbody>\n",
       "</table>\n",
       "<p>5 rows × 28 columns</p>\n",
       "</div>"
      ],
      "text/plain": [
       "            name  win/loss      method  body  body_attempts  clinch  \\\n",
       "0     Teila Tuli         0      KO/TKO     0              0       0   \n",
       "1   Zane Frazier         0      KO/TKO     0              2       6   \n",
       "2  Art Jimmerson         0  Submission     0              0       0   \n",
       "3  Patrick Smith         0  Submission     1              1       1   \n",
       "4   Kevin Rosier         0      KO/TKO    -1              0       0   \n",
       "\n",
       "   clinch_attempts  distance  distance_attempts  fight_id     ...       \\\n",
       "0                0        -1                 -2         0     ...        \n",
       "1               10        -4                 -3         1     ...        \n",
       "2                0         0                 -3         2     ...        \n",
       "3                1         1                  1         3     ...        \n",
       "4                0        -5                 -5         4     ...        \n",
       "\n",
       "        referee  reversals  round  sig_attempts  sig_strikes  strike_attempts  \\\n",
       "0  Joao Barreto          0      1            -4           -3               -4   \n",
       "1  Joao Barreto          0      1             1           -3              -24   \n",
       "2  Joao Barreto          0      1            -3            0               -7   \n",
       "3  Joao Barreto          0      1             7            3               16   \n",
       "4  Joao Barreto          0      1           -14          -11              -14   \n",
       "\n",
       "   strikes  sub_attempts takedowns  td_attempts  \n",
       "0       -3             0         0            1  \n",
       "1      -25             0         0            0  \n",
       "2       -4             0        -1           -1  \n",
       "3       12            -2        -1           -2  \n",
       "4      -11             0         0            0  \n",
       "\n",
       "[5 rows x 28 columns]"
      ]
     },
     "execution_count": 14,
     "metadata": {},
     "output_type": "execute_result"
    }
   ],
   "source": [
    "cols = [u'body', u'body_attempts', u'clinch', u'clinch_attempts', u'distance',\n",
    "       u'distance_attempts', u'ground', u'ground_attempts',\n",
    "       u'head', u'head_attempts', u'knockdowns', u'leg', u'leg_attempts',\n",
    "       u'pass', u'reversals', u'sig_attempts', u'sig_strikes',\n",
    "       u'strike_attempts', u'strikes', u'sub_attempts', u'takedowns',\n",
    "       u'td_attempts']\n",
    "\n",
    "fighter_a = fight_df[fight_df.index%2==0]\n",
    "fighter_b = fight_df[fight_df.index%2==1]\n",
    "\n",
    "fighter_a.reset_index(inplace=True, drop=True)\n",
    "fighter_b.reset_index(inplace=True, drop=True)\n",
    "\n",
    "fight_loser = fighter_a.copy()\n",
    "fight_winner = fighter_b.copy()\n",
    "\n",
    "fight_loser.loc[:, cols] = fighter_a[cols] - fighter_b[cols]\n",
    "fight_winner.loc[:, cols] = fighter_b[cols] - fighter_a[cols]\n",
    "fight_loser.head()"
   ]
  },
  {
   "cell_type": "code",
   "execution_count": 15,
   "metadata": {
    "collapsed": false,
    "deletable": true,
    "editable": true
   },
   "outputs": [
    {
     "data": {
      "text/html": [
       "<div>\n",
       "<style>\n",
       "    .dataframe thead tr:only-child th {\n",
       "        text-align: right;\n",
       "    }\n",
       "\n",
       "    .dataframe thead th {\n",
       "        text-align: left;\n",
       "    }\n",
       "\n",
       "    .dataframe tbody tr th {\n",
       "        vertical-align: top;\n",
       "    }\n",
       "</style>\n",
       "<table border=\"1\" class=\"dataframe\">\n",
       "  <thead>\n",
       "    <tr style=\"text-align: right;\">\n",
       "      <th></th>\n",
       "      <th>name</th>\n",
       "      <th>win/loss</th>\n",
       "      <th>method</th>\n",
       "      <th>body</th>\n",
       "      <th>body_attempts</th>\n",
       "      <th>clinch</th>\n",
       "      <th>clinch_attempts</th>\n",
       "      <th>distance</th>\n",
       "      <th>distance_attempts</th>\n",
       "      <th>fight_id</th>\n",
       "      <th>...</th>\n",
       "      <th>referee</th>\n",
       "      <th>reversals</th>\n",
       "      <th>round</th>\n",
       "      <th>sig_attempts</th>\n",
       "      <th>sig_strikes</th>\n",
       "      <th>strike_attempts</th>\n",
       "      <th>strikes</th>\n",
       "      <th>sub_attempts</th>\n",
       "      <th>takedowns</th>\n",
       "      <th>td_attempts</th>\n",
       "    </tr>\n",
       "  </thead>\n",
       "  <tbody>\n",
       "    <tr>\n",
       "      <th>0</th>\n",
       "      <td>Gerard Gordeau</td>\n",
       "      <td>1</td>\n",
       "      <td>KO/TKO</td>\n",
       "      <td>0</td>\n",
       "      <td>0</td>\n",
       "      <td>0</td>\n",
       "      <td>0</td>\n",
       "      <td>1</td>\n",
       "      <td>2</td>\n",
       "      <td>0</td>\n",
       "      <td>...</td>\n",
       "      <td>Joao Barreto</td>\n",
       "      <td>0</td>\n",
       "      <td>1</td>\n",
       "      <td>4</td>\n",
       "      <td>3</td>\n",
       "      <td>4</td>\n",
       "      <td>3</td>\n",
       "      <td>0</td>\n",
       "      <td>0</td>\n",
       "      <td>-1</td>\n",
       "    </tr>\n",
       "    <tr>\n",
       "      <th>1</th>\n",
       "      <td>Kevin Rosier</td>\n",
       "      <td>1</td>\n",
       "      <td>KO/TKO</td>\n",
       "      <td>0</td>\n",
       "      <td>-2</td>\n",
       "      <td>-6</td>\n",
       "      <td>-10</td>\n",
       "      <td>4</td>\n",
       "      <td>3</td>\n",
       "      <td>1</td>\n",
       "      <td>...</td>\n",
       "      <td>Joao Barreto</td>\n",
       "      <td>0</td>\n",
       "      <td>1</td>\n",
       "      <td>-1</td>\n",
       "      <td>3</td>\n",
       "      <td>24</td>\n",
       "      <td>25</td>\n",
       "      <td>0</td>\n",
       "      <td>0</td>\n",
       "      <td>0</td>\n",
       "    </tr>\n",
       "    <tr>\n",
       "      <th>2</th>\n",
       "      <td>Royce Gracie</td>\n",
       "      <td>1</td>\n",
       "      <td>Submission</td>\n",
       "      <td>0</td>\n",
       "      <td>0</td>\n",
       "      <td>0</td>\n",
       "      <td>0</td>\n",
       "      <td>0</td>\n",
       "      <td>3</td>\n",
       "      <td>2</td>\n",
       "      <td>...</td>\n",
       "      <td>Joao Barreto</td>\n",
       "      <td>0</td>\n",
       "      <td>1</td>\n",
       "      <td>3</td>\n",
       "      <td>0</td>\n",
       "      <td>7</td>\n",
       "      <td>4</td>\n",
       "      <td>0</td>\n",
       "      <td>1</td>\n",
       "      <td>1</td>\n",
       "    </tr>\n",
       "    <tr>\n",
       "      <th>3</th>\n",
       "      <td>Ken Shamrock</td>\n",
       "      <td>1</td>\n",
       "      <td>Submission</td>\n",
       "      <td>-1</td>\n",
       "      <td>-1</td>\n",
       "      <td>-1</td>\n",
       "      <td>-1</td>\n",
       "      <td>-1</td>\n",
       "      <td>-1</td>\n",
       "      <td>3</td>\n",
       "      <td>...</td>\n",
       "      <td>Joao Barreto</td>\n",
       "      <td>0</td>\n",
       "      <td>1</td>\n",
       "      <td>-7</td>\n",
       "      <td>-3</td>\n",
       "      <td>-16</td>\n",
       "      <td>-12</td>\n",
       "      <td>2</td>\n",
       "      <td>1</td>\n",
       "      <td>2</td>\n",
       "    </tr>\n",
       "    <tr>\n",
       "      <th>4</th>\n",
       "      <td>Gerard Gordeau</td>\n",
       "      <td>1</td>\n",
       "      <td>KO/TKO</td>\n",
       "      <td>1</td>\n",
       "      <td>0</td>\n",
       "      <td>0</td>\n",
       "      <td>0</td>\n",
       "      <td>5</td>\n",
       "      <td>5</td>\n",
       "      <td>4</td>\n",
       "      <td>...</td>\n",
       "      <td>Joao Barreto</td>\n",
       "      <td>0</td>\n",
       "      <td>1</td>\n",
       "      <td>14</td>\n",
       "      <td>11</td>\n",
       "      <td>14</td>\n",
       "      <td>11</td>\n",
       "      <td>0</td>\n",
       "      <td>0</td>\n",
       "      <td>0</td>\n",
       "    </tr>\n",
       "  </tbody>\n",
       "</table>\n",
       "<p>5 rows × 28 columns</p>\n",
       "</div>"
      ],
      "text/plain": [
       "             name  win/loss      method  body  body_attempts  clinch  \\\n",
       "0  Gerard Gordeau         1      KO/TKO     0              0       0   \n",
       "1    Kevin Rosier         1      KO/TKO     0             -2      -6   \n",
       "2    Royce Gracie         1  Submission     0              0       0   \n",
       "3    Ken Shamrock         1  Submission    -1             -1      -1   \n",
       "4  Gerard Gordeau         1      KO/TKO     1              0       0   \n",
       "\n",
       "   clinch_attempts  distance  distance_attempts  fight_id     ...       \\\n",
       "0                0         1                  2         0     ...        \n",
       "1              -10         4                  3         1     ...        \n",
       "2                0         0                  3         2     ...        \n",
       "3               -1        -1                 -1         3     ...        \n",
       "4                0         5                  5         4     ...        \n",
       "\n",
       "        referee  reversals  round  sig_attempts  sig_strikes  strike_attempts  \\\n",
       "0  Joao Barreto          0      1             4            3                4   \n",
       "1  Joao Barreto          0      1            -1            3               24   \n",
       "2  Joao Barreto          0      1             3            0                7   \n",
       "3  Joao Barreto          0      1            -7           -3              -16   \n",
       "4  Joao Barreto          0      1            14           11               14   \n",
       "\n",
       "   strikes  sub_attempts takedowns  td_attempts  \n",
       "0        3             0         0           -1  \n",
       "1       25             0         0            0  \n",
       "2        4             0         1            1  \n",
       "3      -12             2         1            2  \n",
       "4       11             0         0            0  \n",
       "\n",
       "[5 rows x 28 columns]"
      ]
     },
     "execution_count": 15,
     "metadata": {},
     "output_type": "execute_result"
    }
   ],
   "source": [
    "fight_winner.head()"
   ]
  },
  {
   "cell_type": "code",
   "execution_count": 16,
   "metadata": {
    "collapsed": false,
    "deletable": true,
    "editable": true
   },
   "outputs": [],
   "source": [
    "fight_diffs = pd.concat(\n",
    "    [fight_winner,fight_loser],\n",
    "    ignore_index=True\n",
    "    )"
   ]
  },
  {
   "cell_type": "markdown",
   "metadata": {
    "deletable": true,
    "editable": true
   },
   "source": [
    "## Variables\n",
    "\n"
   ]
  },
  {
   "cell_type": "markdown",
   "metadata": {
    "deletable": true,
    "editable": true
   },
   "source": [
    "### Heatmap\n",
    "\n",
    "Let's start off with a bird's eye view of the data. We'll use a heatmap to spot correlations and make quick inferences about the dataset before diving into the individual variables."
   ]
  },
  {
   "cell_type": "code",
   "execution_count": 17,
   "metadata": {
    "collapsed": false,
    "deletable": true,
    "editable": true
   },
   "outputs": [
    {
     "data": {
      "image/png": "[encoded data removed]",
      "text/plain": [
       "<matplotlib.figure.Figure at 0x110120290>"
      ]
     },
     "metadata": {},
     "output_type": "display_data"
    }
   ],
   "source": [
    "corrmat = fight_df.corr()\n",
    "plt.figure(figsize=(16,12))\n",
    "sns.heatmap(corrmat, square=True)\n",
    "plt.show()"
   ]
  },
  {
   "cell_type": "markdown",
   "metadata": {
    "deletable": true,
    "editable": true
   },
   "source": [
    "Wow, there appears to be a strong corrleation between every strike and strike attempt. Wayne Gretsky was right, \"You miss 100% of the shots you don't take.\" There are several other related variables scattered throughout the dataset. It seems significant attempts, head attempts and distance attempts are all closely related. Also of note is the relationship between the number of passes and the number of takedowns. Interestingly, the number of knowckdowns does not seem to be strongly correlated with any particular variable. There is a small connection between knockdowns, win/loss and head strikes.\n",
    "\n",
    "There does not appear to be a lot of negative correlations. The only small standouts are sub attempts to fight_id, knockdowns to takedown attempts and sub attempts to distance strikes. The last two make sense to a certain extent. If a a fighter is a good striker, they'd have little reason to try to take someone their opponent down and if they're they're a submission artist they would probably throw fewer distance strikes. The relationship between sub attempts and fight_id doesn't make as much sense to me right now. In the beginning, not many people were familiar with bjj so I would expect the number of submission attempts to grow over time. I'll have to take a closer look at that later."
   ]
  },
  {
   "cell_type": "markdown",
   "metadata": {
    "deletable": true,
    "editable": true
   },
   "source": [
    "Applying a log transform yields..."
   ]
  },
  {
   "cell_type": "code",
   "execution_count": 18,
   "metadata": {
    "collapsed": false,
    "deletable": true,
    "editable": true
   },
   "outputs": [],
   "source": [
    "fight_logs = fight_df.copy()\n",
    "fight_logs.loc[:, cols] = fight_df[cols] + 1\n",
    "fight_logs.loc[:, cols] = fight_logs[cols].apply(np.log)"
   ]
  },
  {
   "cell_type": "code",
   "execution_count": 19,
   "metadata": {
    "collapsed": false,
    "deletable": true,
    "editable": true
   },
   "outputs": [
    {
     "data": {
      "image/png": "[encoded data removed]",
      "text/plain": [
       "<matplotlib.figure.Figure at 0x1106d6290>"
      ]
     },
     "metadata": {},
     "output_type": "display_data"
    }
   ],
   "source": [
    "corrmat = fight_logs.drop(['fight_id', 'round'], axis=1).corr()\n",
    "plt.figure(figsize=(16,12))\n",
    "sns.heatmap(corrmat, square=True)\n",
    "plt.show()"
   ]
  },
  {
   "cell_type": "markdown",
   "metadata": {
    "deletable": true,
    "editable": true
   },
   "source": [
    "And creating a heatmap from the differences between each fighter yields..."
   ]
  },
  {
   "cell_type": "code",
   "execution_count": 20,
   "metadata": {
    "collapsed": false,
    "deletable": true,
    "editable": true
   },
   "outputs": [
    {
     "data": {
      "image/png": "[encoded data removed]",
      "text/plain": [
       "<matplotlib.figure.Figure at 0x115642b90>"
      ]
     },
     "metadata": {},
     "output_type": "display_data"
    }
   ],
   "source": [
    "corrmat = fight_diffs.drop(['fight_id', 'round'], axis=1).corr()\n",
    "plt.figure(figsize=(16,12))\n",
    "sns.heatmap(corrmat, square=True)\n",
    "plt.show()"
   ]
  },
  {
   "cell_type": "markdown",
   "metadata": {
    "deletable": true,
    "editable": true
   },
   "source": [
    "### Strike Targets"
   ]
  },
  {
   "cell_type": "markdown",
   "metadata": {
    "deletable": true,
    "editable": true
   },
   "source": [
    "I want to go through each of these variables to get a sense of each one. We'll use histograms, distribution plots, barplots, violin plots heatmaps, and more to get a better feel for the data."
   ]
  },
  {
   "cell_type": "markdown",
   "metadata": {
    "deletable": true,
    "editable": true
   },
   "source": [
    "#### Body\n",
    "\n",
    "First up is body strikes."
   ]
  },
  {
   "cell_type": "code",
   "execution_count": null,
   "metadata": {
    "collapsed": false,
    "deletable": true,
    "editable": true
   },
   "outputs": [],
   "source": [
    "fight_df.body.describe()"
   ]
  },
  {
   "cell_type": "code",
   "execution_count": null,
   "metadata": {
    "collapsed": false,
    "deletable": true,
    "editable": true
   },
   "outputs": [],
   "source": [
    "#upper_limit = np.percentile(fight_df['body'].values, 99)\n",
    "#fight_df.loc[fight_df.body>upper_limit, 'body'] = upper_limit\n",
    "plt.figure(figsize=(12,8))\n",
    "plt.hist(\n",
    "    'body',\n",
    "    data=fight_df[fight_df['win/loss']==1],\n",
    "    log=True,\n",
    "    bins=50,\n",
    "    alpha=.2,\n",
    "    color='b'\n",
    ")\n",
    "plt.hist(\n",
    "    'body',\n",
    "    data=fight_df[fight_df['win/loss']==0],\n",
    "    log=True,\n",
    "    bins=50,\n",
    "    alpha=.2,\n",
    "    color='r'\n",
    ")\n",
    "plt.xlabel('Body Strikes')\n",
    "plt.ylabel('Frequency')\n",
    "plt.show()"
   ]
  },
  {
   "cell_type": "markdown",
   "metadata": {
    "deletable": true,
    "editable": true
   },
   "source": [
    "It might make sense to plot the number of body strikes vs attempts since they may be correlated. Let's see what the data looks like."
   ]
  },
  {
   "cell_type": "code",
   "execution_count": null,
   "metadata": {
    "collapsed": false,
    "deletable": true,
    "editable": true
   },
   "outputs": [],
   "source": [
    "#upper_limit = np.percentile(fight_df['body'].values, 99)\n",
    "#fight_df.loc[fight_df.body>upper_limit, 'body'] = upper_limit\n",
    "plt.figure(figsize=(12,8))\n",
    "plt.hist(\n",
    "    'body',\n",
    "    data=fight_winner,\n",
    "    log=True,\n",
    "    bins=50,\n",
    "    alpha=.2,\n",
    "    color='b'\n",
    ")\n",
    "plt.hist(\n",
    "    'body',\n",
    "    data=fight_loser,\n",
    "    log=True,\n",
    "    bins=50,\n",
    "    alpha=.2,\n",
    "    color='r'\n",
    ")\n",
    "plt.xlabel('Body Strikes')\n",
    "plt.ylabel('Frequency')\n",
    "plt.show()"
   ]
  },
  {
   "cell_type": "code",
   "execution_count": null,
   "metadata": {
    "collapsed": false,
    "deletable": true,
    "editable": true
   },
   "outputs": [],
   "source": [
    "fight_df[fight_df.body>58]"
   ]
  },
  {
   "cell_type": "code",
   "execution_count": null,
   "metadata": {
    "collapsed": false,
    "deletable": true,
    "editable": true
   },
   "outputs": [],
   "source": [
    "#upper_limit = np.percentile(fight_df['body_attempts'].values, 99)\n",
    "#fight_df.loc[fight_df.body>upper_limit, 'body_attempts'] = upper_limit\n",
    "#plt.figure(figsize=(12,8))\n",
    "sns.lmplot('body_attempts', 'body', \n",
    "           data=fight_df, \n",
    "           scatter_kws={'alpha':.3},\n",
    "           hue='win/loss',\n",
    "           palette='Set1',\n",
    "           size=9, \n",
    "           aspect=1.3)\n",
    "plt.xlabel(\"Body Strike Attempts\")\n",
    "plt.ylabel(\"Body Strikes\")\n",
    "plt.show()"
   ]
  },
  {
   "cell_type": "code",
   "execution_count": null,
   "metadata": {
    "collapsed": false,
    "deletable": true,
    "editable": true
   },
   "outputs": [],
   "source": [
    "#upper_limit = np.percentile(fight_df['body_attempts'].values, 99)\n",
    "#fight_df.loc[fight_df.body>upper_limit, 'body_attempts'] = upper_limit\n",
    "#plt.figure(figsize=(12,8))\n",
    "sns.lmplot('body_attempts', 'body', \n",
    "           data=fight_diffs, \n",
    "           scatter_kws={'alpha':.3},\n",
    "           hue='win/loss',\n",
    "           palette='Set1',\n",
    "           size=9, \n",
    "           aspect=1.3)\n",
    "plt.xlabel(\"Body Strike Attempts\")\n",
    "plt.ylabel(\"Body Strikes\")\n",
    "plt.show()"
   ]
  },
  {
   "cell_type": "markdown",
   "metadata": {
    "deletable": true,
    "editable": true
   },
   "source": [
    "Body strikes and body strike attempts are definitely positively correlated. I'm guessing it'll be the same for the other categories. Let's take a look."
   ]
  },
  {
   "cell_type": "markdown",
   "metadata": {
    "deletable": true,
    "editable": true
   },
   "source": [
    "#### Head"
   ]
  },
  {
   "cell_type": "code",
   "execution_count": null,
   "metadata": {
    "collapsed": false,
    "deletable": true,
    "editable": true
   },
   "outputs": [],
   "source": [
    "fight_df['head'].describe()"
   ]
  },
  {
   "cell_type": "code",
   "execution_count": null,
   "metadata": {
    "collapsed": false,
    "deletable": true,
    "editable": true
   },
   "outputs": [],
   "source": [
    "plt.figure(figsize=(12,8))\n",
    "plt.hist(\n",
    "    'head',\n",
    "    data=fight_df[fight_df['win/loss']==1],\n",
    "    log=True,\n",
    "    bins=50,\n",
    "    alpha=.2,\n",
    "    color='b'\n",
    ")\n",
    "plt.hist(\n",
    "    'head',\n",
    "    data=fight_df[fight_df['win/loss']==0],\n",
    "    log=True,\n",
    "    bins=50,\n",
    "    alpha=.2,\n",
    "    color='r'\n",
    ")\n",
    "plt.xlabel('Head Strikes')\n",
    "plt.ylabel('Frequency')\n",
    "plt.show()"
   ]
  },
  {
   "cell_type": "code",
   "execution_count": null,
   "metadata": {
    "collapsed": false,
    "deletable": true,
    "editable": true
   },
   "outputs": [],
   "source": [
    "upper_landed = np.percentile(fight_df['head'].values, 99)\n",
    "#fight_df.loc[fight_df['head']>upper_landed, 'head'] = upper_landed\n",
    "upper_attempts = np.percentile(fight_df['head_attempts'].values, 99)\n",
    "#fight_df.loc[fight_df.head_attempts>upper_attempts, 'head_attempts'] = upper_attempts\n",
    "sns.jointplot(\n",
    "    'head_attempts', \n",
    "    'head', \n",
    "    data=fight_df[(fight_df['head']<upper_landed) & (fight_df.head_attempts<upper_attempts)], \n",
    "    size=9, \n",
    "    kind='hex',\n",
    "    color=color[3]\n",
    ")\n",
    "plt.show()"
   ]
  },
  {
   "cell_type": "code",
   "execution_count": null,
   "metadata": {
    "collapsed": false,
    "deletable": true,
    "editable": true
   },
   "outputs": [],
   "source": [
    "# plt.figure(figsize=(12,8))\n",
    "sns.lmplot(\n",
    "    'head_attempts',\n",
    "    'head',\n",
    "    data=fight_df,\n",
    "    hue='win/loss',\n",
    "    palette='Set1',\n",
    "    scatter_kws={'alpha':.3},\n",
    "    fit_reg=False,\n",
    "    size=9,\n",
    "    aspect=2\n",
    ")\n",
    "plt.show()"
   ]
  },
  {
   "cell_type": "code",
   "execution_count": null,
   "metadata": {
    "collapsed": false,
    "deletable": true,
    "editable": true
   },
   "outputs": [],
   "source": [
    "# plt.figure(figsize=(12,8))\n",
    "sns.lmplot(\n",
    "    'head_attempts',\n",
    "    'head',\n",
    "    data=fight_diffs,\n",
    "    hue='win/loss',\n",
    "    palette='Set1',\n",
    "    scatter_kws={'alpha':.3},\n",
    "    fit_reg=False,\n",
    "    size=9,\n",
    "    aspect=1.4\n",
    ")\n",
    "plt.show()"
   ]
  },
  {
   "cell_type": "markdown",
   "metadata": {
    "deletable": true,
    "editable": true
   },
   "source": [
    "#### Leg"
   ]
  },
  {
   "cell_type": "code",
   "execution_count": null,
   "metadata": {
    "collapsed": false,
    "deletable": true,
    "editable": true
   },
   "outputs": [],
   "source": [
    "fight_df.leg.describe()"
   ]
  },
  {
   "cell_type": "code",
   "execution_count": null,
   "metadata": {
    "collapsed": false,
    "deletable": true,
    "editable": true
   },
   "outputs": [],
   "source": [
    "plt.figure(figsize=(12,8))\n",
    "plt.hist(\n",
    "    'leg',\n",
    "    data=fight_df[fight_df['win/loss']==1],\n",
    "    log=True,\n",
    "    bins=50,\n",
    "    alpha=.2,\n",
    "    color='b'\n",
    ")\n",
    "plt.hist(\n",
    "    'leg',\n",
    "    data=fight_df[fight_df['win/loss']==0],\n",
    "    log=True,\n",
    "    bins=50,\n",
    "    alpha=.2,\n",
    "    color='r'\n",
    ")\n",
    "plt.xlabel('Leg Strikes')\n",
    "plt.ylabel('log(Frequency)')\n",
    "plt.show()"
   ]
  },
  {
   "cell_type": "code",
   "execution_count": null,
   "metadata": {
    "collapsed": false,
    "deletable": true,
    "editable": true
   },
   "outputs": [],
   "source": [
    "sns.jointplot('leg_attempts', 'leg', data=fight_df, size=9, alpha=.2, color=color[3])\n",
    "plt.show()"
   ]
  },
  {
   "cell_type": "code",
   "execution_count": null,
   "metadata": {
    "collapsed": false,
    "deletable": true,
    "editable": true
   },
   "outputs": [],
   "source": [
    "sns.lmplot(\n",
    "    'leg_attempts',\n",
    "    'leg',\n",
    "    data=fight_diffs,\n",
    "    hue='win/loss',\n",
    "    palette='Set1',\n",
    "    scatter_kws={'alpha':.3},\n",
    "#     fit_reg=False,\n",
    "    size=9,\n",
    "    aspect=1.3\n",
    ")\n",
    "plt.show()"
   ]
  },
  {
   "cell_type": "markdown",
   "metadata": {
    "deletable": true,
    "editable": true
   },
   "source": [
    "### Strike Types"
   ]
  },
  {
   "cell_type": "markdown",
   "metadata": {
    "deletable": true,
    "editable": true
   },
   "source": [
    "#### Ground and Pound\n",
    "\n",
    "Let's take a look at the number of ground strikes attempted and landed across the distribution."
   ]
  },
  {
   "cell_type": "code",
   "execution_count": null,
   "metadata": {
    "collapsed": false,
    "deletable": true,
    "editable": true
   },
   "outputs": [],
   "source": [
    "fight_df.ground.describe()"
   ]
  },
  {
   "cell_type": "code",
   "execution_count": null,
   "metadata": {
    "collapsed": false,
    "deletable": true,
    "editable": true
   },
   "outputs": [],
   "source": [
    "plt.figure(figsize=(12,8))\n",
    "plt.hist(\n",
    "    'ground',\n",
    "    data=fight_df[fight_df['win/loss']==1],\n",
    "    log=True,\n",
    "    bins=50,\n",
    "    alpha=.2,\n",
    "    color='b'\n",
    ")\n",
    "plt.hist(\n",
    "    'ground',\n",
    "    data=fight_df[fight_df['win/loss']==0],\n",
    "    log=True,\n",
    "    bins=50,\n",
    "    alpha=.2,\n",
    "    color='r'\n",
    ")\n",
    "plt.xlabel('Ground and Pound')\n",
    "plt.ylabel('log(Frequency)')\n",
    "plt.show()"
   ]
  },
  {
   "cell_type": "code",
   "execution_count": null,
   "metadata": {
    "collapsed": false,
    "deletable": true,
    "editable": true
   },
   "outputs": [],
   "source": [
    "temp_df = fight_df[['ground_attempts', 'ground']]\n",
    "sns.jointplot(temp_df.ground_attempts, temp_df.ground, size=9, alpha=.1, color=color[3])\n",
    "plt.show()"
   ]
  },
  {
   "cell_type": "code",
   "execution_count": null,
   "metadata": {
    "collapsed": false,
    "deletable": true,
    "editable": true
   },
   "outputs": [],
   "source": [
    "sns.lmplot(\n",
    "    'ground_attempts',\n",
    "    'ground',\n",
    "    data=fight_diffs,\n",
    "    hue='win/loss',\n",
    "    palette='Set1',\n",
    "    scatter_kws={'alpha':.3},\n",
    "    fit_reg=False,\n",
    "    size=9,\n",
    "    aspect=1.5\n",
    ")\n",
    "plt.show()"
   ]
  },
  {
   "cell_type": "markdown",
   "metadata": {
    "deletable": true,
    "editable": true
   },
   "source": [
    "#### Distance"
   ]
  },
  {
   "cell_type": "code",
   "execution_count": null,
   "metadata": {
    "collapsed": false,
    "deletable": true,
    "editable": true
   },
   "outputs": [],
   "source": [
    "fight_df.distance.describe()"
   ]
  },
  {
   "cell_type": "markdown",
   "metadata": {
    "deletable": true,
    "editable": true
   },
   "source": [
    "That's quite a range! The mean is 19 but someone landed 228 strikes from distance. I would not want to be on the receiving end of that. Let's take a look at how the distance strikes landed line up with the distance strike attempts."
   ]
  },
  {
   "cell_type": "code",
   "execution_count": null,
   "metadata": {
    "collapsed": false,
    "deletable": true,
    "editable": true,
    "scrolled": false
   },
   "outputs": [],
   "source": [
    "upper_landed = np.percentile(fight_df['distance'].values, 99)\n",
    "# fight_df.loc[fight_df.distance>upper_landed, 'distance'] = upper_landed\n",
    "upper_attempts = np.percentile(fight_df['distance_attempts'].values, 99)\n",
    "# fight_df.loc[fight_df.distance_attempts>upper_attempts, 'distance_attempts'] = upper_attempts\n",
    "sns.jointplot(\n",
    "    'distance_attempts', \n",
    "    'distance', \n",
    "    data=fight_df[(fight_df.distance<upper_landed)&(fight_df.distance_attempts<upper_attempts)], \n",
    "    kind='hex', \n",
    "    size=9, \n",
    "    color='r'\n",
    ")\n",
    "plt.show()"
   ]
  },
  {
   "cell_type": "code",
   "execution_count": null,
   "metadata": {
    "collapsed": false,
    "deletable": true,
    "editable": true
   },
   "outputs": [],
   "source": [
    "sns.lmplot(\n",
    "    'distance_attempts',\n",
    "    'distance',\n",
    "    data=fight_diffs,\n",
    "    hue='win/loss',\n",
    "    palette='Set1',\n",
    "    scatter_kws={'alpha':.3},\n",
    "    fit_reg=False,\n",
    "    size=9,\n",
    "    aspect=1.5\n",
    ")\n",
    "plt.show()"
   ]
  },
  {
   "cell_type": "markdown",
   "metadata": {
    "deletable": true,
    "editable": true
   },
   "source": [
    "#### Clinch"
   ]
  },
  {
   "cell_type": "code",
   "execution_count": null,
   "metadata": {
    "collapsed": false,
    "deletable": true,
    "editable": true
   },
   "outputs": [],
   "source": [
    "fight_df.clinch.describe()"
   ]
  },
  {
   "cell_type": "code",
   "execution_count": null,
   "metadata": {
    "collapsed": false,
    "deletable": true,
    "editable": true,
    "scrolled": false
   },
   "outputs": [],
   "source": [
    "plt.figure(figsize=(12,8))\n",
    "plt.hist(\n",
    "    'clinch',\n",
    "    data=fight_df[fight_df['win/loss']==1],\n",
    "    log=True,\n",
    "    bins=50,\n",
    "    alpha=.2,\n",
    "    color='b'\n",
    ")\n",
    "plt.hist(\n",
    "    'clinch',\n",
    "    data=fight_df[fight_df['win/loss']==0],\n",
    "    log=True,\n",
    "    bins=50,\n",
    "    alpha=.2,\n",
    "    color='r'\n",
    ")\n",
    "plt.xlabel('Clinch')\n",
    "plt.ylabel('log(Frequency)')\n",
    "plt.show()"
   ]
  },
  {
   "cell_type": "markdown",
   "metadata": {
    "deletable": true,
    "editable": true
   },
   "source": [
    "The distribution of successful clinch strikes is highly right-skewed, which makes it a good candidate for a log scale. Plotting clinch attempts vs clinch strikes shows that the data is highly correlated as well. With an r-value of .97, we can see that the number of clinch strikes highly depends on the number of attempts."
   ]
  },
  {
   "cell_type": "code",
   "execution_count": null,
   "metadata": {
    "collapsed": false,
    "deletable": true,
    "editable": true
   },
   "outputs": [],
   "source": [
    "sns.jointplot('clinch_attempts', 'clinch', data=fight_df, alpha=.1, size=9, color='r')\n",
    "plt.show()"
   ]
  },
  {
   "cell_type": "code",
   "execution_count": null,
   "metadata": {
    "collapsed": false,
    "deletable": true,
    "editable": true
   },
   "outputs": [],
   "source": [
    "sns.lmplot(\n",
    "    'clinch_attempts',\n",
    "    'clinch',\n",
    "    data=fight_diffs,\n",
    "    hue='win/loss',\n",
    "    palette='Set1',\n",
    "    scatter_kws={'alpha':.3},\n",
    "    fit_reg=False,\n",
    "    size=9,\n",
    "    aspect=1.2\n",
    ")\n",
    "plt.show()"
   ]
  },
  {
   "cell_type": "markdown",
   "metadata": {
    "deletable": true,
    "editable": true
   },
   "source": [
    "#### Significant Strikes"
   ]
  },
  {
   "cell_type": "code",
   "execution_count": null,
   "metadata": {
    "collapsed": false,
    "deletable": true,
    "editable": true
   },
   "outputs": [],
   "source": [
    "fight_df.sig_strikes.describe()"
   ]
  },
  {
   "cell_type": "code",
   "execution_count": null,
   "metadata": {
    "collapsed": false,
    "deletable": true,
    "editable": true
   },
   "outputs": [],
   "source": [
    "plt.figure(figsize=(12,8))\n",
    "plt.hist(\n",
    "    'sig_strikes',\n",
    "    data=fight_df[fight_df['win/loss']==1],\n",
    "    log=True,\n",
    "    bins=50,\n",
    "    alpha=.2,\n",
    "    color='b'\n",
    ")\n",
    "plt.hist(\n",
    "    'sig_strikes',\n",
    "    data=fight_df[fight_df['win/loss']==0],\n",
    "    log=True,\n",
    "    bins=50,\n",
    "    alpha=.2,\n",
    "    color='r'\n",
    ")\n",
    "plt.xlabel('Significant Strikes')\n",
    "plt.ylabel('Frequency')\n",
    "plt.show()"
   ]
  },
  {
   "cell_type": "code",
   "execution_count": null,
   "metadata": {
    "collapsed": false,
    "deletable": true,
    "editable": true
   },
   "outputs": [],
   "source": [
    "plt.figure(figsize=(12,8))\n",
    "plt.hist(\n",
    "    'sig_strikes',\n",
    "    data=fight_winner,\n",
    "    #log=True,\n",
    "    bins=50,\n",
    "    alpha=.2,\n",
    "    color='b'\n",
    ")\n",
    "plt.hist(\n",
    "    'sig_strikes',\n",
    "    data=fight_loser,\n",
    "    #log=True,\n",
    "    bins=50,\n",
    "    alpha=.2,\n",
    "    color='r'\n",
    ")\n",
    "plt.xlabel('Significant Strikes')\n",
    "plt.ylabel('Frequency')\n",
    "plt.show()"
   ]
  },
  {
   "cell_type": "code",
   "execution_count": null,
   "metadata": {
    "collapsed": false,
    "deletable": true,
    "editable": true
   },
   "outputs": [],
   "source": [
    "upper_landed = np.percentile(fight_df['sig_strikes'].values, 99)\n",
    "# fight_df.loc[fight_df['sig_strikes']>upper_landed, 'sig_strikes'] = upper_landed\n",
    "upper_attempts = np.percentile(fight_df['sig_attempts'].values, 99)\n",
    "# fight_df.loc[fight_df.sig_attempts>upper_attempts, 'sig_attempts'] = upper_attempts\n",
    "sns.jointplot(\n",
    "    'sig_attempts', \n",
    "    'sig_strikes', \n",
    "    data=fight_df[(fight_df.sig_strikes<upper_landed)&(fight_df.sig_attempts<upper_attempts)], \n",
    "    size=9, \n",
    "    kind='hex', \n",
    "    color='r')\n",
    "plt.show()"
   ]
  },
  {
   "cell_type": "code",
   "execution_count": null,
   "metadata": {
    "collapsed": false,
    "deletable": true,
    "editable": true
   },
   "outputs": [],
   "source": [
    "sns.lmplot(\n",
    "    'sig_attempts',\n",
    "    'sig_strikes',\n",
    "    data=fight_diffs,\n",
    "    hue='win/loss',\n",
    "    palette='Set1',\n",
    "    scatter_kws={'alpha':.3},\n",
    "    fit_reg=False,\n",
    "    size=9,\n",
    "    aspect=1.5\n",
    ")\n",
    "plt.show()"
   ]
  },
  {
   "cell_type": "markdown",
   "metadata": {
    "deletable": true,
    "editable": true
   },
   "source": [
    "#### Overall Strikes"
   ]
  },
  {
   "cell_type": "code",
   "execution_count": null,
   "metadata": {
    "collapsed": false,
    "deletable": true,
    "editable": true
   },
   "outputs": [],
   "source": [
    "fight_df.strikes.describe()"
   ]
  },
  {
   "cell_type": "code",
   "execution_count": null,
   "metadata": {
    "collapsed": false,
    "deletable": true,
    "editable": true
   },
   "outputs": [],
   "source": [
    "plt.figure(figsize=(12,8))\n",
    "plt.hist(\n",
    "    'strikes',\n",
    "    data=fight_df[fight_df['win/loss']==1],\n",
    "    log=True,\n",
    "    bins=50,\n",
    "    alpha=.2,\n",
    "    color='b'\n",
    ")\n",
    "plt.hist(\n",
    "    'strikes',\n",
    "    data=fight_df[fight_df['win/loss']==0],\n",
    "    log=True,\n",
    "    bins=50,\n",
    "    alpha=.2,\n",
    "    color='r'\n",
    ")\n",
    "plt.xlabel('Strikes')\n",
    "plt.ylabel('Frequency')\n",
    "plt.show()"
   ]
  },
  {
   "cell_type": "code",
   "execution_count": null,
   "metadata": {
    "collapsed": false,
    "deletable": true,
    "editable": true
   },
   "outputs": [],
   "source": [
    "upper_landed = np.percentile(fight_df['strikes'].values, 99)\n",
    "# fight_df.loc[fight_df['strikes']>upper_landed, 'strikes'] = upper_landed\n",
    "upper_attempts = np.percentile(fight_df['strike_attempts'].values, 99)\n",
    "# fight_df.loc[fight_df.strike_attempts>upper_attempts, 'strike_attempts'] = upper_attempts\n",
    "sns.jointplot(\n",
    "    'strike_attempts', \n",
    "    'strikes', \n",
    "    data=fight_df[(fight_df.strikes<upper_landed)&(fight_df.strike_attempts<upper_attempts)], \n",
    "    size=9, \n",
    "    kind='hex', \n",
    "    color='r')\n",
    "plt.show()"
   ]
  },
  {
   "cell_type": "code",
   "execution_count": null,
   "metadata": {
    "collapsed": false,
    "deletable": true,
    "editable": true
   },
   "outputs": [],
   "source": [
    "plt.figure(figsize=(12,8))\n",
    "plt.hist(\n",
    "    'strikes',\n",
    "    data=fight_winner,\n",
    "    log=True,\n",
    "    bins=50,\n",
    "    alpha=.2,\n",
    "    color='b'\n",
    ")\n",
    "plt.hist(\n",
    "    'strikes',\n",
    "    data=fight_loser,\n",
    "    log=True,\n",
    "    bins=50,\n",
    "    alpha=.2,\n",
    "    color='r'\n",
    ")\n",
    "plt.xlabel('Strikes')\n",
    "plt.ylabel('Frequency')\n",
    "plt.show()"
   ]
  },
  {
   "cell_type": "code",
   "execution_count": null,
   "metadata": {
    "collapsed": false,
    "deletable": true,
    "editable": true
   },
   "outputs": [],
   "source": [
    "sns.lmplot(\n",
    "    'strike_attempts',\n",
    "    'strikes',\n",
    "    data=fight_diffs,\n",
    "    hue='win/loss',\n",
    "    palette='Set1',\n",
    "    scatter_kws={'alpha':.3},\n",
    "    fit_reg=False,\n",
    "    size=9,\n",
    "    aspect=1.2\n",
    ")\n",
    "plt.show()"
   ]
  },
  {
   "cell_type": "markdown",
   "metadata": {
    "deletable": true,
    "editable": true
   },
   "source": [
    "### Grappling"
   ]
  },
  {
   "cell_type": "markdown",
   "metadata": {
    "deletable": true,
    "editable": true
   },
   "source": [
    "#### Submissions\n",
    "\n",
    "This variable will require a bit of reworking. The submission variable is binary, while the submissions attempted is discrete. That makes sense of course, becaues you can't submit someone more than once in a match by definition (unless you count twitter wars). So for this aspect, let's take at the distribution of submissions attempts vs the method used. My theory is that submission attempts are higher in fights that end that way, but let's take a look at the data!"
   ]
  },
  {
   "cell_type": "code",
   "execution_count": null,
   "metadata": {
    "collapsed": false,
    "deletable": true,
    "editable": true
   },
   "outputs": [],
   "source": [
    "upper_attempts = np.percentile(fight_df.sub_attempts, 99)\n",
    "plt.figure(figsize=(12,8))\n",
    "sns.violinplot(\n",
    "    x=\"method\", \n",
    "    y=\"sub_attempts\", \n",
    "    data=fight_df[(fight_df.sub_attempts<upper_attempts)])\n",
    "plt.show()"
   ]
  },
  {
   "cell_type": "markdown",
   "metadata": {
    "deletable": true,
    "editable": true
   },
   "source": [
    "What an interesting distribution! And just as expected, fights that end in submission have a higher percentage of submisssion attempts greater than zero. Interestingly, fights that end in decision aren't heavy on submission attempts. This could be due to the nature of how fights are scored overall since submission attempts do not give a fighter as many points as strikes.\n",
    "\n",
    "Another thing that jumped out at me is the number of submission wins with zero submission attempts. I would expect that every fight that ends in submission contained at least one submission attempt, but I'm guessing they count submission due to strikes as well."
   ]
  },
  {
   "cell_type": "markdown",
   "metadata": {
    "deletable": true,
    "editable": true
   },
   "source": [
    "#### Passes"
   ]
  },
  {
   "cell_type": "code",
   "execution_count": null,
   "metadata": {
    "collapsed": false,
    "deletable": true,
    "editable": true
   },
   "outputs": [],
   "source": [
    "w_counts = fight_df.loc[fight_df['win/loss']==1,'pass'].value_counts()\n",
    "l_counts = fight_df.loc[fight_df['win/loss']==0,'pass'].value_counts()\n",
    "plt.figure(figsize=(12,8))\n",
    "plt.bar(\n",
    "    w_counts.index,\n",
    "    w_counts.values,\n",
    "    alpha=.3,\n",
    "    color='b'\n",
    ")\n",
    "plt.bar(\n",
    "    l_counts.index,\n",
    "    l_counts.values,\n",
    "    alpha=.3,\n",
    "    color='r'\n",
    ")\n",
    "plt.xlabel('Passes')\n",
    "plt.ylabel('Frequency')\n",
    "'''\n",
    "for x,y in zip(counts.index, counts.values):\n",
    "    plt.text(x, y, y, ha='center', va='bottom')\n",
    "'''\n",
    "plt.show()"
   ]
  },
  {
   "cell_type": "markdown",
   "metadata": {
    "deletable": true,
    "editable": true
   },
   "source": [
    "#### Reversals"
   ]
  },
  {
   "cell_type": "code",
   "execution_count": null,
   "metadata": {
    "collapsed": false,
    "deletable": true,
    "editable": true
   },
   "outputs": [],
   "source": [
    "w_counts = fight_df.loc[fight_df['win/loss']==1,'reversals'].value_counts()\n",
    "l_counts = fight_df.loc[fight_df['win/loss']==0,'reversals'].value_counts()\n",
    "plt.figure(figsize=(12,8))\n",
    "plt.bar(\n",
    "    w_counts.index,\n",
    "    w_counts.values,\n",
    "    alpha=.3,\n",
    "    color='b'\n",
    ")\n",
    "plt.bar(\n",
    "    l_counts.index,\n",
    "    l_counts.values,\n",
    "    alpha=.3,\n",
    "    color='r'\n",
    ")\n",
    "plt.xlabel('Reversals')\n",
    "plt.ylabel('Frequency')\n",
    "'''\n",
    "for x,y in zip(counts.index, counts.values):\n",
    "    plt.text(x, y, y, ha='center', va='bottom')\n",
    "'''\n",
    "plt.show()"
   ]
  },
  {
   "cell_type": "markdown",
   "metadata": {
    "deletable": true,
    "editable": true
   },
   "source": [
    "#### Takedowns"
   ]
  },
  {
   "cell_type": "code",
   "execution_count": null,
   "metadata": {
    "collapsed": false,
    "deletable": true,
    "editable": true
   },
   "outputs": [],
   "source": [
    "w_counts = fight_df.loc[fight_df['win/loss']==1,'takedowns'].value_counts()\n",
    "l_counts = fight_df.loc[fight_df['win/loss']==0,'takedowns'].value_counts()\n",
    "plt.figure(figsize=(12,8))\n",
    "plt.bar(\n",
    "    w_counts.index,\n",
    "    w_counts.values,\n",
    "    alpha=.3,\n",
    "    color='b'\n",
    ")\n",
    "plt.bar(\n",
    "    l_counts.index,\n",
    "    l_counts.values,\n",
    "    alpha=.3,\n",
    "    color='r'\n",
    ")\n",
    "plt.xlabel('Takedowns')\n",
    "plt.ylabel('Frequency')\n",
    "plt.show()"
   ]
  },
  {
   "cell_type": "code",
   "execution_count": null,
   "metadata": {
    "collapsed": false,
    "deletable": true,
    "editable": true
   },
   "outputs": [],
   "source": [
    "upper_landed = np.percentile(fight_df['takedowns'].values, 99)\n",
    "upper_attempts = np.percentile(fight_df['td_attempts'].values, 99)\n",
    "sns.jointplot(\n",
    "    'td_attempts', \n",
    "    'takedowns', \n",
    "#     data=fight_df[(fight_df.takedowns<=upper_landed)&(fight_df.td_attempts<=upper_attempts)],\n",
    "    data=fight_df,\n",
    "    size=9,\n",
    "    alpha=.1,\n",
    "    color=color[1])\n",
    "#     kind='hex',\n",
    "#     marginal_kws={'bins':50})\n",
    "plt.show()"
   ]
  },
  {
   "cell_type": "markdown",
   "metadata": {
    "deletable": true,
    "editable": true
   },
   "source": [
    "### Knockdowns"
   ]
  },
  {
   "cell_type": "code",
   "execution_count": null,
   "metadata": {
    "collapsed": false,
    "deletable": true,
    "editable": true
   },
   "outputs": [],
   "source": [
    "w_counts = fight_df.loc[fight_df['win/loss']==1,'knockdowns'].value_counts()\n",
    "l_counts = fight_df.loc[fight_df['win/loss']==0,'knockdowns'].value_counts()\n",
    "plt.figure(figsize=(12,8))\n",
    "plt.bar(\n",
    "    w_counts.index,\n",
    "    w_counts.values,\n",
    "    alpha=.3,\n",
    "    color='b'\n",
    ")\n",
    "plt.bar(\n",
    "    l_counts.index,\n",
    "    l_counts.values,\n",
    "    alpha=.3,\n",
    "    color='r'\n",
    ")\n",
    "plt.xlabel('Knockdowns')\n",
    "plt.ylabel('Frequency')\n",
    "plt.show()"
   ]
  },
  {
   "cell_type": "markdown",
   "metadata": {
    "deletable": true,
    "editable": true
   },
   "source": [
    "### Referees and Fighters"
   ]
  },
  {
   "cell_type": "code",
   "execution_count": 21,
   "metadata": {
    "collapsed": false,
    "deletable": true,
    "editable": true
   },
   "outputs": [
    {
     "data": {
      "image/png": "[encoded data removed]",
      "text/plain": [
       "<matplotlib.figure.Figure at 0x1160c7cd0>"
      ]
     },
     "metadata": {},
     "output_type": "display_data"
    }
   ],
   "source": [
    "def grey_color_func(word, font_size, position, orientation, random_state=None,\n",
    "                    **kwargs):\n",
    "    return \"hsl(0, 100%, {}%)\".format(random.randint(25, 50))\n",
    "\n",
    "# Extract referee text from fight_df\n",
    "text = \" \".join(\"_\".join(ref.split()) for ref in fight_df[fight_df.referee.notnull()].referee.tolist())\n",
    "\n",
    "# read the mask image\n",
    "ufc_mask = np.array(Image.open(\"images/UFC_Logo.png\"))\n",
    "\n",
    "wc = WordCloud(background_color=\"white\", mask=ufc_mask, random_state=42)\n",
    "# generate word cloud\n",
    "wc.generate(text)\n",
    "\n",
    "wc.recolor(color_func=grey_color_func, random_state=3)\n",
    "\n",
    "# store to file\n",
    "wc.to_file(\"images/ufc_red_wordcloud.png\")\n",
    "\n",
    "# show\n",
    "plt.figure(figsize=(12,8))\n",
    "plt.imshow(wc, interpolation='bilinear')\n",
    "plt.axis(\"off\")\n",
    "plt.show()"
   ]
  },
  {
   "cell_type": "code",
   "execution_count": 22,
   "metadata": {
    "collapsed": false,
    "deletable": true,
    "editable": true
   },
   "outputs": [
    {
     "data": {
      "image/png": "[encoded data removed]",
      "text/plain": [
       "<matplotlib.figure.Figure at 0x103e6a610>"
      ]
     },
     "metadata": {},
     "output_type": "display_data"
    }
   ],
   "source": [
    "def custom_color_func(word, font_size, position, orientation, random_state=None,\n",
    "                    **kwargs):\n",
    "    return \"hsl(0, 100%, {}%)\".format(random.randint(25, 50))\n",
    "\n",
    "# Extract referee text from fight_df\n",
    "text = \" \".join(\"_\".join(fighter.split()) for fighter in fight_df[fight_df.name.notnull()].name.tolist())\n",
    "\n",
    "# read the mask image\n",
    "fighter_mask = np.array(Image.open(\"images/shadowboxing.jpg\"))\n",
    "\n",
    "\n",
    "wc = WordCloud(max_words=1000, background_color=\"white\", mask=fighter_mask, random_state=1)\n",
    "# generate word cloud\n",
    "wc.generate(text)\n",
    "\n",
    "wc.recolor(color_func=custom_color_func, random_state=3)\n",
    "\n",
    "# store to file\n",
    "wc.to_file(\"images/ufc_fighter_red_wordcloud.png\")\n",
    "\n",
    "# show\n",
    "plt.figure(figsize=(14,12))\n",
    "plt.imshow(wc.recolor(color_func=custom_color_func, random_state=3), interpolation='bilinear')\n",
    "plt.axis(\"off\")\n",
    "plt.show()"
   ]
  },
  {
   "cell_type": "markdown",
   "metadata": {
    "deletable": true,
    "editable": true
   },
   "source": [
    "### Rounds\n",
    "\n",
    "Finally, let's see how the rounds are distributed. A fight can end in any round, but the maximum number of rounds for each fight depends on whether it's a title fight. Title fights are 5 rounds long while non-title fights are 3 rounds long."
   ]
  },
  {
   "cell_type": "code",
   "execution_count": null,
   "metadata": {
    "collapsed": false,
    "deletable": true,
    "editable": true
   },
   "outputs": [],
   "source": [
    "counts = fight_df['round'].value_counts()\n",
    "plt.figure(figsize=(12,8))\n",
    "plt.bar(counts.index, counts.values, alpha=.7, color='g')\n",
    "plt.xlabel('Round')\n",
    "plt.ylabel('Frequency')\n",
    "for x,y in zip(counts.index, counts.values):\n",
    "    plt.text(x, y, y, ha='center', va='bottom')\n",
    "plt.show()"
   ]
  },
  {
   "cell_type": "markdown",
   "metadata": {
    "deletable": true,
    "editable": true
   },
   "source": [
    "Very interesting. The most frequent fight length was 3 rounds while the least frequent was 4. This tells me that most fights probably go to a decision rather than KO or submission. Let's take a look at the data!"
   ]
  },
  {
   "cell_type": "markdown",
   "metadata": {
    "deletable": true,
    "editable": true
   },
   "source": [
    "### Method"
   ]
  },
  {
   "cell_type": "code",
   "execution_count": null,
   "metadata": {
    "collapsed": false,
    "deletable": true,
    "editable": true
   },
   "outputs": [],
   "source": [
    "fight_df['method'].value_counts()"
   ]
  },
  {
   "cell_type": "markdown",
   "metadata": {
    "deletable": true,
    "editable": true
   },
   "source": [
    "The first thing that jumps out at me is the \"Could\" category. I have no idea what that represents. I'm guessing it's a typo but I'll have to do some research to see what's going on there. I'll also check out what the \"Other\" category might represent.\n",
    "\n",
    "Most fights end in either Decision, KO/TKO or Submission. The categories below that are in such small quantities that I'd call them outliers to be removed. There's no way to predict whether a fight will be overturned or whether a fighter will get DQ'd, so it makes no sense to include those categories.\n",
    "\n",
    "I wonder why they separated KO/TKO and TKO into two separate groups? That seems worth researching to see if maybe we can consolidate the two categories."
   ]
  },
  {
   "cell_type": "code",
   "execution_count": null,
   "metadata": {
    "collapsed": false,
    "deletable": true,
    "editable": true
   },
   "outputs": [],
   "source": [
    "fight_df[fight_df.method=='Could'].iloc[-10:, :5]"
   ]
  },
  {
   "cell_type": "code",
   "execution_count": null,
   "metadata": {
    "collapsed": false,
    "deletable": true,
    "editable": true
   },
   "outputs": [],
   "source": [
    "fight_df[fight_df.method=='Other'].iloc[:, :5]"
   ]
  },
  {
   "cell_type": "code",
   "execution_count": null,
   "metadata": {
    "collapsed": false,
    "deletable": true,
    "editable": true
   },
   "outputs": [],
   "source": [
    "fight_df[fight_df.method=='TKO'].iloc[-10:, :5]"
   ]
  },
  {
   "cell_type": "markdown",
   "metadata": {
    "deletable": true,
    "editable": true
   },
   "source": [
    "After doing a little market research and totally not wasting time by watching UFC fights, it looks like the \"Could\" category stands for no contest, \"Other\" stands for draws and \"TKO\" stands for fights where one fighter could not continue due to injury. Each of these scenarios present different challenges. Before going further, let's change \"Could\" to \"No Contest\", \"Other\" to \"Draw\" and change TKO to \"Injury\"."
   ]
  },
  {
   "cell_type": "code",
   "execution_count": null,
   "metadata": {
    "collapsed": true,
    "deletable": true,
    "editable": true
   },
   "outputs": [],
   "source": [
    "fight_df.loc[fight_df.method=='Could', 'method'] = \"No Contest\"\n",
    "fight_df.loc[fight_df.method=='TKO', \"method\"] = \"Injury\"\n",
    "fight_df.loc[fight_df.method=='Other', \"method\"] = \"Draw\""
   ]
  },
  {
   "cell_type": "markdown",
   "metadata": {
    "deletable": true,
    "editable": true
   },
   "source": [
    "Fights that stop due to injury are usually fights in which one fighter has been beating his opponent so badly, they had to stop the fight because the opponent couldn't continue. I'll probably do some more market research later, but right now I see that as a win. The goal is to beat up the other fighter, so mission accomplished. I don't know if I'll combine that category with TKO/KO's, but it's a valid win.\n",
    "\n",
    "No contests and draws, however are a different story. Neither one demonstrates that one side dominated the other and in many cases they are the result of luck. Because of this, they will most likely be dropped from the dataset before building any models."
   ]
  },
  {
   "cell_type": "code",
   "execution_count": null,
   "metadata": {
    "collapsed": false,
    "deletable": true,
    "editable": true
   },
   "outputs": [],
   "source": [
    "counts = fight_df['method'].value_counts()\n",
    "plt.figure(figsize=(12,8))\n",
    "plt.bar(range(len(counts.index)), counts.values, alpha=.7)\n",
    "plt.xlabel('Method')\n",
    "plt.ylabel('Frequency')\n",
    "plt.xticks(range(len(counts.index)), counts.index)\n",
    "for x,y in zip(range(len(counts.index)), counts.values):\n",
    "    plt.text(x, y, y, ha='center', va='bottom')\n",
    "plt.show()"
   ]
  },
  {
   "cell_type": "markdown",
   "metadata": {
    "_cell_guid": "e4fc5eb1-bce1-4cc2-8ce2-4c672e23abfb",
    "_uuid": "60b14f9a264e3e970ebf1c578354677049a4d6e2",
    "deletable": true,
    "editable": true
   },
   "source": [
    "## Data Cleaning\n",
    "\n",
    "The first step in data cleaning is to remove obvious outliers and columns that will not contribute to the model. One starting point is narrowing down the fights to just Decisions, TKO/KOs and submissions, excluding the minor categories. No contests are nearly impossible to predict as are draws, so it doesn't make sense to account for them. Here's a list of ideas so far:\n",
    "\n",
    "1. Drop no contests, DQ's, draws, etc\n",
    "2. Create accuracy percentages where appropriate\n",
    "3. Keep a running tally of each fighter's record (wins/losses)"
   ]
  },
  {
   "cell_type": "markdown",
   "metadata": {
    "deletable": true,
    "editable": true
   },
   "source": [
    "### Dropping No Contests, DQ's, etc"
   ]
  },
  {
   "cell_type": "code",
   "execution_count": null,
   "metadata": {
    "_cell_guid": "fdd943bf-0a43-48e8-97ca-39e8d0d1244c",
    "_execution_state": "idle",
    "_uuid": "23ac3e73a2c898d4a95c8545bc6bb5e1900e0af5",
    "collapsed": false,
    "deletable": true,
    "editable": true,
    "scrolled": true
   },
   "outputs": [],
   "source": [
    "unwanted = ['Overturned', 'No Contest', 'DQ', 'Draw']\n",
    "for val in unwanted:\n",
    "    fight_df = fight_df[fight_df['method']!=val]"
   ]
  },
  {
   "cell_type": "code",
   "execution_count": null,
   "metadata": {
    "_cell_guid": "54be1239-9bb7-4c10-b70c-3c36f0eed4bd",
    "_execution_state": "idle",
    "_uuid": "2c95c96b0230a9fb5b5a01fd9ada7da5f01e288a",
    "collapsed": false,
    "deletable": true,
    "editable": true
   },
   "outputs": [],
   "source": [
    "fight_df['method'].value_counts()"
   ]
  },
  {
   "cell_type": "markdown",
   "metadata": {
    "deletable": true,
    "editable": true
   },
   "source": []
  },
  {
   "cell_type": "markdown",
   "metadata": {
    "collapsed": false,
    "deletable": true,
    "editable": true
   },
   "source": [
    "### Checking for NaN's"
   ]
  },
  {
   "cell_type": "code",
   "execution_count": null,
   "metadata": {
    "collapsed": false,
    "deletable": true,
    "editable": true
   },
   "outputs": [],
   "source": [
    "fight_diffs[fight_diffs.isnull().any(axis=1)]"
   ]
  },
  {
   "cell_type": "code",
   "execution_count": null,
   "metadata": {
    "collapsed": true,
    "deletable": true,
    "editable": true
   },
   "outputs": [],
   "source": [
    "fight_diffs[fight_diffs.isnull().any(axis=1)]"
   ]
  },
  {
   "cell_type": "markdown",
   "metadata": {
    "deletable": true,
    "editable": true
   },
   "source": []
  },
  {
   "cell_type": "code",
   "execution_count": null,
   "metadata": {
    "collapsed": false,
    "deletable": true,
    "editable": true
   },
   "outputs": [],
   "source": []
  },
  {
   "cell_type": "markdown",
   "metadata": {
    "deletable": true,
    "editable": true
   },
   "source": [
    "### Extracting Country from B_Location and R_Location\n",
    "\n",
    "I want to extract each figher's country location. Currently there are 438 unique locations in the dataset. This is too many categories to get a sense of where fighters are training. There may also be some correlation between a fighter's location and his or her record. The first thing I did was exclude any fighters with null values for their current location. Thankfully, there were only 8 such cases. Then I cleaned up some of the mispellings / duplicate entries (USA and United States were consolidated into just USA). Finally, I replaced all [City Country] values to [Country] values."
   ]
  },
  {
   "cell_type": "code",
   "execution_count": null,
   "metadata": {
    "collapsed": false,
    "deletable": true,
    "editable": true
   },
   "outputs": [],
   "source": [
    "data['B_Location'].value_counts()[:10]"
   ]
  },
  {
   "cell_type": "code",
   "execution_count": null,
   "metadata": {
    "collapsed": true,
    "deletable": true,
    "editable": true
   },
   "outputs": [],
   "source": [
    "data = data[data['winby'].notnull()]\n",
    "loc_data = data[(data['B_Location'].notnull()) & data['R_Location'].notnull()]\n",
    "data = data[data['winner'] != 'no contest']\n",
    "#data = data.reset_index()"
   ]
  },
  {
   "cell_type": "code",
   "execution_count": null,
   "metadata": {
    "collapsed": false,
    "deletable": true,
    "editable": true
   },
   "outputs": [],
   "source": [
    "count = loc_data['B_Location'].str.split().apply(len).value_counts()\n",
    "count.index = count.index.astype(str) + ' words:'\n",
    "count.sort_index(inplace=True)\n",
    "count"
   ]
  },
  {
   "cell_type": "code",
   "execution_count": null,
   "metadata": {
    "collapsed": false,
    "deletable": true,
    "editable": true
   },
   "outputs": [],
   "source": [
    "len(loc_data)\n",
    "len(data)"
   ]
  },
  {
   "cell_type": "code",
   "execution_count": null,
   "metadata": {
    "collapsed": true,
    "deletable": true,
    "editable": true
   },
   "outputs": [],
   "source": [
    "locations = ['B_Location', 'R_Location']\n",
    "countries = ['Japan','Singapore']\n",
    "for location in locations:\n",
    "    for country in countries:\n",
    "        loc_data.loc[(loc_data[location] == country), location] = 'Unknown '+country"
   ]
  },
  {
   "cell_type": "code",
   "execution_count": null,
   "metadata": {
    "collapsed": false,
    "deletable": true,
    "editable": true
   },
   "outputs": [],
   "source": [
    "# This script cleans up mispellings and extracts country info from city country columns\n",
    "locations = ['B_Location', 'R_Location']\n",
    "new_cols = ['R_Country_Location', 'B_Country_Location']\n",
    "\n",
    "c_dict = {\n",
    "    'United': 'USA',\n",
    "    'Brasil': 'Brazil',\n",
    "    'Englad': 'England',\n",
    "    'Czech': 'CzechRepublic',\n",
    "    'Moldova': 'Moldova',\n",
    "}\n",
    "\n",
    "post_c_dict = {\n",
    "    'Africa': 'South Africa',\n",
    "    'CzechRepublic': 'Czech Republic',\n",
    "    'PAN': 'Panama',\n",
    "    'Zealand': 'New Zealand'\n",
    "}\n",
    "countries = ['']\n",
    "for location in locations:\n",
    "    for k,v in c_dict.items():\n",
    "        loc_data.loc[loc_data[location].str.contains(k), location] = v\n",
    "\n",
    "for new_col, location in zip(new_cols, locations):\n",
    "    loc_data[new_col] = loc_data[location].str.split().str[-1]\n",
    "for col in new_cols:\n",
    "    for k,v in post_c_dict.items():\n",
    "        loc_data.loc[loc_data[col].str.contains(k), col] = v\n",
    "\n",
    "for location, col in zip(locations, new_cols):\n",
    "    loc_data[location] = loc_data[col]\n",
    "    del loc_data[col]\n",
    "sorted(set(loc_data['B_Location'].values.tolist()))"
   ]
  },
  {
   "cell_type": "code",
   "execution_count": null,
   "metadata": {
    "collapsed": false,
    "deletable": true,
    "editable": true,
    "scrolled": true
   },
   "outputs": [],
   "source": [
    "loc_data['B_Location'].value_counts()"
   ]
  },
  {
   "cell_type": "code",
   "execution_count": null,
   "metadata": {
    "_cell_guid": "dcbf2cfa-5536-4a0e-b476-8af4395f6ed4",
    "_execution_state": "idle",
    "_uuid": "e1c922d8e97a8c018a394b6277421b7e632eef37",
    "collapsed": false,
    "deletable": true,
    "editable": true
   },
   "outputs": [],
   "source": [
    "dropdata = data.drop(['B_ID','B_Name','R_ID','R_Name','Date'],axis=1)\n",
    "dropdata.rename(columns={'BPrev':'B__Prev',\n",
    "                         'RPrev':'R__Prev',\n",
    "                         'B_Age':'B__Age',\n",
    "                         'B_Height':'B__Height',\n",
    "                         'B_Weight':'B__Weight',\n",
    "                         'R_Age':'R__Age',\n",
    "                         'R_Height':'R__Height',\n",
    "                         'R_Weight':'R__Weight',\n",
    "                         'BStreak':'B__Streak',\n",
    "                         'RStreak': 'R__Streak'},inplace=True)\n",
    "dropdata.describe()"
   ]
  },
  {
   "cell_type": "markdown",
   "metadata": {
    "_cell_guid": "db811664-e0b5-4ae8-be12-385f0867051c",
    "_uuid": "df010f2f1a68472d4b6a6842669e9cd1bf5fa4a7",
    "deletable": true,
    "editable": true
   },
   "source": [
    "### Converting Strings to Categories\n",
    "\n",
    "Next we need to convert our object types of columns into categorical columns. This is done to sort by logical order"
   ]
  },
  {
   "cell_type": "code",
   "execution_count": null,
   "metadata": {
    "_cell_guid": "09ee46c9-bd6f-4b7b-bc93-bfaf65e5b8ed",
    "_execution_state": "idle",
    "_uuid": "812983e28339ea7484b753e9e0bed7abed1a882e",
    "collapsed": true,
    "deletable": true,
    "editable": true
   },
   "outputs": [],
   "source": [
    "objecttypes = list(dropdata.select_dtypes(include=['O']).columns)\n",
    "for col in objecttypes:\n",
    "    dropdata[col] = dropdata[col].astype('category')"
   ]
  },
  {
   "cell_type": "code",
   "execution_count": null,
   "metadata": {
    "_cell_guid": "121ee705-4017-494a-a4e0-d4c95a44e670",
    "_execution_state": "idle",
    "_uuid": "a66b1f5ee32454a9df0eeebae6fa6e9e5450856e",
    "collapsed": false,
    "deletable": true,
    "editable": true
   },
   "outputs": [],
   "source": [
    "cat_columns = dropdata.select_dtypes(['category']).columns\n",
    "dropdata[cat_columns] = dropdata[cat_columns].apply(lambda x: x.cat.codes)\n",
    "dropdata.info()\n",
    "dropdata.tail()"
   ]
  },
  {
   "cell_type": "markdown",
   "metadata": {
    "_cell_guid": "93cbf393-b9a9-43ef-aa3a-db8a1d622a42",
    "_uuid": "c14b77c6610f405be31c9bb108c250d0f1c82512",
    "deletable": true,
    "editable": true
   },
   "source": [
    "## Feature Engineering\n",
    "\n",
    "What is it about each figher that makes him a favorite? This may require a lot or rearranging, so it may be worth it to think this through a bit first. I could reset each fighter's stats and only add stats that came prior to each fight. This would be a more comprehensive way of comparing each fighter and would align more closely to real-world applications. Here's a rough sketch of what the process might look like:\n",
    "\n",
    "1. Add columns for kicks taken, punches taken, etc?\n",
    "  1. One disadvantage is that this would mean nearly doubling the number of variables in a dataset that is already massive. This will hurt some machine learning models. Let's omit this for now and come back to it later if necessary."
   ]
  },
  {
   "cell_type": "markdown",
   "metadata": {
    "_cell_guid": "3c79b362-3492-4b63-a7ca-a1f9b574818b",
    "_uuid": "5779211f437c1c8b5959675de8d760934fc3074d",
    "deletable": true,
    "editable": true
   },
   "source": [
    "## Modeling\n",
    "\n",
    "We're going to be methodical when building and testing our algorithms. It's easy to run in circles due to the plethora of algorithms and parameters available. Is a decision tree a better choice? Or should we try Random Forest? What about Support Vector Machines? The machines need our support! Rather than going through all these possibilities and forgetting the results, we'll build pipelines and document our process as we go along. By staying organized, it will be easier to tell if we've already tried a solution. It may also serve to highlight the desired path a bit (one can only hope).\n",
    "\n",
    "Here's a list of models we have so far. We may add to this list, but it's a good starting place.\n",
    "\n",
    "1. Perceptron\n",
    "2. Random Forests\n",
    "3. Decision Trees Classifier\n",
    "4. SGD Classifier\n",
    "5. Linear SVC\n",
    "6. Gaussian NB\n",
    "7. KNN\n",
    "\n",
    "Of course, machine learning isn't just about finding that perfect algorithm. The results depend heavily on earlier steps in the process. One might even say that most of the accuracy depends on the exploratory analysis and feature engineering. That's why so much time was spent in that phase.\n",
    "\n",
    "Now that we have a few algorithms to explore, we'll pay close attention to each one's hyperparameters. If the data is unbalanced, we'll need to account for that and if it's overfitting / underfitting, we may have to make a different set of changes. There's a lot to absorb here. Let's take our time and keep in mind that data analysis is not a linear process. Sometimes we have to go back and forth between modeling, wrangling, exploring and feature engineering. We can't be afraid to get our hands dirty!"
   ]
  },
  {
   "cell_type": "code",
   "execution_count": null,
   "metadata": {
    "collapsed": false,
    "deletable": true,
    "editable": true
   },
   "outputs": [],
   "source": [
    "numerical_diffs = fight_diffs.drop(['name', 'method', 'fight_id', 'referee', 'round'], axis=1)"
   ]
  },
  {
   "cell_type": "code",
   "execution_count": null,
   "metadata": {
    "collapsed": true,
    "deletable": true,
    "editable": true
   },
   "outputs": [],
   "source": [
    "# help(sklearn.ensemble.RandomForestClassifier())\n",
    "# help(sklearn.naive_bayes.GaussianNB)\n",
    "# help(sklearn.svm.LinearSVC)\n",
    "# import sklearn\n",
    "# help(sklearn)"
   ]
  },
  {
   "cell_type": "code",
   "execution_count": null,
   "metadata": {
    "_cell_guid": "2358b514-cb05-4acc-972d-c6668c3faa08",
    "_execution_state": "idle",
    "_uuid": "b848bf019778bab073e13f644bfe0f2d35a0d4e0",
    "collapsed": true,
    "deletable": true,
    "editable": true
   },
   "outputs": [],
   "source": [
    "# We Store prediction of each model in our dict\n",
    "# Helper Functions for our models. \n",
    "\n",
    "def percep(X_train,Y_train,X_test,Y_test,Models):\n",
    "    perceptron = Perceptron(max_iter = 1000, tol = 0.001, random_state=42)\n",
    "    perceptron.fit(X_train, Y_train)\n",
    "    Y_pred = perceptron.predict(X_test)\n",
    "    Models['Perceptron'] = [accuracy_score(Y_test,Y_pred),confusion_matrix(Y_test,Y_pred)]\n",
    "    return\n",
    "\n",
    "def ranfor(X_train,Y_train,X_test,Y_test,Models):\n",
    "    randomfor = RandomForestClassifier(max_features=\"sqrt\",\n",
    "                                       n_estimators = 700,\n",
    "                                       max_depth = None,\n",
    "                                       n_jobs=-1,\n",
    "                                       random_state=42\n",
    "                                      )\n",
    "    randomfor.fit(X_train,Y_train)\n",
    "    Y_pred = randomfor.predict(X_test)\n",
    "    Models['Random Forests'] = [accuracy_score(Y_test,Y_pred),confusion_matrix(Y_test,Y_pred)]\n",
    "    return\n",
    "\n",
    "def dec_tree(X_train,Y_train,X_test,Y_test,Models):\n",
    "    decision_tree = DecisionTreeClassifier(random_state=42)\n",
    "    decision_tree.fit(X_train, Y_train)\n",
    "    Y_pred = decision_tree.predict(X_test)\n",
    "    Models['Decision Tree'] = [accuracy_score(Y_test,Y_pred),confusion_matrix(Y_test,Y_pred)]\n",
    "    return\n",
    "\n",
    "def SGDClass(X_train,Y_train,X_test,Y_test,Models):\n",
    "    sgd = SGDClassifier(max_iter = 1000, tol = 0.001, random_state=42)\n",
    "    sgd.fit(X_train, Y_train)\n",
    "    Y_pred = sgd.predict(X_test)\n",
    "    Models['SGD Classifier'] = [accuracy_score(Y_test,Y_pred),confusion_matrix(Y_test,Y_pred)]\n",
    "    return\n",
    "\n",
    "def linSVC(X_train,Y_train,X_test,Y_test,Models):\n",
    "    linear_svc = LinearSVC(random_state=42)\n",
    "    linear_svc.fit(X_train, Y_train)\n",
    "    Y_pred = linear_svc.predict(X_test)\n",
    "    Models['SVM'] = [accuracy_score(Y_test,Y_pred),confusion_matrix(Y_test,Y_pred)]\n",
    "    return\n",
    "\n",
    "def bayes(X_train,Y_train,X_test,Y_test,Models):\n",
    "    gaussian = GaussianNB()\n",
    "    gaussian.fit(X_train, Y_train)\n",
    "    Y_pred = gaussian.predict(X_test)\n",
    "    Models['Bayes'] = [accuracy_score(Y_test,Y_pred),confusion_matrix(Y_test,Y_pred)]\n",
    "    return\n",
    "\n",
    "def Nearest(X_train,Y_train,X_test,Y_test,Models):\n",
    "    knn = KNeighborsClassifier(n_neighbors = 3)\n",
    "    knn.fit(X_train, Y_train)\n",
    "    Y_pred = knn.predict(X_test)\n",
    "    Models['KNN'] = [accuracy_score(Y_test,Y_pred),confusion_matrix(Y_test,Y_pred)]\n",
    "\n",
    "def run_all_and_Plot(df):\n",
    "    Models = dict()\n",
    "    from sklearn.model_selection import train_test_split\n",
    "    X_all = df.drop(['win/loss'], axis=1)\n",
    "    y_all = df['win/loss']\n",
    "    X_train, X_test, Y_train, Y_test = train_test_split(X_all, y_all, test_size=0.2, random_state=0)\n",
    "    percep(X_train,Y_train,X_test,Y_test,Models)\n",
    "    ranfor(X_train,Y_train,X_test,Y_test,Models)\n",
    "    dec_tree(X_train,Y_train,X_test,Y_test,Models)\n",
    "    SGDClass(X_train,Y_train,X_test,Y_test,Models)\n",
    "    linSVC(X_train,Y_train,X_test,Y_test,Models)\n",
    "    bayes(X_train,Y_train,X_test,Y_test,Models)\n",
    "    Nearest(X_train,Y_train,X_test,Y_test,Models)\n",
    "    return Models\n",
    "\n",
    "\n",
    "def plot_bar(dict):\n",
    "    labels = tuple(dict.keys())\n",
    "    y_pos = np.arange(len(labels))\n",
    "    values = [dict[n][0] for n in dict]\n",
    "    plt.bar(y_pos, values, align='center', alpha=0.5)\n",
    "    plt.xticks(y_pos, labels,rotation='vertical')\n",
    "    plt.ylabel('accuracy')\n",
    "    plt.title('Accuracy of different models')\n",
    "    plt.show()\n",
    "\n",
    "\n",
    "def plot_cm(dict):\n",
    "    count = 1\n",
    "    fig = plt.figure(figsize=(10,10))\n",
    "    for model in dict:\n",
    "        cm = dict[model][1]\n",
    "        labels = ['W','L']\n",
    "        ax = fig.add_subplot(4,4,count)\n",
    "        cax = ax.matshow(cm)\n",
    "        plt.title(model,y=-0.8)\n",
    "        fig.colorbar(cax)\n",
    "        ax.set_xticklabels([''] + labels)\n",
    "        ax.set_yticklabels([''] + labels)\n",
    "        plt.xlabel('Predicted')\n",
    "        plt.ylabel('True')\n",
    "        # plt.subplot(2,2,count)\n",
    "        count+=1\n",
    "    plt.tight_layout()\n",
    "    plt.show()"
   ]
  },
  {
   "cell_type": "code",
   "execution_count": null,
   "metadata": {
    "_cell_guid": "42484153-a9ac-4b08-8b20-33fef52b7109",
    "_execution_state": "idle",
    "_uuid": "3152fd66ab1197f486355c1c742767ab8960f2b2",
    "collapsed": false,
    "deletable": true,
    "editable": true
   },
   "outputs": [],
   "source": [
    "accuracies = run_all_and_Plot(numerical_diffs.iloc[:,:7])\n",
    "CompareAll = dict()\n",
    "CompareAll['Baseline'] = accuracies\n",
    "for key,val in accuracies.items():\n",
    "    print(str(key) +' '+ str(val[0]))\n",
    "plot_bar(accuracies)\n",
    "plot_cm(accuracies)"
   ]
  },
  {
   "cell_type": "code",
   "execution_count": null,
   "metadata": {
    "_cell_guid": "36458454-c9bd-4490-8c67-81395c60e44b",
    "_execution_state": "idle",
    "_uuid": "1ece9ef484f1dccdc754f106f094adb9f5d3b0ab",
    "collapsed": true,
    "deletable": true,
    "editable": true
   },
   "outputs": [],
   "source": [
    "from sklearn.model_selection import train_test_split, GridSearchCV\n",
    "#X_all = dropdata.drop(['winner'], axis=1)\n",
    "#y_all = dropdata['winner']\n",
    "#X_train, X_test, Y_train, Y_test = train_test_split(X_all, y_all, test_size=0.2, random_state=23)\n",
    "#rfc = RandomForestClassifier(n_jobs=-1,max_features= 'sqrt' ,n_estimators=50, oob_score = True, max_depth=None) \n",
    "#param_grid = { \n",
    "#    'n_estimators': [200,700],\n",
    "#    'max_features': ['auto', 'sqrt', 'log2']\n",
    "#}\n",
    "\n",
    "#CV_rfc = GridSearchCV(estimator=rfc, param_grid=param_grid, cv= 5)\n",
    "#CV_rfc.fit(X_train, Y_train)\n",
    "#print(CV_rfc.best_params_)"
   ]
  },
  {
   "cell_type": "markdown",
   "metadata": {
    "_cell_guid": "cff0584f-23fa-47dc-af33-0d1e9fefee61",
    "_uuid": "77432b8dbe0ab61054cc75eff306f5fa468c54ad",
    "deletable": true,
    "editable": true
   },
   "source": [
    "### Trying to improve results by dividing features\n",
    "\n",
    "This block turns each individual red and blue round stat into a ratio of red to blue values. It divides the number of features from 895 to 450. For instance, it turns R_Round4_Strikes_Kicks_Landed and B_Round4_Strikes_Kicks_Landed into a single ratio of red to blue strikes kicks landed. Interesting approach, it appears to be part of th iteration process to see what will be most effective in this analysis."
   ]
  },
  {
   "cell_type": "code",
   "execution_count": null,
   "metadata": {
    "_cell_guid": "19fed020-cd6f-4e96-88f1-3bb5fcc6d89c",
    "_execution_state": "idle",
    "_uuid": "929313bed2a81c876094b2a9561dbe2a29bde64c",
    "collapsed": true,
    "deletable": true,
    "editable": true
   },
   "outputs": [],
   "source": [
    "dontchange = ['winner','Event_ID','Fight_ID','Max_round','Last_round','B_Age','R_Age']\n",
    "numeric_cols = [col for col in dropdata if col not in dontchange]\n",
    "dropdata[numeric_cols] += 1 "
   ]
  },
  {
   "cell_type": "code",
   "execution_count": null,
   "metadata": {
    "_cell_guid": "ceb06d96-db42-4eb6-a69b-9f768915327d",
    "_execution_state": "idle",
    "_uuid": "984bd6d4d6befa7292782a2dc2901cde876d09fc",
    "collapsed": true,
    "deletable": true,
    "editable": true
   },
   "outputs": [],
   "source": [
    "newDF = dropdata.copy()\n",
    "blue_cols = [col for col in dropdata.columns if 'B__' in col]\n",
    "red_cols = [col for col in dropdata.columns if 'R__' in col]\n",
    "for (blue,red) in zip(blue_cols,red_cols):\n",
    "    newkey = ''.join(str(blue).split('_')[2:])\n",
    "    dropdata[newkey] = dropdata[str(blue)]/dropdata[str(red)]\n",
    "    del dropdata[str(blue)]\n",
    "    del dropdata[str(red)]\n",
    "newDF.head()"
   ]
  },
  {
   "cell_type": "code",
   "execution_count": null,
   "metadata": {
    "_cell_guid": "8a3a3718-685b-4e63-a766-ab7cc1bdc908",
    "_execution_state": "idle",
    "_uuid": "b21918fc4f94af7cbe2835af0652bb4968afb03f",
    "collapsed": true,
    "deletable": true,
    "editable": true
   },
   "outputs": [],
   "source": [
    "accuracies = run_all_and_Plot(dropdata)\n",
    "for key,val in accuracies.items():\n",
    "    print(str(key) +' '+ str(val[0]))\n",
    "CompareAll['Blue/Red'] = accuracies\n",
    "plot_bar(accuracies)\n",
    "plot_cm(accuracies)\n"
   ]
  },
  {
   "cell_type": "markdown",
   "metadata": {
    "_cell_guid": "92e4152a-b7d1-49b8-b4aa-2bf527db625c",
    "_uuid": "15d6056717d18863b0d6d5e37f11676e9d50a379",
    "deletable": true,
    "editable": true
   },
   "source": [
    "### Dropping First Fights\n",
    "\n",
    "This drops any fights in which the fighter has no previous recorded. I may use this in my model but again I'm hesitant to do so because it involves a huge loss of data. Looking at the original CSV, there are 342 records in for Red and 499 records for blue in which they have no previously recorded fight data. I can't afford to lose more than half the data.\n",
    "\n",
    "This is actually a pretty interesting problem because I'm not sure how to deal with new fighters. By definition, their stats will show up as zeros if they don't have any fight data. It might be worth exploring how to get records prior to 2014 and going from there. Possible sources include:\n",
    "\n",
    "1. Fightmetrics\n",
    "2. Fight data from other fight organizations\n",
    "3. Looking into what the original analyst meant when he said the previous data was not as granular"
   ]
  },
  {
   "cell_type": "code",
   "execution_count": null,
   "metadata": {
    "collapsed": true,
    "deletable": true,
    "editable": true
   },
   "outputs": [],
   "source": [
    "data[data.RPrev == False]"
   ]
  },
  {
   "cell_type": "code",
   "execution_count": null,
   "metadata": {
    "collapsed": true,
    "deletable": true,
    "editable": true
   },
   "outputs": [],
   "source": [
    "data[data.BPrev == False]"
   ]
  },
  {
   "cell_type": "code",
   "execution_count": null,
   "metadata": {
    "_cell_guid": "b7541f52-8875-4bf1-a0d3-18cf8cae67b9",
    "_execution_state": "idle",
    "_uuid": "f50f278e398522fe6f0c9df8f149ee43695b7b01",
    "collapsed": true,
    "deletable": true,
    "editable": true
   },
   "outputs": [],
   "source": [
    "blahblah = bewb[bewb.Prev != 1]\n",
    "accuracies = run_all_and_Plot(blahblah)\n",
    "for key,val in accuracies.items():\n",
    "    print(str(key)+' '+str(val[0]))\n",
    "CompareAll['DroppingDebut'] = accuracies\n",
    "plot_bar(accuracies)\n",
    "plot_cm(accuracies)"
   ]
  },
  {
   "cell_type": "code",
   "execution_count": null,
   "metadata": {
    "collapsed": true,
    "deletable": true,
    "editable": true
   },
   "outputs": [],
   "source": [
    "blue_cols"
   ]
  },
  {
   "cell_type": "markdown",
   "metadata": {
    "deletable": true,
    "editable": true
   },
   "source": [
    "### Aggregate Round Stats\n",
    "\n",
    "This block sums the stats for each round into one value. For example, it combines round 1-5 strikes_landed into a single value. This is what I was thinking of doing. May have to borrow this code in my analysis."
   ]
  },
  {
   "cell_type": "code",
   "execution_count": null,
   "metadata": {
    "_cell_guid": "c8eab9e2-9b22-422c-9856-a08652d39ac1",
    "_execution_state": "idle",
    "_uuid": "b1d4556071d9f065d72433720955e33ba2c91497",
    "collapsed": true,
    "deletable": true,
    "editable": true
   },
   "outputs": [],
   "source": [
    "blue_cols\n",
    "newDF.info()\n",
    "b_feats = list(set([x[10:] for x in blue_cols if \"Round\" in x]))\n",
    "r_feats = list(set([x[10:] for x in red_cols if \"Round\" in x]))\n",
    "def sumshit(b_feats,cols):\n",
    "    for x in b_feats:\n",
    "        newDF.loc[:,x] = 0\n",
    "        for y in cols:\n",
    "            if x in y:\n",
    "                newDF[x] += newDF[y]\n",
    "                newDF.drop(y,axis=1,inplace=True)\n",
    "sumshit(b_feats,blue_cols)\n",
    "sumshit(r_feats,red_cols)\n",
    "newDF.info()\n"
   ]
  },
  {
   "cell_type": "code",
   "execution_count": null,
   "metadata": {
    "_cell_guid": "3926c4b2-8f38-443d-9e0f-a0c7c35c7b05",
    "_execution_state": "idle",
    "_uuid": "f7b198db886b7fccd5e6573aea33303f1b53e931",
    "collapsed": true,
    "deletable": true,
    "editable": true
   },
   "outputs": [],
   "source": [
    "newDF.describe()\n",
    "accuracies = run_all_and_Plot(newDF)\n",
    "for key,val in accuracies.items():\n",
    "    print(str(key) +' '+ str(val[0]))\n",
    "CompareAll['SumRounds'] = accuracies\n",
    "plot_bar(accuracies)\n",
    "plot_cm(accuracies)\n",
    "\n"
   ]
  },
  {
   "cell_type": "markdown",
   "metadata": {
    "deletable": true,
    "editable": true
   },
   "source": [
    "### Comparing Red to Blue\n",
    "\n",
    "This block compares red stats to blue stats. It creates a ratio of strikes landed by red vs strikes landed by blue for each category. Very useful. I think I'm going to borrow this code as well since it's an idea I was thinking about implementing in my reanalysis."
   ]
  },
  {
   "cell_type": "code",
   "execution_count": null,
   "metadata": {
    "_cell_guid": "f1338ea2-1811-42a7-856b-fa74f655b5a7",
    "_execution_state": "idle",
    "_uuid": "0133b07cdef4add8e5cb1a52707fdcf2b29d234d",
    "collapsed": true,
    "deletable": true,
    "editable": true
   },
   "outputs": [],
   "source": [
    "blue_cols = [col for col in newDF.columns if 'B__' in col]\n",
    "red_cols = [col for col in newDF.columns if 'R__' in col]\n",
    "for (blue,red) in zip(blue_cols,red_cols):\n",
    "    newkey = ''.join(str(blue).split('_')[2:])\n",
    "    newDF[newkey] = newDF[str(blue)]/newDF[str(red)]\n",
    "    del newDF[str(blue)]\n",
    "    del newDF[str(red)]"
   ]
  },
  {
   "cell_type": "code",
   "execution_count": null,
   "metadata": {
    "_cell_guid": "1ca5d30c-54c9-4ab3-82a6-cdfed729e479",
    "_execution_state": "idle",
    "_uuid": "e2c770779f3ad517aaa985c706551fceec266221",
    "collapsed": true,
    "deletable": true,
    "editable": true
   },
   "outputs": [],
   "source": [
    "accuracies = run_all_and_Plot(newDF)\n",
    "for key,val in accuracies.items():\n",
    "    print(str(key) +' '+ str(val[0]))\n",
    "CompareAll['SumRounds'] = accuracies\n",
    "plot_bar(accuracies)\n",
    "plot_cm(accuracies)"
   ]
  },
  {
   "cell_type": "markdown",
   "metadata": {
    "deletable": true,
    "editable": true
   },
   "source": [
    "### Reducing Features\n",
    "\n",
    "This block drops features that are seemingly arbitrary and may have little effect on the data. It drops weight, hometown, event location, event id, fight id, max round and last round. Interestingly, the accuracy scores dip slightly after this is done. I'm not sure I agree with the decisions made here. For instance, I still want to take a look at splitting the columns by city and country. I'm not sure about the others. I'll have to combe back to this later down the road."
   ]
  },
  {
   "cell_type": "code",
   "execution_count": null,
   "metadata": {
    "_cell_guid": "4e399915-898f-4ab7-960b-690042a93f6c",
    "_execution_state": "idle",
    "_uuid": "94a56148aca4bc655515e369b11e3c5b5671925f",
    "collapsed": true,
    "deletable": true,
    "editable": true
   },
   "outputs": [],
   "source": [
    "reduced_features = newDF.drop([\"Weight\",\"B_HomeTown\",\"B_Location\", \"Event_ID\", \"Fight_ID\", \"Max_round\", \"Last_round\", \"R_HomeTown\", \"R_Location\"],axis = 1)\n",
    "accuracies = run_all_and_Plot(reduced_features)\n",
    "for key,val in accuracies.items():\n",
    "    print(str(key) +' '+ str(val[0]))\n",
    "CompareAll['Reduced Features'] = accuracies\n",
    "plot_bar(accuracies)\n",
    "plot_cm(accuracies)\n"
   ]
  },
  {
   "cell_type": "code",
   "execution_count": null,
   "metadata": {
    "_execution_state": "idle",
    "_uuid": "751ceb20a9476237c792a87034de91e5bcbbcb71",
    "collapsed": true,
    "deletable": true,
    "editable": true
   },
   "outputs": [],
   "source": [
    "reduced_features.info()"
   ]
  },
  {
   "cell_type": "code",
   "execution_count": null,
   "metadata": {
    "collapsed": true,
    "deletable": true,
    "editable": true
   },
   "outputs": [],
   "source": [
    "sorted(reduced_features.columns.values.tolist())"
   ]
  },
  {
   "cell_type": "markdown",
   "metadata": {
    "_cell_guid": "adce3876-6f57-4501-8650-91ccc6d7d7ab",
    "_uuid": "1fdbd098b562a7eee62122583bc083f9610439a0",
    "deletable": true,
    "editable": true
   },
   "source": [
    "## Conclusion\n"
   ]
  },
  {
   "cell_type": "markdown",
   "metadata": {
    "deletable": true,
    "editable": true
   },
   "source": [
    "## Stretch Goals\n",
    "\n",
    "### Rewrite and re-run scraper to pull data from earlier years\n",
    "\n",
    "It won't be as granular, but it may strengthen the analysis. There might not be enough records from 2014 onwards to model the data accurately. On the other hand, I'm not even sure the previous analyst modeled the data accurately. He took fight data from each fight and used that to predict the winner. That's not realistic. You don't have a round-by-round analysis before the fight happens! It would be much better to use the running totals to predict a fight's outcome. Looks like we're learning Beautiful Soup! At least you have a starting point."
   ]
  },
  {
   "cell_type": "markdown",
   "metadata": {
    "collapsed": true,
    "deletable": true,
    "editable": true
   },
   "source": [
    "## Scraper Rewrite\n",
    "\n",
    "The data on fightmetric is more robust than the data on ufc.com. The data I'm getting from ufc.com has a lot of missing data in general and it does not break down each fight as well. It lists strike percentages but does not give raw numbers. The fightmetric data lists raw data as well as percentages and may lead to a more complete picture of each fighter. It also does not require as much merging. Looks like we're starting fresh!"
   ]
  },
  {
   "cell_type": "markdown",
   "metadata": {
    "deletable": true,
    "editable": true
   },
   "source": [
    "### Fight URL Scraper\n",
    "\n",
    "This first script pulls the urls of all fights from fightmetric.com and exports them as a CSV.\n",
    "\n",
    "I want to add functionality to get the date, location and title of each fight event."
   ]
  },
  {
   "cell_type": "code",
   "execution_count": 57,
   "metadata": {
    "collapsed": false,
    "deletable": true,
    "editable": true
   },
   "outputs": [
    {
     "ename": "IndexError",
     "evalue": "list index out of range",
     "output_type": "error",
     "traceback": [
      "\u001b[0;31m---------------------------------------------------------------------------\u001b[0m",
      "\u001b[0;31mIndexError\u001b[0m                                Traceback (most recent call last)",
      "\u001b[0;32m<ipython-input-57-01f35ede324c>\u001b[0m in \u001b[0;36m<module>\u001b[0;34m()\u001b[0m\n\u001b[1;32m     23\u001b[0m         \u001b[0mevent_dates\u001b[0m\u001b[0;34m.\u001b[0m\u001b[0mappend\u001b[0m\u001b[0;34m(\u001b[0m\u001b[0;34m\" \"\u001b[0m\u001b[0;34m.\u001b[0m\u001b[0mjoin\u001b[0m\u001b[0;34m(\u001b[0m\u001b[0mstr\u001b[0m\u001b[0;34m(\u001b[0m\u001b[0mspan\u001b[0m\u001b[0;34m.\u001b[0m\u001b[0mget_text\u001b[0m\u001b[0;34m(\u001b[0m\u001b[0;34m)\u001b[0m\u001b[0;34m)\u001b[0m\u001b[0;34m.\u001b[0m\u001b[0msplit\u001b[0m\u001b[0;34m(\u001b[0m\u001b[0;34m)\u001b[0m\u001b[0;34m)\u001b[0m\u001b[0;34m)\u001b[0m\u001b[0;34m\u001b[0m\u001b[0m\n\u001b[1;32m     24\u001b[0m \u001b[0;34m\u001b[0m\u001b[0m\n\u001b[0;32m---> 25\u001b[0;31m     \u001b[0mevent_locations\u001b[0m\u001b[0;34m.\u001b[0m\u001b[0mappend\u001b[0m\u001b[0;34m(\u001b[0m\u001b[0;34m\" \"\u001b[0m\u001b[0;34m.\u001b[0m\u001b[0mjoin\u001b[0m\u001b[0;34m(\u001b[0m\u001b[0mstr\u001b[0m\u001b[0;34m(\u001b[0m\u001b[0;34m(\u001b[0m\u001b[0mtr\u001b[0m\u001b[0;34m.\u001b[0m\u001b[0mfind_all\u001b[0m\u001b[0;34m(\u001b[0m\u001b[0;34m'td'\u001b[0m\u001b[0;34m)\u001b[0m\u001b[0;34m[\u001b[0m\u001b[0;36m1\u001b[0m\u001b[0;34m]\u001b[0m\u001b[0;34m.\u001b[0m\u001b[0mget_text\u001b[0m\u001b[0;34m(\u001b[0m\u001b[0;34m)\u001b[0m\u001b[0;34m)\u001b[0m\u001b[0;34m.\u001b[0m\u001b[0msplit\u001b[0m\u001b[0;34m(\u001b[0m\u001b[0;34m)\u001b[0m\u001b[0;34m)\u001b[0m\u001b[0;34m)\u001b[0m\u001b[0;34m)\u001b[0m\u001b[0;34m\u001b[0m\u001b[0m\n\u001b[0m\u001b[1;32m     26\u001b[0m \u001b[0;34m\u001b[0m\u001b[0m\n\u001b[1;32m     27\u001b[0m \u001b[0;32mprint\u001b[0m \u001b[0mevent_dates\u001b[0m\u001b[0;34m[\u001b[0m\u001b[0;34m:\u001b[0m\u001b[0;36m10\u001b[0m\u001b[0;34m]\u001b[0m\u001b[0;34m\u001b[0m\u001b[0m\n",
      "\u001b[0;31mIndexError\u001b[0m: list index out of range"
     ]
    }
   ],
   "source": [
    "from bs4 import BeautifulSoup\n",
    "import pandas as pd\n",
    "import urllib\n",
    "import os\n",
    "os.chdir('/Users/courtneyfergusonlee/ufc_fight_analysis/data')\n",
    "\n",
    "# Open the main page with events listed\n",
    "sock = urllib.urlopen('http://www.fightmetric.com/statistics/events/completed?page=all')\n",
    "page = sock.read()\n",
    "soup = BeautifulSoup(page, \"html.parser\")\n",
    "\n",
    "# Scrape event URLs from the main page\n",
    "event_urls = []\n",
    "event_dates = []\n",
    "event_locations = []\n",
    "\n",
    "trs = soup.find_all('tr')\n",
    "for tr in trs:\n",
    "    for link in tr.find_all('a'):\n",
    "        event_urls.append(link.get('href'))\n",
    "    \n",
    "    for span in tr.find_all('span'):\n",
    "        event_dates.append(\" \".join(str(span.get_text()).split()))\n",
    "    \n",
    "    event_locations.append(\" \".join(str((tr.find_all('td')[1].get_text()).split())))\n",
    "\n",
    "print event_dates[:10]\n",
    "print event_urls[:10]\n",
    "print event_locations[:10]\n",
    "# Pull Fight URLs, dates and locations from each Event URL\n",
    "fight_urls = []\n",
    "count = 0\n",
    "for event_url, date, location in zip(event_urls, event_dates, event_locations): \n",
    "    if count==3:\n",
    "        break\n",
    "    print event_url, date, location\n",
    "    try:\n",
    "        sock = urllib.urlopen(event_url)\n",
    "        event_html = sock.read()\n",
    "        event_soup = BeautifulSoup(event_html, \"html.parser\")\n",
    "\n",
    "        tds = event_soup.find_all('td')\n",
    "        for td in tds:\n",
    "            for link in td.find_all('a'):\n",
    "                url = link.get('href')\n",
    "                url_type = url.split('-')[0][-2:] # Fight vs. Fighter; last 2 letters\n",
    "                if url_type == 'ht': # use er for fighter, ht for fight\n",
    "                    #print url\n",
    "                    fight_urls.append([url, date, location])\n",
    "        \n",
    "    \n",
    "    except urllib2.HTTPError:\n",
    "        print \"HTTP Error\"\n",
    "        pass\n",
    "    count += 1\n",
    "\n",
    "# Save fight URLs to a csv file\n",
    "fight_urls = pd.DataFrame(\n",
    "    data=fight_urls, \n",
    "    columns=['link', 'date', 'location'])\n",
    "fight_urls.to_csv('fight_urls.csv', index=False)\n",
    "\n"
   ]
  },
  {
   "cell_type": "code",
   "execution_count": 45,
   "metadata": {
    "collapsed": false
   },
   "outputs": [
    {
     "name": "stdout",
     "output_type": "stream",
     "text": [
      "http://www.fightmetric.com/fight-details/d1bee15e60ee6721\n",
      "http://www.fightmetric.com/fight-details/567a09fd200cfa05\n",
      "http://www.fightmetric.com/fight-details/2d2bbc86e941e05c\n",
      "http://www.fightmetric.com/fight-details/cecdc0da584274b9\n",
      "http://www.fightmetric.com/fight-details/46acd54cc0c905fb\n",
      "http://www.fightmetric.com/fight-details/ac7ca2ec38b96c1a\n",
      "http://www.fightmetric.com/fight-details/ffd16691c4c4aafc\n",
      "http://www.fightmetric.com/fight-details/00b0796724ec1c09\n",
      "http://www.fightmetric.com/fight-details/64139d1d505e46c5\n",
      "http://www.fightmetric.com/fight-details/4acab67848e78327\n"
     ]
    }
   ],
   "source": [
    "fight_urls = pd.read_csv('data/fight_urls.csv')\n",
    "for i in range(10):\n",
    "    print fight_urls.iloc[-i, 0]"
   ]
  },
  {
   "cell_type": "code",
   "execution_count": 41,
   "metadata": {
    "collapsed": false
   },
   "outputs": [
    {
     "data": {
      "text/html": [
       "<div>\n",
       "<style>\n",
       "    .dataframe thead tr:only-child th {\n",
       "        text-align: right;\n",
       "    }\n",
       "\n",
       "    .dataframe thead th {\n",
       "        text-align: left;\n",
       "    }\n",
       "\n",
       "    .dataframe tbody tr th {\n",
       "        vertical-align: top;\n",
       "    }\n",
       "</style>\n",
       "<table border=\"1\" class=\"dataframe\">\n",
       "  <thead>\n",
       "    <tr style=\"text-align: right;\">\n",
       "      <th></th>\n",
       "      <th>link</th>\n",
       "    </tr>\n",
       "  </thead>\n",
       "  <tbody>\n",
       "    <tr>\n",
       "      <th>4363</th>\n",
       "      <td>http://www.fightmetric.com/fight-details/6ca94...</td>\n",
       "    </tr>\n",
       "  </tbody>\n",
       "</table>\n",
       "</div>"
      ],
      "text/plain": [
       "                                                   link\n",
       "4363  http://www.fightmetric.com/fight-details/6ca94..."
      ]
     },
     "execution_count": 41,
     "metadata": {},
     "output_type": "execute_result"
    }
   ],
   "source": [
    "fight_urls[fight_urls.link.str.contains('eb300')]"
   ]
  },
  {
   "cell_type": "code",
   "execution_count": 42,
   "metadata": {
    "collapsed": false
   },
   "outputs": [
    {
     "data": {
      "text/plain": [
       "'http://www.fightmetric.com/fight-details/6ca94b35719eb300'"
      ]
     },
     "execution_count": 42,
     "metadata": {},
     "output_type": "execute_result"
    }
   ],
   "source": [
    "fight_urls.iloc[4363, 0]"
   ]
  },
  {
   "cell_type": "code",
   "execution_count": 44,
   "metadata": {
    "collapsed": false
   },
   "outputs": [
    {
     "data": {
      "text/plain": [
       "8826"
      ]
     },
     "execution_count": 44,
     "metadata": {},
     "output_type": "execute_result"
    }
   ],
   "source": [
    "len(fight_urls)*2"
   ]
  },
  {
   "cell_type": "code",
   "execution_count": null,
   "metadata": {
    "collapsed": true
   },
   "outputs": [],
   "source": [
    "http://www.fightmetric.com/event-details/9211aae062b799d6"
   ]
  },
  {
   "cell_type": "markdown",
   "metadata": {
    "deletable": true,
    "editable": true
   },
   "source": [
    "### Fight Scraper\n",
    "\n",
    "This scrapes all fight data from fightmetric.com/fight-details. It reads a list of URLs, pulls the fight statistics from each fight, and concatenates it onto a Pandas dataframe. There are over 4000 urls in the list, so it takes a while to run (over 3 hours)."
   ]
  },
  {
   "cell_type": "code",
   "execution_count": null,
   "metadata": {
    "collapsed": false,
    "deletable": true,
    "editable": true,
    "scrolled": false
   },
   "outputs": [],
   "source": [
    "from bs4 import BeautifulSoup\n",
    "import pandas as pd\n",
    "import urllib\n",
    "import os\n",
    "os.chdir('/Users/courtneyfergusonlee/ufc_fight_analysis/MMA-scraper-master')\n",
    "\n",
    "# Load URLs from CSV (created in fight url scraper)\n",
    "fight_urls = pd.read_csv('fight_urls.csv', encoding='utf-8')['link'].values.tolist()\n",
    "\n",
    "# Initialize an empty dataframe\n",
    "fighter_df = pd.DataFrame(columns=['name_first', 'name_last', 'kd', 'sig_strikes', 'sig_attempts', 'strikes', 'strike_attempts', \n",
    "                                   'takedowns', 'td_attempts', 'sub_attempts', 'pass', 'reversals', 'head', 'head_attempts', 'body', \n",
    "                                   'body_attempts','leg', 'leg_attempts', 'distance', 'distance_attempts', 'clinch', 'fight_id',\n",
    "                                   'clinch_attempts', 'ground', 'ground_attempts', 'win/loss', 'referee', 'round', 'method',\n",
    "                                   'date', 'location', 'title'])\n",
    "\n",
    "\n",
    "# Iterate through the fight urls, and pull relevant variables/fields\n",
    "for i in range(len(fight_urls)):\n",
    "    if i==10:\n",
    "        print i, fight_urls[i]\n",
    "        break\n",
    "    \n",
    "    sock = urllib.urlopen(fight_urls[i]) # specific URL for a fight\n",
    "    fight_html = sock.read()\n",
    "    fight_soup = BeautifulSoup(fight_html, \"html.parser\")\n",
    "    trs = fight_soup.find_all('tr') # all the tables in each fight URL\n",
    "    headers = fight_soup.find_all('i')\n",
    "    bad_call = 0\n",
    "    try: \n",
    "        referee = str(headers[24].get_text()).split()[1] + ' ' + str(headers[24].get_text()).split()[-1]\n",
    "    except:\n",
    "        referee = None\n",
    "    try:\n",
    "        rounds = str(headers[18].get_text()).split()[1]\n",
    "    except:\n",
    "        rounds = None\n",
    "    try:\n",
    "        method = str(headers[17].get_text()).split()[0]\n",
    "    except:\n",
    "        method = None\n",
    "    try:\n",
    "        tr1 = str(trs[1].get_text()).split()\n",
    "        # Find the location of the 2nd table tr2 (it varies)\n",
    "        j = 0\n",
    "        while j < 10:\n",
    "            if str(trs[j].get_text()).split()[6] == 'Head':\n",
    "                #print j+1\n",
    "                tr2 = str(trs[j+1].get_text()).split()\n",
    "                j = 10\n",
    "            else:\n",
    "                j += 1\n",
    "        #print tr1; #print tr2\n",
    "        \n",
    "        # Test for the end of names\n",
    "        k = 0\n",
    "        while k < len(tr1):\n",
    "            try:\n",
    "                int(tr1[k])\n",
    "                break\n",
    "            except:\n",
    "                k += 1\n",
    "                continue\n",
    "        #print k\n",
    "    except:\n",
    "        print str(i) + ' bad call' if i%20 == 0 else None\n",
    "        bad_call += 1\n",
    "        continue\n",
    "\n",
    "\n",
    "    # Add each fighter's information to the dataframe\n",
    "    fighter1 = pd.DataFrame({'name_first': tr1[:1], 'name_last': tr1[1:2], 'kd': tr1[k], 'sig_strikes': tr1[k+2],\n",
    "    'sig_attempts': tr1[k+4], 'strikes': tr1[k+10], 'strike_attempts': tr1[k+12], 'takedowns': tr1[k+16],'td_attempts': tr1[k+18],\n",
    "    'sub_attempts': tr1[k+24], 'pass': tr1[k+26], 'reversals': tr1[k+28], 'head': tr2[k+8], 'head_attempts': tr2[k+10],\n",
    "    'body': tr2[k+14], 'body_attempts': tr2[k+16], 'leg': tr2[k+20], 'leg_attempts': tr2[k+22], 'distance': tr2[k+26],\n",
    "    'distance_attempts': tr2[k+28], 'clinch': tr2[k+32], 'clinch_attempts': tr2[k+34], 'ground': tr2[k+38], \n",
    "    'ground_attempts': tr2[k+40], 'win/loss': 1, 'referee': referee, 'round': rounds, 'method': method, 'fight_id': i,\n",
    "    'date': tr[x], 'location': tr[y], 'title': tr[z]})\n",
    "\n",
    "    fighter2 = pd.DataFrame({'name_first': tr1[2:3], 'name_last': tr1[3:4], 'kd': tr1[k+1], 'sig_strikes': tr1[k+5], \n",
    "    'sig_attempts': tr1[k+7], 'strikes': tr1[k+13], 'strike_attempts': tr1[k+15], 'takedowns': tr1[k+19],'td_attempts': tr1[k+21],\n",
    "    'sub_attempts': tr1[k+25], 'pass': tr1[k+27], 'reversals': tr1[k+29], 'head': tr2[k+11], 'head_attempts': tr2[k+13],\n",
    "    'body': tr2[k+17], 'body_attempts': tr2[k+19], 'leg': tr2[k+23], 'leg_attempts': tr2[k+25], 'distance': tr2[k+29],\n",
    "    'distance_attempts': tr2[k+31], 'clinch': tr2[k+35], 'clinch_attempts': tr2[k+37], 'ground': tr2[k+41], \n",
    "    'ground_attempts': tr2[k+43], 'win/loss': 0, 'referee': referee, 'round': rounds, 'method': method, 'fight_id': i,\n",
    "    'date': tr[x], 'location': tr[y], 'title': tr[z]})\n",
    "    \n",
    "    fighter_df = pd.concat([fighter_df, fighter1, fighter2], axis=0, ignore_index=True)\n",
    "    \n"
   ]
  },
  {
   "cell_type": "code",
   "execution_count": null,
   "metadata": {
    "collapsed": true,
    "deletable": true,
    "editable": true
   },
   "outputs": [],
   "source": []
  },
  {
   "cell_type": "code",
   "execution_count": null,
   "metadata": {
    "collapsed": true,
    "deletable": true,
    "editable": true
   },
   "outputs": [],
   "source": []
  },
  {
   "cell_type": "code",
   "execution_count": null,
   "metadata": {
    "collapsed": true,
    "deletable": true,
    "editable": true
   },
   "outputs": [],
   "source": []
  },
  {
   "cell_type": "code",
   "execution_count": null,
   "metadata": {
    "collapsed": true,
    "deletable": true,
    "editable": true
   },
   "outputs": [],
   "source": []
  }
 ],
 "metadata": {
  "anaconda-cloud": {},
  "kernelspec": {
   "display_name": "Python [conda env:DAND]",
   "language": "python",
   "name": "conda-env-DAND-py"
  },
  "language_info": {
   "codemirror_mode": {
    "name": "ipython",
    "version": 2
   },
   "file_extension": ".py",
   "mimetype": "text/x-python",
   "name": "python",
   "nbconvert_exporter": "python",
   "pygments_lexer": "ipython2",
   "version": "2.7.12"
  },
  "toc": {
   "nav_menu": {},
   "number_sections": true,
   "sideBar": true,
   "skip_h1_title": true,
   "toc_cell": true,
   "toc_position": {
    "height": "877px",
    "left": "0px",
    "right": "927px",
    "top": "106px",
    "width": "206px"
   },
   "toc_section_display": "block",
   "toc_window_display": true
  }
 },
 "nbformat": 4,
 "nbformat_minor": 1
}
