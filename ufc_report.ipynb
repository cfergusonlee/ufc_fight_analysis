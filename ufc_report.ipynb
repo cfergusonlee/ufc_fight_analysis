{
 "cells": [
  {
   "cell_type": "markdown",
   "metadata": {
    "_cell_guid": "6e5513b6-ee20-4f63-aa05-75bb5028652d",
    "_uuid": "ca856cb388c65fcd41ca38e28fe7d6c4ff60a1a1",
    "deletable": true,
    "editable": true
   },
   "source": [
    "# Annexure A : Code"
   ]
  },
  {
   "cell_type": "markdown",
   "metadata": {
    "_cell_guid": "2627be18-352a-422b-b206-906e2ad58ce8",
    "_uuid": "4d550657d3a62617db3061ae1660035d36b17423",
    "deletable": true,
    "editable": true
   },
   "source": [
    "## Problem Definition\n",
    "To Predict the winners of UFC Fights from each fighters' statistics prior to the fight. \n",
    "## Introduction\n",
    "In this report, we predict the results of MMA fights in the  Ultimate Fighting Championship (UFC) using machine learning algorithms. From past fights we created a feature set that includes fight result and player performance,which is broken down into various other features like number of kicks,punches etc. Using this data we formed decision trees in order to predict results of future fights. Our prediction is in one of four classes for each game: win, loss, draw or no contest. We're evaluating the following models: Perceptron,Random Forests,Decision Trees Classifier,SGD Classifier,Linear SVM,Gaussian NB,KNN,XGBoosted Trees.\n",
    "### Background\n",
    " MMA (Mixed Martial Arts) has developed gradually from barbaric, organised brawls to the fastest growing sport in the world, mainly because of the broadening of Ultimate Fighting Championship (UFC). Due to increase in popularity and love for the game we decided to create a prediction model for obtaining the results of a MMA fight. It has many real life applications such as gambling, journalism and improvement of player performance by scrutinizing the advantages of the other opponents and refining his own performance in accordance to that data. Today, the popularity of the UFC has exceeded all other fighting sports and now consistently achieves more pay-per-view (PPV) buys than boxing and even rivalling the WWE and hence we have settled on UFC for our prediction model. \n",
    "### Relevant Work\n",
    "Sports data has been well recorded and analysed. There have been many attempts to analyse baseball data , predicting the soccer match results by Ben Ulmer and Matthew Fernandez in which they use 8 different models to get the end result . Firstly they used the baseline model to reduce their 3 class classification to a only 2 class classification problem. Further naive bayes model , hidden markov model , support vector machines and random forest models were used. The least error in the data was given by the stochastic gradient descent model. But there have not been many attempts at analysing the data related to MMA(Mixed Martial Arts). One attempt comes from the article: “Betting on UFC Fights - A Statistical Data Analysis”, which uses a random forest classifier to extract several results from the data. Unfortunately, decision tree learning tends to overfit on training data, so in our case it may not be a good idea to use this method. Regardless, even if we uncover a model that can predict accurately the outcome of a match, the model itself will not be complete since we are not incorporating the fact that previous matches for a Fighter A may influence the outcome of his/her next match.\n",
    "Another attempt has been made by Ivan Suarez Robles and Joseph Wu to analyse and predicting  the outcome of a fight  between the two fighters. They are using three different types of learning algorithm for predicting the outcome of each UFC match which are the  Naive Bayes classifier, Logistic Regression, Support Vector Machines (SVMs). They have  also implemented K-means clustering to help categorize different styles of fighting and observe any trends between matches of different clusters.  \n",
    "## Data Description and Background\n",
    "Since our problem domain has never been implemented before, we had to analyse a lot of raw data to create our dataset. The UFC itself is provided data by an organization called FightMetric. FightMetric also offers a paid API service for people who want to get access to data. Since we did not have the resources to purchase this API, we ended up writing several scrapers in Python and Beautiful Soup to get access to data from the UFC website. We further used a Javascript API that pulls some of the fighter data from ufc.com. \n",
    "Further we had to write scripts to extract all the features from our JSONs objects that the scraper returned and convert them into a final cleaned up version of a CSV. \n",
    "Further since the Fightmetric APIs only provide fighter models - they provide either the most recent or an all time average of the fighter's statistics - this was not very helpful as we wanted to figure out how each fighter's statistics looked prior to each fight. Since highly granular data was only available post 2013, we were forced to start every fighter from point 0 at the beginning of 2014. We had to tally the records of every fight the fighter fought and add it to a running total, to get a snapshot of the fighter's statistics before each fight. "
   ]
  },
  {
   "cell_type": "code",
   "execution_count": null,
   "metadata": {
    "_cell_guid": "e9262f56-9ff2-44d3-a361-886b823a6403",
    "_execution_state": "idle",
    "_uuid": "c548d6eec8b6bf6f090e43f5139fd9047a5755b8",
    "collapsed": true,
    "deletable": true,
    "editable": true
   },
   "outputs": [],
   "source": [
    "# Imports and Helper Functions\n",
    "# data Analysis\n",
    "import pandas as pd\n",
    "import numpy as np\n",
    "import random as rng\n",
    "\n",
    "# Visualization\n",
    "import seaborn as sns\n",
    "import matplotlib.pyplot as plt\n",
    "%matplotlib inline\n",
    "\n",
    "#SciKit Learn Models\n",
    "from sklearn.linear_model import LogisticRegression\n",
    "from sklearn.svm import SVC, LinearSVC\n",
    "from sklearn.ensemble import RandomForestClassifier\n",
    "from sklearn.neighbors import KNeighborsClassifier\n",
    "from sklearn.naive_bayes import GaussianNB\n",
    "from sklearn.linear_model import Perceptron\n",
    "from sklearn.linear_model import SGDClassifier\n",
    "from sklearn.tree import DecisionTreeClassifier\n",
    "\n",
    "\n",
    "from sklearn.metrics import accuracy_score, classification_report,confusion_matrix\n",
    "\n",
    "from subprocess import check_output\n",
    "print(check_output([\"ls\", \"../input/ufcdataset\"]).decode(\"utf8\"))\n",
    "data = pd.read_csv(\"../input/ufcdataset/data.csv\")\n",
    "# Any results you write to the current directory are saved as output."
   ]
  },
  {
   "cell_type": "code",
   "execution_count": null,
   "metadata": {
    "_cell_guid": "380506f5-fa92-4c75-bc6e-7e5cc5583a93",
    "_execution_state": "idle",
    "_uuid": "e3eb27f2230353f40d1a892f6b1995cbdc421b99",
    "collapsed": true,
    "deletable": true,
    "editable": true
   },
   "outputs": [],
   "source": [
    "data.info()"
   ]
  },
  {
   "cell_type": "markdown",
   "metadata": {
    "_cell_guid": "26da2dbd-ee3d-415b-ada0-c720b9edb9bc",
    "_uuid": "7fd571569d28c952dd5e68cce1304c5ee1652ebc",
    "deletable": true,
    "editable": true
   },
   "source": [
    "## Description\n",
    "From this, we can see that we have a total of 879 Columns and one dependent variable. \n",
    "The columns themselves have 4 integer types (Streaks, Previous Wins etc), 5 object types (Names, Winner - basically strings and arrays) and 870 Float types. \n",
    "This however does not give us a complete picture of our data, so we're using a few other pandas functions to get a better glimpse. \n",
    "We also had to engineer a few features that weren't available in the JSONs as explained in the data explanation in the introduction of the project. "
   ]
  },
  {
   "cell_type": "code",
   "execution_count": null,
   "metadata": {
    "_cell_guid": "ba3bfa6d-5e56-4bcd-8169-4d08e477e0cc",
    "_execution_state": "idle",
    "_uuid": "e29a904583efa8edd40c4e59880663737708d6f5",
    "collapsed": true,
    "deletable": true,
    "editable": true
   },
   "outputs": [],
   "source": [
    "data.describe()"
   ]
  },
  {
   "cell_type": "code",
   "execution_count": null,
   "metadata": {
    "_cell_guid": "4e46f917-7980-4700-a2f6-a546a0180563",
    "_execution_state": "idle",
    "_uuid": "7192b9d7480193f492e5a5926c6829964df60de8",
    "collapsed": true,
    "deletable": true,
    "editable": true
   },
   "outputs": [],
   "source": [
    "data.describe(include=['O'])"
   ]
  },
  {
   "cell_type": "markdown",
   "metadata": {
    "_cell_guid": "8b474058-f555-4ded-abc7-6293cd3de5c4",
    "_uuid": "c8f2e32828edc864d985ff84bc5e71dfb502a71a",
    "deletable": true,
    "editable": true
   },
   "source": [
    "### Some Notes to observe\n",
    "1. Red Side seems to win slightly more than blue (867/1477 = 58.7%)\n",
    "2. Donald Cerrone fights on Red side more than any other fighter, with 11 fights\n",
    "3. Tim Means fights on Blue side more than any other fighter with 8\n",
    "4. There are more fighters fighting debut fights. This statistic however could be skewed by the fact that our data set assumes debuts of every fighter in 2013\n",
    "5. Most Fights are won by decision, and 2015 had the most fights. \n",
    "6. The Most common hometown and training location for fighters is Rei De Janeiro in Brazil\n",
    "We also notice that 3 fighters don't have an age and 1 doesn't have a height. "
   ]
  },
  {
   "cell_type": "code",
   "execution_count": null,
   "metadata": {
    "_cell_guid": "fdd943bf-0a43-48e8-97ca-39e8d0d1244c",
    "_execution_state": "idle",
    "_uuid": "23ac3e73a2c898d4a95c8545bc6bb5e1900e0af5",
    "collapsed": true,
    "deletable": true,
    "editable": true
   },
   "outputs": [],
   "source": [
    "data.head()"
   ]
  },
  {
   "cell_type": "code",
   "execution_count": null,
   "metadata": {
    "_cell_guid": "54be1239-9bb7-4c10-b70c-3c36f0eed4bd",
    "_execution_state": "idle",
    "_uuid": "2c95c96b0230a9fb5b5a01fd9ada7da5f01e288a",
    "collapsed": true,
    "deletable": true,
    "editable": true
   },
   "outputs": [],
   "source": [
    "data.tail()"
   ]
  },
  {
   "cell_type": "markdown",
   "metadata": {
    "_cell_guid": "4012f27d-ea2e-4ea0-9a35-a58797ec9921",
    "_uuid": "531cd3e1d9d08349c92332571212ca0a3d5d6789",
    "deletable": true,
    "editable": true
   },
   "source": [
    "Using the head() and tail() function calls of pandas lets us look at individual rows. In this case, we notice that a large number of columns in our dataset have NaN or Not a Number as an entry - this is how pandas interprets an empty field from our CSV. The reason the NaN values exist is because we have assumed that every fighter starts from zero in 2013. This means that before their first fight in the time beyond 2013, their previous record is blank. \n",
    "\n",
    "Pandas by default has two methods of dealing with NaN Values we can choose to either replace them with a value or drop them entirely.\n",
    "Since it is highly unlikely that any of our dataset has a value that isn't null, we chose to replace all the NaN with the value 0 instead. "
   ]
  },
  {
   "cell_type": "code",
   "execution_count": null,
   "metadata": {
    "_cell_guid": "f0f6efc0-d618-4fda-bbc4-437e25d4c23b",
    "_execution_state": "idle",
    "_uuid": "8ae33279e97416493a7c53b975077b5644e70929",
    "collapsed": true,
    "deletable": true,
    "editable": true
   },
   "outputs": [],
   "source": [
    "data.fillna(value=0,inplace=True)"
   ]
  },
  {
   "cell_type": "code",
   "execution_count": null,
   "metadata": {
    "_cell_guid": "b01618ff-511b-4994-94d4-6a49143bd77f",
    "_execution_state": "idle",
    "_uuid": "66dbc6948c0d4095d81b2b1dcae338fc52c0ccc2",
    "collapsed": true,
    "deletable": true,
    "editable": true
   },
   "outputs": [],
   "source": [
    "data.tail()"
   ]
  },
  {
   "cell_type": "markdown",
   "metadata": {
    "_cell_guid": "e4fc5eb1-bce1-4cc2-8ce2-4c672e23abfb",
    "_uuid": "60b14f9a264e3e970ebf1c578354677049a4d6e2",
    "deletable": true,
    "editable": true
   },
   "source": [
    "As you can see, the NaN have all been replaced with the value zero. \n",
    "Futher, it would behove us to remove identifying information from our model. And Since the Streaks and Previous Fight Columns have already been engineered, The Age Column has not been adjusted for each individual fight, but since our data is only 3 years old, it does not seem worth the effort to make an adjustment. +-3 from both fighters will add to about a .01% inaccuracy once we have combined our features. "
   ]
  },
  {
   "cell_type": "code",
   "execution_count": null,
   "metadata": {
    "_cell_guid": "dcbf2cfa-5536-4a0e-b476-8af4395f6ed4",
    "_execution_state": "idle",
    "_uuid": "e1c922d8e97a8c018a394b6277421b7e632eef37",
    "collapsed": true,
    "deletable": true,
    "editable": true
   },
   "outputs": [],
   "source": [
    "dropdata = data.drop(['B_ID','B_Name','R_ID','R_Name','winby','Date'],axis=1)\n",
    "dropdata.rename(columns={'BPrev':'B__Prev',\n",
    "                         'RPrev':'R__Prev',\n",
    "                         'B_Age':'B__Age',\n",
    "                         'B_Height':'B__Height',\n",
    "                         'B_Weight':'B__Weight',\n",
    "                         'R_Age':'R__Age',\n",
    "                         'R_Height':'R__Height',\n",
    "                         'R_Weight':'R__Weight',\n",
    "                         'BStreak':'B__Streak',\n",
    "                         'RStreak': 'R__Streak'},inplace=True)\n",
    "dropdata.describe()"
   ]
  },
  {
   "cell_type": "code",
   "execution_count": null,
   "metadata": {
    "_cell_guid": "16510a7a-a138-450f-a0f7-5790b934a6fa",
    "_execution_state": "idle",
    "_uuid": "293517e76b4cc146f6113100c2add1abd58cecb6",
    "collapsed": true,
    "deletable": true,
    "editable": true
   },
   "outputs": [],
   "source": [
    "dropdata.describe(include=['O'])"
   ]
  },
  {
   "cell_type": "markdown",
   "metadata": {
    "_cell_guid": "db811664-e0b5-4ae8-be12-385f0867051c",
    "_uuid": "df010f2f1a68472d4b6a6842669e9cd1bf5fa4a7",
    "deletable": true,
    "editable": true
   },
   "source": [
    "Next we need to convert our object types of columns into categorical columns. This is done to sort by logical order"
   ]
  },
  {
   "cell_type": "code",
   "execution_count": null,
   "metadata": {
    "_cell_guid": "09ee46c9-bd6f-4b7b-bc93-bfaf65e5b8ed",
    "_execution_state": "idle",
    "_uuid": "812983e28339ea7484b753e9e0bed7abed1a882e",
    "collapsed": true,
    "deletable": true,
    "editable": true
   },
   "outputs": [],
   "source": [
    "objecttypes = list(dropdata.select_dtypes(include=['O']).columns)\n",
    "for col in objecttypes:\n",
    "    dropdata[col] = dropdata[col].astype('category')"
   ]
  },
  {
   "cell_type": "code",
   "execution_count": null,
   "metadata": {
    "_cell_guid": "121ee705-4017-494a-a4e0-d4c95a44e670",
    "_execution_state": "idle",
    "_uuid": "a66b1f5ee32454a9df0eeebae6fa6e9e5450856e",
    "collapsed": true,
    "deletable": true,
    "editable": true
   },
   "outputs": [],
   "source": [
    "cat_columns = dropdata.select_dtypes(['category']).columns\n",
    "dropdata[cat_columns] = dropdata[cat_columns].apply(lambda x: x.cat.codes)\n",
    "dropdata.info()\n",
    "dropdata.tail()"
   ]
  },
  {
   "cell_type": "markdown",
   "metadata": {
    "_cell_guid": "93cbf393-b9a9-43ef-aa3a-db8a1d622a42",
    "_uuid": "c14b77c6610f405be31c9bb108c250d0f1c82512",
    "deletable": true,
    "editable": true
   },
   "source": [
    "## Data Correlation\n",
    "While it would otherwise be normal practise to draw a heatmap or correlation matrix of our data to look for linear relationships, this is highly illogical due to the sheer number of features we're currently looking at.  Instead we examine the n largest correlations with our dependent variable (winner) to look for linear relationships - as you can see from the plot below, the relationships (if they exist) are highly non-linear. This suggests that alterations to our Data Set are required. \n",
    "\n",
    "Further, it seems that Round 4 statistics for the Red Fighter are the more correlating, this suggests that a split or delta sort of data set should produce better results. "
   ]
  },
  {
   "cell_type": "code",
   "execution_count": null,
   "metadata": {
    "_cell_guid": "19a7fdf5-c0ad-417f-a148-5d43fc898200",
    "_execution_state": "idle",
    "_uuid": "aa26e59b89257c4c59483118f4d419a431fddb94",
    "collapsed": true,
    "deletable": true,
    "editable": true
   },
   "outputs": [],
   "source": [
    "# Basic Correlation Matrix\n",
    "# corrmat = data.corr()\n",
    "# f, ax = plt.subplots(figsize=(12, 9))\n",
    "# sns.heatmap(corrmat, vmax=.8, square=True);"
   ]
  },
  {
   "cell_type": "code",
   "execution_count": null,
   "metadata": {
    "_cell_guid": "7559d19f-3556-45c3-967e-993e806a8a31",
    "_execution_state": "idle",
    "_uuid": "550d7a49e20c535fb76ed1909c78a685b7aef2c6",
    "collapsed": true,
    "deletable": true,
    "editable": true
   },
   "outputs": [],
   "source": [
    "# Subset Correlation Matrix\n",
    "k = 10 #number of variables for heatmap\n",
    "corrmat = dropdata.corr()\n",
    "cols = corrmat.nlargest(k, 'winner')['winner'].index\n",
    "cm = np.corrcoef(dropdata[cols].values.T)\n",
    "sns.set(font_scale=1.25)\n",
    "hm = sns.heatmap(cm, cbar=True, annot=True, square=True, fmt='.2f', annot_kws={'size': 10}, yticklabels=cols.values, xticklabels=cols.values)\n",
    "plt.show()"
   ]
  },
  {
   "cell_type": "markdown",
   "metadata": {
    "_cell_guid": "3c79b362-3492-4b63-a7ca-a1f9b574818b",
    "_uuid": "5779211f437c1c8b5959675de8d760934fc3074d",
    "deletable": true,
    "editable": true
   },
   "source": [
    "## Modeling\n",
    "We're evaluating the following models\n",
    "\n",
    "1. Perceptron\n",
    "2. Random Forests\n",
    "3. Decision Trees Classifier\n",
    "4. SGD Classifier\n",
    "5. Linear SVC\n",
    "6. Gaussian NB\n",
    "7. KNN"
   ]
  },
  {
   "cell_type": "code",
   "execution_count": null,
   "metadata": {
    "_cell_guid": "2358b514-cb05-4acc-972d-c6668c3faa08",
    "_execution_state": "idle",
    "_uuid": "b848bf019778bab073e13f644bfe0f2d35a0d4e0",
    "collapsed": true,
    "deletable": true,
    "editable": true
   },
   "outputs": [],
   "source": [
    " #We Store prediction of each model in our dict\n",
    "# Helper Functions for our models. \n",
    "\n",
    "def percep(X_train,Y_train,X_test,Y_test,Models):\n",
    "    perceptron = Perceptron(max_iter = 1000, tol = 0.001)\n",
    "    perceptron.fit(X_train, Y_train)\n",
    "    Y_pred = perceptron.predict(X_test)\n",
    "    Models['Perceptron'] = [accuracy_score(Y_test,Y_pred),confusion_matrix(Y_test,Y_pred)]\n",
    "    return\n",
    "\n",
    "def ranfor(X_train,Y_train,X_test,Y_test,Models):\n",
    "    randomfor = RandomForestClassifier(max_features=\"sqrt\",\n",
    "                                       n_estimators = 700,\n",
    "                                       max_depth = None,\n",
    "                                       n_jobs=-1\n",
    "                                      )\n",
    "    randomfor.fit(X_train,Y_train)\n",
    "    Y_pred = randomfor.predict(X_test)\n",
    "    Models['Random Forests'] = [accuracy_score(Y_test,Y_pred),confusion_matrix(Y_test,Y_pred)]\n",
    "    return\n",
    "\n",
    "def dec_tree(X_train,Y_train,X_test,Y_test,Models):\n",
    "    decision_tree = DecisionTreeClassifier()\n",
    "    decision_tree.fit(X_train, Y_train)\n",
    "    Y_pred = decision_tree.predict(X_test)\n",
    "    Models['Decision Tree'] = [accuracy_score(Y_test,Y_pred),confusion_matrix(Y_test,Y_pred)]\n",
    "    return\n",
    "\n",
    "def SGDClass(X_train,Y_train,X_test,Y_test,Models):\n",
    "    sgd = SGDClassifier(max_iter = 1000, tol = 0.001)\n",
    "    sgd.fit(X_train, Y_train)\n",
    "    Y_pred = sgd.predict(X_test)\n",
    "    Models['SGD Classifier'] = [accuracy_score(Y_test,Y_pred),confusion_matrix(Y_test,Y_pred)]\n",
    "    return\n",
    "\n",
    "def linSVC(X_train,Y_train,X_test,Y_test,Models):\n",
    "    linear_svc = LinearSVC()\n",
    "    linear_svc.fit(X_train, Y_train)\n",
    "    Y_pred = linear_svc.predict(X_test)\n",
    "    Models['SVM'] = [accuracy_score(Y_test,Y_pred),confusion_matrix(Y_test,Y_pred)]\n",
    "    return\n",
    "\n",
    "def bayes(X_train,Y_train,X_test,Y_test,Models):\n",
    "    gaussian = GaussianNB()\n",
    "    gaussian.fit(X_train, Y_train)\n",
    "    Y_pred = gaussian.predict(X_test)\n",
    "    Models['Bayes'] = [accuracy_score(Y_test,Y_pred),confusion_matrix(Y_test,Y_pred)]\n",
    "    return\n",
    "\n",
    "def Nearest(X_train,Y_train,X_test,Y_test,Models):\n",
    "    knn = KNeighborsClassifier(n_neighbors = 3)\n",
    "    knn.fit(X_train, Y_train)\n",
    "    Y_pred = knn.predict(X_test)\n",
    "    Models['KNN'] = [accuracy_score(Y_test,Y_pred),confusion_matrix(Y_test,Y_pred)]\n",
    "\n",
    "def run_all_and_Plot(df):\n",
    "    Models = dict()\n",
    "    from sklearn.model_selection import train_test_split\n",
    "    X_all = df.drop(['winner'], axis=1)\n",
    "    y_all = df['winner']\n",
    "    X_train, X_test, Y_train, Y_test = train_test_split(X_all, y_all, test_size=0.2, random_state=0)\n",
    "    percep(X_train,Y_train,X_test,Y_test,Models)\n",
    "    ranfor(X_train,Y_train,X_test,Y_test,Models)\n",
    "    dec_tree(X_train,Y_train,X_test,Y_test,Models)\n",
    "    SGDClass(X_train,Y_train,X_test,Y_test,Models)\n",
    "    linSVC(X_train,Y_train,X_test,Y_test,Models)\n",
    "    bayes(X_train,Y_train,X_test,Y_test,Models)\n",
    "    Nearest(X_train,Y_train,X_test,Y_test,Models)\n",
    "    return Models\n",
    "\n",
    "\n",
    "def plot_bar(dict):\n",
    "    labels = tuple(dict.keys())\n",
    "    y_pos = np.arange(len(labels))\n",
    "    values = [dict[n][0] for n in dict]\n",
    "    plt.bar(y_pos, values, align='center', alpha=0.5)\n",
    "    plt.xticks(y_pos, labels,rotation='vertical')\n",
    "    plt.ylabel('accuracy')\n",
    "    plt.title('Accuracy of different models')\n",
    "    plt.show()\n",
    "\n",
    "\n",
    "def plot_cm(dict):\n",
    "    count = 1\n",
    "    fig = plt.figure(figsize=(10,10))\n",
    "    for model in dict:\n",
    "        cm = dict[model][1]\n",
    "        labels = ['W','L','N','D']\n",
    "        ax = fig.add_subplot(4,4,count)\n",
    "        cax = ax.matshow(cm)\n",
    "        plt.title(model,y=-0.8)\n",
    "        fig.colorbar(cax)\n",
    "        ax.set_xticklabels([''] + labels)\n",
    "        ax.set_yticklabels([''] + labels)\n",
    "        plt.xlabel('Predicted')\n",
    "        plt.ylabel('True')\n",
    "        # plt.subplot(2,2,count)\n",
    "        count+=1\n",
    "    plt.tight_layout()\n",
    "    plt.show()"
   ]
  },
  {
   "cell_type": "code",
   "execution_count": null,
   "metadata": {
    "_cell_guid": "42484153-a9ac-4b08-8b20-33fef52b7109",
    "_execution_state": "idle",
    "_uuid": "3152fd66ab1197f486355c1c742767ab8960f2b2",
    "collapsed": true,
    "deletable": true,
    "editable": true
   },
   "outputs": [],
   "source": [
    "accuracies = run_all_and_Plot(dropdata)\n",
    "CompareAll = dict()\n",
    "CompareAll['Baseline'] = accuracies\n",
    "for key,val in accuracies.items():\n",
    "    print(str(key) +' '+ str(val[0]))\n",
    "plot_bar(accuracies)\n",
    "plot_cm(accuracies)"
   ]
  },
  {
   "cell_type": "markdown",
   "metadata": {
    "_cell_guid": "a8c2e442-8ba8-485e-b0c7-db66e4a29909",
    "_uuid": "03dca6326695b2bfd58222eece36c75c315f39c9",
    "deletable": true,
    "editable": true
   },
   "source": [
    "Theoretically, we should get best results from our Random Forests Model, thus attempting to tune hyper parameters using GridSearch from Scikit learn"
   ]
  },
  {
   "cell_type": "code",
   "execution_count": null,
   "metadata": {
    "_cell_guid": "36458454-c9bd-4490-8c67-81395c60e44b",
    "_execution_state": "idle",
    "_uuid": "1ece9ef484f1dccdc754f106f094adb9f5d3b0ab",
    "collapsed": true,
    "deletable": true,
    "editable": true
   },
   "outputs": [],
   "source": [
    "from sklearn.model_selection import train_test_split\n",
    "from sklearn.grid_search import GridSearchCV\n",
    "#X_all = dropdata.drop(['winner'], axis=1)\n",
    "#y_all = dropdata['winner']\n",
    "#X_train, X_test, Y_train, Y_test = train_test_split(X_all, y_all, test_size=0.2, random_state=23)\n",
    "#rfc = RandomForestClassifier(n_jobs=-1,max_features= 'sqrt' ,n_estimators=50, oob_score = True, max_depth=None) \n",
    "#param_grid = { \n",
    "#    'n_estimators': [200,700],\n",
    "#    'max_features': ['auto', 'sqrt', 'log2']\n",
    "#}\n",
    "\n",
    "#CV_rfc = GridSearchCV(estimator=rfc, param_grid=param_grid, cv= 5)\n",
    "#CV_rfc.fit(X_train, Y_train)\n",
    "#print(CV_rfc.best_params_)"
   ]
  },
  {
   "cell_type": "markdown",
   "metadata": {
    "_cell_guid": "cff0584f-23fa-47dc-af33-0d1e9fefee61",
    "_uuid": "77432b8dbe0ab61054cc75eff306f5fa468c54ad",
    "deletable": true,
    "editable": true
   },
   "source": [
    "#### Trying to improve results by dividing features"
   ]
  },
  {
   "cell_type": "code",
   "execution_count": null,
   "metadata": {
    "_cell_guid": "19fed020-cd6f-4e96-88f1-3bb5fcc6d89c",
    "_execution_state": "idle",
    "_uuid": "929313bed2a81c876094b2a9561dbe2a29bde64c",
    "collapsed": true,
    "deletable": true,
    "editable": true
   },
   "outputs": [],
   "source": [
    "dontchange = ['winner','Event_ID','Fight_ID','Max_round','Last_round','B_Age','R_Age']\n",
    "numeric_cols = [col for col in dropdata if col not in dontchange]\n",
    "dropdata[numeric_cols] += 1 "
   ]
  },
  {
   "cell_type": "code",
   "execution_count": null,
   "metadata": {
    "_cell_guid": "ceb06d96-db42-4eb6-a69b-9f768915327d",
    "_execution_state": "idle",
    "_uuid": "984bd6d4d6befa7292782a2dc2901cde876d09fc",
    "collapsed": true,
    "deletable": true,
    "editable": true
   },
   "outputs": [],
   "source": [
    "newDF = dropdata.copy()\n",
    "blue_cols = [col for col in dropdata.columns if 'B__' in col]\n",
    "red_cols = [col for col in dropdata.columns if 'R__' in col]\n",
    "for (blue,red) in zip(blue_cols,red_cols):\n",
    "    newkey = ''.join(str(blue).split('_')[2:])\n",
    "    dropdata[newkey] = dropdata[str(blue)]/dropdata[str(red)]\n",
    "    del dropdata[str(blue)]\n",
    "    del dropdata[str(red)]"
   ]
  },
  {
   "cell_type": "code",
   "execution_count": null,
   "metadata": {
    "_cell_guid": "8a3a3718-685b-4e63-a766-ab7cc1bdc908",
    "_execution_state": "idle",
    "_uuid": "b21918fc4f94af7cbe2835af0652bb4968afb03f",
    "collapsed": true,
    "deletable": true,
    "editable": true
   },
   "outputs": [],
   "source": [
    "accuracies = run_all_and_Plot(dropdata)\n",
    "for key,val in accuracies.items():\n",
    "    print(str(key) +' '+ str(val[0]))\n",
    "CompareAll['Blue/Red'] = accuracies\n",
    "plot_bar(accuracies)\n",
    "plot_cm(accuracies)\n"
   ]
  },
  {
   "cell_type": "markdown",
   "metadata": {
    "_cell_guid": "2a7f9eae-66be-4c19-b127-922f10767673",
    "_uuid": "ea63206fcf4568e59a108845e911c3f74dd2bd11",
    "deletable": true,
    "editable": true
   },
   "source": [
    "#### Dropping Round 4 and Round 5 since most fights are 3 round Max. "
   ]
  },
  {
   "cell_type": "code",
   "execution_count": null,
   "metadata": {
    "_cell_guid": "787f1bcd-5abb-4001-8e2c-efd68250274b",
    "_execution_state": "idle",
    "_uuid": "134855cbdb329cbc78ce9c0943fd92591316b963",
    "collapsed": true,
    "deletable": true,
    "editable": true
   },
   "outputs": [],
   "source": [
    "r4 = [col for col in dropdata.columns if \"Round4\" in col]\n",
    "r5 = [col for col in dropdata.columns if \"Round5\" in col]\n",
    "threerounds = dropdata.drop(r4+r5,axis = 1)\n",
    "accuracies = run_all_and_Plot(threerounds)\n",
    "for key,val in accuracies.items():\n",
    "    print(str(key)+' '+str(val[0]))\n",
    "CompareAll['DropR4&R5'] = accuracies\n",
    "plot_bar(accuracies)\n",
    "plot_cm(accuracies)"
   ]
  },
  {
   "cell_type": "markdown",
   "metadata": {
    "_cell_guid": "95705518-197c-4460-93e2-afb5ffcf9b2d",
    "_uuid": "d66cf5933dd7ecb5c5c8864e3af0076361d14f39",
    "deletable": true,
    "editable": true
   },
   "source": [
    "#### Dropping 5 round fights entirely"
   ]
  },
  {
   "cell_type": "code",
   "execution_count": null,
   "metadata": {
    "_cell_guid": "33904436-d028-48bb-b5df-04de18a1d757",
    "_execution_state": "idle",
    "_uuid": "ad78f1b01511636b4304ac354756cdcc786cd032",
    "collapsed": true,
    "deletable": true,
    "editable": true
   },
   "outputs": [],
   "source": [
    "foobar = threerounds.loc[threerounds['Max_round'] == 3]\n",
    "bewb = threerounds.drop(['Max_round','Last_round'],axis=1)\n",
    "accuracies = run_all_and_Plot(bewb)\n",
    "for key,val in accuracies.items():\n",
    "    print(str(key)+' '+str(val[0]))\n",
    "CompareAll['Drop5RoundFights'] = accuracies\n",
    "plot_bar(accuracies)\n",
    "plot_cm(accuracies)"
   ]
  },
  {
   "cell_type": "markdown",
   "metadata": {
    "_cell_guid": "92e4152a-b7d1-49b8-b4aa-2bf527db625c",
    "_uuid": "15d6056717d18863b0d6d5e37f11676e9d50a379",
    "deletable": true,
    "editable": true
   },
   "source": [
    "#### Dropping First Fights"
   ]
  },
  {
   "cell_type": "code",
   "execution_count": null,
   "metadata": {
    "_cell_guid": "b7541f52-8875-4bf1-a0d3-18cf8cae67b9",
    "_execution_state": "idle",
    "_uuid": "f50f278e398522fe6f0c9df8f149ee43695b7b01",
    "collapsed": true,
    "deletable": true,
    "editable": true
   },
   "outputs": [],
   "source": [
    "blahblah = bewb[bewb.Prev != 1]\n",
    "accuracies = run_all_and_Plot(blahblah)\n",
    "for key,val in accuracies.items():\n",
    "    print(str(key)+' '+str(val[0]))\n",
    "CompareAll['DroppingDebut'] = accuracies\n",
    "plot_bar(accuracies)\n",
    "plot_cm(accuracies)"
   ]
  },
  {
   "cell_type": "code",
   "execution_count": null,
   "metadata": {
    "_cell_guid": "c8eab9e2-9b22-422c-9856-a08652d39ac1",
    "_execution_state": "idle",
    "_uuid": "b1d4556071d9f065d72433720955e33ba2c91497",
    "collapsed": true,
    "deletable": true,
    "editable": true
   },
   "outputs": [],
   "source": [
    "blue_cols\n",
    "newDF.info()\n",
    "b_feats = list(set([x[10:] for x in blue_cols if \"Round\" in x]))\n",
    "r_feats = list(set([x[10:] for x in red_cols if \"Round\" in x]))\n",
    "def sumshit(b_feats,cols):\n",
    "    for x in b_feats:\n",
    "        newDF.loc[:,x] = 0\n",
    "        for y in cols:\n",
    "            if x in y:\n",
    "                newDF[x] += newDF[y]\n",
    "                newDF.drop(y,axis=1,inplace=True)\n",
    "sumshit(b_feats,blue_cols)\n",
    "sumshit(r_feats,red_cols)\n",
    "newDF.info()\n"
   ]
  },
  {
   "cell_type": "code",
   "execution_count": null,
   "metadata": {
    "_cell_guid": "3926c4b2-8f38-443d-9e0f-a0c7c35c7b05",
    "_execution_state": "idle",
    "_uuid": "f7b198db886b7fccd5e6573aea33303f1b53e931",
    "collapsed": true,
    "deletable": true,
    "editable": true
   },
   "outputs": [],
   "source": [
    "newDF.describe()\n",
    "accuracies = run_all_and_Plot(newDF)\n",
    "for key,val in accuracies.items():\n",
    "    print(str(key) +' '+ str(val[0]))\n",
    "CompareAll['SumRounds'] = accuracies\n",
    "plot_bar(accuracies)\n",
    "plot_cm(accuracies)\n",
    "\n"
   ]
  },
  {
   "cell_type": "code",
   "execution_count": null,
   "metadata": {
    "_cell_guid": "f1338ea2-1811-42a7-856b-fa74f655b5a7",
    "_execution_state": "idle",
    "_uuid": "0133b07cdef4add8e5cb1a52707fdcf2b29d234d",
    "collapsed": true,
    "deletable": true,
    "editable": true
   },
   "outputs": [],
   "source": [
    "blue_cols = [col for col in newDF.columns if 'B__' in col]\n",
    "red_cols = [col for col in newDF.columns if 'R__' in col]\n",
    "for (blue,red) in zip(blue_cols,red_cols):\n",
    "    newkey = ''.join(str(blue).split('_')[2:])\n",
    "    newDF[newkey] = newDF[str(blue)]/newDF[str(red)]\n",
    "    del newDF[str(blue)]\n",
    "    del newDF[str(red)]"
   ]
  },
  {
   "cell_type": "code",
   "execution_count": null,
   "metadata": {
    "_cell_guid": "1ca5d30c-54c9-4ab3-82a6-cdfed729e479",
    "_execution_state": "idle",
    "_uuid": "e2c770779f3ad517aaa985c706551fceec266221",
    "collapsed": true,
    "deletable": true,
    "editable": true
   },
   "outputs": [],
   "source": [
    "accuracies = run_all_and_Plot(newDF)\n",
    "for key,val in accuracies.items():\n",
    "    print(str(key) +' '+ str(val[0]))\n",
    "CompareAll['SumRounds'] = accuracies\n",
    "plot_bar(accuracies)\n",
    "plot_cm(accuracies)"
   ]
  },
  {
   "cell_type": "code",
   "execution_count": null,
   "metadata": {
    "_cell_guid": "4e399915-898f-4ab7-960b-690042a93f6c",
    "_execution_state": "idle",
    "_uuid": "94a56148aca4bc655515e369b11e3c5b5671925f",
    "collapsed": true,
    "deletable": true,
    "editable": true
   },
   "outputs": [],
   "source": [
    "reduced_features = newDF.drop([\"Weight\",\"B_HomeTown\",\"B_Location\", \"Event_ID\", \"Fight_ID\", \"Max_round\", \"Last_round\", \"R_HomeTown\", \"R_Location\"],axis = 1)\n",
    "accuracies = run_all_and_Plot(reduced_features)\n",
    "for key,val in accuracies.items():\n",
    "    print(str(key) +' '+ str(val[0]))\n",
    "CompareAll['Idunno'] = accuracies\n",
    "plot_bar(accuracies)\n",
    "plot_cm(accuracies)\n"
   ]
  },
  {
   "cell_type": "code",
   "execution_count": null,
   "metadata": {
    "_execution_state": "idle",
    "_uuid": "751ceb20a9476237c792a87034de91e5bcbbcb71",
    "collapsed": false,
    "deletable": true,
    "editable": true
   },
   "outputs": [],
   "source": [
    "reduced_features.info()"
   ]
  },
  {
   "cell_type": "markdown",
   "metadata": {
    "_cell_guid": "adce3876-6f57-4501-8650-91ccc6d7d7ab",
    "_uuid": "1fdbd098b562a7eee62122583bc083f9610439a0",
    "deletable": true,
    "editable": true
   },
   "source": [
    "## Conclusion\n",
    "Our model has a best predictive value that lies between 58-63% on average between runs. Despite a very low accuracy model, we believe this is the best possible given the amount of available data and its inherent noise. \n",
    "\n",
    "## Future Work\n",
    "1. With time, data available should increase\n",
    "2. Further manipulations with our data set. \n"
   ]
  }
 ],
 "metadata": {
  "kernelspec": {
   "display_name": "Python [conda env:py36]",
   "language": "python",
   "name": "conda-env-py36-py"
  },
  "language_info": {
   "codemirror_mode": {
    "name": "ipython",
    "version": 3
   },
   "file_extension": ".py",
   "mimetype": "text/x-python",
   "name": "python",
   "nbconvert_exporter": "python",
   "pygments_lexer": "ipython3",
   "version": "3.6.1"
  }
 },
 "nbformat": 4,
 "nbformat_minor": 1
}
